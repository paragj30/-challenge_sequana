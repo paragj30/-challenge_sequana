{
  "nbformat": 4,
  "nbformat_minor": 0,
  "metadata": {
    "colab": {
      "provenance": [],
      "authorship_tag": "ABX9TyPM8zxQ0OSN+mV2/2FdwSrB",
      "include_colab_link": true
    },
    "kernelspec": {
      "name": "python3",
      "display_name": "Python 3"
    },
    "language_info": {
      "name": "python"
    },
    "accelerator": "GPU",
    "gpuClass": "standard"
  },
  "cells": [
    {
      "cell_type": "markdown",
      "metadata": {
        "id": "view-in-github",
        "colab_type": "text"
      },
      "source": [
        "<a href=\"https://colab.research.google.com/github/paragj30/-challenge_sequana/blob/main/seqana_satellite_data.ipynb\" target=\"_parent\"><img src=\"https://colab.research.google.com/assets/colab-badge.svg\" alt=\"Open In Colab\"/></a>"
      ]
    },
    {
      "cell_type": "markdown",
      "source": [
        "#Import Libraries "
      ],
      "metadata": {
        "id": "3o_btUxs2xty"
      }
    },
    {
      "cell_type": "code",
      "execution_count": 39,
      "metadata": {
        "id": "CtU_aJV1o2lX"
      },
      "outputs": [],
      "source": [
        "import os\n",
        "\n",
        "\n",
        "import pandas as pd\n",
        "import numpy as np\n",
        "from scipy.stats import normaltest,shapiro\n",
        "import seaborn as sns\n",
        "import matplotlib.pyplot as plt\n",
        "%matplotlib inline\n",
        "\n",
        "\n",
        "from sklearn.model_selection import train_test_split\n",
        "from sklearn.feature_selection import chi2, mutual_info_classif\n",
        "from sklearn.preprocessing import StandardScaler, MinMaxScaler\n",
        "from sklearn.decomposition import PCA\n",
        "from sklearn.linear_model import LinearRegression\n",
        "from sklearn.neighbors import KNeighborsRegressor\n",
        "from sklearn.tree import DecisionTreeRegressor\n",
        "from sklearn.ensemble import RandomForestRegressor, AdaBoostRegressor\n",
        "from sklearn.svm import SVR\n",
        "from sklearn.model_selection import GridSearchCV, RandomizedSearchCV\n",
        "from sklearn.metrics import r2_score, mean_absolute_error, mean_squared_error"
      ]
    },
    {
      "cell_type": "markdown",
      "source": [
        "Here, I've imported 3 types of Libraries\n",
        "\n",
        "a) Inbuilt Library\n",
        "\n",
        "\n",
        "b) Third-Party Library\n",
        "\n",
        "\n",
        "c) Skitlearn Library"
      ],
      "metadata": {
        "id": "ugijTnWH9Izg"
      }
    },
    {
      "cell_type": "markdown",
      "source": [
        "# Load Dataset"
      ],
      "metadata": {
        "id": "MtJSmB8j22_4"
      }
    },
    {
      "cell_type": "code",
      "source": [
        "df = pd.read_csv('221202_seqana_data_science_working_student_challenge_dataset.csv')\n",
        "df.head()"
      ],
      "metadata": {
        "colab": {
          "base_uri": "https://localhost:8080/",
          "height": 300
        },
        "id": "LoURuY6Bp4-e",
        "outputId": "c8acdf32-cb38-4ebf-e1da-704dc6f4f9fb"
      },
      "execution_count": 2,
      "outputs": [
        {
          "output_type": "execute_result",
          "data": {
            "text/plain": [
              "   year  dem_nasa_dem30    dem_merit  dem_gmted  dem_srtm90_v4  \\\n",
              "0  2012             894   899.792969        898            892   \n",
              "1  2011              61    56.898190         58             58   \n",
              "2  2011              92    92.471191         89             91   \n",
              "3  2011            1560  1572.300049       1622           1570   \n",
              "4  2011            1176  1175.498901       1179           1176   \n",
              "\n",
              "   dem_nasa_srtm30  dem_usgs_ned  terrain_topo_div_alos_constant  \\\n",
              "0              894    895.900574                        0.306919   \n",
              "1               57     58.000286                        0.123088   \n",
              "2               90     92.729630                        0.046061   \n",
              "3             1549   1547.678345                        0.781243   \n",
              "4             1176   1170.957031                        0.210475   \n",
              "\n",
              "   terrain_mtpi_alos_AVE  terrain_chili_alos_constant  ...  \\\n",
              "0                     -4                          183  ...   \n",
              "1                     -7                          181  ...   \n",
              "2                     -1                          181  ...   \n",
              "3                    -17                          160  ...   \n",
              "4                     -2                          181  ...   \n",
              "\n",
              "   sur_refl_b02_mean_sampling_year  sur_refl_b03_mean_sampling_year  \\\n",
              "0                      3374.608696                      1089.260870   \n",
              "1                      2709.608696                       374.478261   \n",
              "2                      3195.043478                       414.347826   \n",
              "3                      4063.727273                      1790.043478   \n",
              "4                      2652.260870                      1022.217391   \n",
              "\n",
              "   sur_refl_b07_mean_sampling_year  evi_std_sampling_year  \\\n",
              "0                      1546.869565            1574.503874   \n",
              "1                      1166.391304            1582.043952   \n",
              "2                      1221.347826            1927.965549   \n",
              "3                       928.956522            1010.631962   \n",
              "4                       864.565217             646.826519   \n",
              "\n",
              "   ndvi_std_sampling_year  sur_refl_b01_std_sampling_year  \\\n",
              "0             2215.650847                     1688.021295   \n",
              "1             1427.600306                      307.310126   \n",
              "2             1960.699712                      583.722087   \n",
              "3             1903.293570                     2179.134552   \n",
              "4             1687.594992                      922.467112   \n",
              "\n",
              "   sur_refl_b02_std_sampling_year  sur_refl_b03_std_sampling_year  \\\n",
              "0                     1375.511632                     1220.169482   \n",
              "1                      999.502956                      167.002686   \n",
              "2                     1090.225101                      322.372259   \n",
              "3                     2019.112468                     1884.017720   \n",
              "4                      857.199362                     1366.888502   \n",
              "\n",
              "   sur_refl_b07_std_sampling_year  soc_stock_t_ha  \n",
              "0                      654.961158       68.793925  \n",
              "1                      501.502718       87.265779  \n",
              "2                      434.762277       96.650384  \n",
              "3                      472.453507       68.400738  \n",
              "4                      303.002824       35.314235  \n",
              "\n",
              "[5 rows x 306 columns]"
            ],
            "text/html": [
              "\n",
              "  <div id=\"df-f58f1d5e-cdbf-46db-ab9a-a850f19eb601\">\n",
              "    <div class=\"colab-df-container\">\n",
              "      <div>\n",
              "<style scoped>\n",
              "    .dataframe tbody tr th:only-of-type {\n",
              "        vertical-align: middle;\n",
              "    }\n",
              "\n",
              "    .dataframe tbody tr th {\n",
              "        vertical-align: top;\n",
              "    }\n",
              "\n",
              "    .dataframe thead th {\n",
              "        text-align: right;\n",
              "    }\n",
              "</style>\n",
              "<table border=\"1\" class=\"dataframe\">\n",
              "  <thead>\n",
              "    <tr style=\"text-align: right;\">\n",
              "      <th></th>\n",
              "      <th>year</th>\n",
              "      <th>dem_nasa_dem30</th>\n",
              "      <th>dem_merit</th>\n",
              "      <th>dem_gmted</th>\n",
              "      <th>dem_srtm90_v4</th>\n",
              "      <th>dem_nasa_srtm30</th>\n",
              "      <th>dem_usgs_ned</th>\n",
              "      <th>terrain_topo_div_alos_constant</th>\n",
              "      <th>terrain_mtpi_alos_AVE</th>\n",
              "      <th>terrain_chili_alos_constant</th>\n",
              "      <th>...</th>\n",
              "      <th>sur_refl_b02_mean_sampling_year</th>\n",
              "      <th>sur_refl_b03_mean_sampling_year</th>\n",
              "      <th>sur_refl_b07_mean_sampling_year</th>\n",
              "      <th>evi_std_sampling_year</th>\n",
              "      <th>ndvi_std_sampling_year</th>\n",
              "      <th>sur_refl_b01_std_sampling_year</th>\n",
              "      <th>sur_refl_b02_std_sampling_year</th>\n",
              "      <th>sur_refl_b03_std_sampling_year</th>\n",
              "      <th>sur_refl_b07_std_sampling_year</th>\n",
              "      <th>soc_stock_t_ha</th>\n",
              "    </tr>\n",
              "  </thead>\n",
              "  <tbody>\n",
              "    <tr>\n",
              "      <th>0</th>\n",
              "      <td>2012</td>\n",
              "      <td>894</td>\n",
              "      <td>899.792969</td>\n",
              "      <td>898</td>\n",
              "      <td>892</td>\n",
              "      <td>894</td>\n",
              "      <td>895.900574</td>\n",
              "      <td>0.306919</td>\n",
              "      <td>-4</td>\n",
              "      <td>183</td>\n",
              "      <td>...</td>\n",
              "      <td>3374.608696</td>\n",
              "      <td>1089.260870</td>\n",
              "      <td>1546.869565</td>\n",
              "      <td>1574.503874</td>\n",
              "      <td>2215.650847</td>\n",
              "      <td>1688.021295</td>\n",
              "      <td>1375.511632</td>\n",
              "      <td>1220.169482</td>\n",
              "      <td>654.961158</td>\n",
              "      <td>68.793925</td>\n",
              "    </tr>\n",
              "    <tr>\n",
              "      <th>1</th>\n",
              "      <td>2011</td>\n",
              "      <td>61</td>\n",
              "      <td>56.898190</td>\n",
              "      <td>58</td>\n",
              "      <td>58</td>\n",
              "      <td>57</td>\n",
              "      <td>58.000286</td>\n",
              "      <td>0.123088</td>\n",
              "      <td>-7</td>\n",
              "      <td>181</td>\n",
              "      <td>...</td>\n",
              "      <td>2709.608696</td>\n",
              "      <td>374.478261</td>\n",
              "      <td>1166.391304</td>\n",
              "      <td>1582.043952</td>\n",
              "      <td>1427.600306</td>\n",
              "      <td>307.310126</td>\n",
              "      <td>999.502956</td>\n",
              "      <td>167.002686</td>\n",
              "      <td>501.502718</td>\n",
              "      <td>87.265779</td>\n",
              "    </tr>\n",
              "    <tr>\n",
              "      <th>2</th>\n",
              "      <td>2011</td>\n",
              "      <td>92</td>\n",
              "      <td>92.471191</td>\n",
              "      <td>89</td>\n",
              "      <td>91</td>\n",
              "      <td>90</td>\n",
              "      <td>92.729630</td>\n",
              "      <td>0.046061</td>\n",
              "      <td>-1</td>\n",
              "      <td>181</td>\n",
              "      <td>...</td>\n",
              "      <td>3195.043478</td>\n",
              "      <td>414.347826</td>\n",
              "      <td>1221.347826</td>\n",
              "      <td>1927.965549</td>\n",
              "      <td>1960.699712</td>\n",
              "      <td>583.722087</td>\n",
              "      <td>1090.225101</td>\n",
              "      <td>322.372259</td>\n",
              "      <td>434.762277</td>\n",
              "      <td>96.650384</td>\n",
              "    </tr>\n",
              "    <tr>\n",
              "      <th>3</th>\n",
              "      <td>2011</td>\n",
              "      <td>1560</td>\n",
              "      <td>1572.300049</td>\n",
              "      <td>1622</td>\n",
              "      <td>1570</td>\n",
              "      <td>1549</td>\n",
              "      <td>1547.678345</td>\n",
              "      <td>0.781243</td>\n",
              "      <td>-17</td>\n",
              "      <td>160</td>\n",
              "      <td>...</td>\n",
              "      <td>4063.727273</td>\n",
              "      <td>1790.043478</td>\n",
              "      <td>928.956522</td>\n",
              "      <td>1010.631962</td>\n",
              "      <td>1903.293570</td>\n",
              "      <td>2179.134552</td>\n",
              "      <td>2019.112468</td>\n",
              "      <td>1884.017720</td>\n",
              "      <td>472.453507</td>\n",
              "      <td>68.400738</td>\n",
              "    </tr>\n",
              "    <tr>\n",
              "      <th>4</th>\n",
              "      <td>2011</td>\n",
              "      <td>1176</td>\n",
              "      <td>1175.498901</td>\n",
              "      <td>1179</td>\n",
              "      <td>1176</td>\n",
              "      <td>1176</td>\n",
              "      <td>1170.957031</td>\n",
              "      <td>0.210475</td>\n",
              "      <td>-2</td>\n",
              "      <td>181</td>\n",
              "      <td>...</td>\n",
              "      <td>2652.260870</td>\n",
              "      <td>1022.217391</td>\n",
              "      <td>864.565217</td>\n",
              "      <td>646.826519</td>\n",
              "      <td>1687.594992</td>\n",
              "      <td>922.467112</td>\n",
              "      <td>857.199362</td>\n",
              "      <td>1366.888502</td>\n",
              "      <td>303.002824</td>\n",
              "      <td>35.314235</td>\n",
              "    </tr>\n",
              "  </tbody>\n",
              "</table>\n",
              "<p>5 rows × 306 columns</p>\n",
              "</div>\n",
              "      <button class=\"colab-df-convert\" onclick=\"convertToInteractive('df-f58f1d5e-cdbf-46db-ab9a-a850f19eb601')\"\n",
              "              title=\"Convert this dataframe to an interactive table.\"\n",
              "              style=\"display:none;\">\n",
              "        \n",
              "  <svg xmlns=\"http://www.w3.org/2000/svg\" height=\"24px\"viewBox=\"0 0 24 24\"\n",
              "       width=\"24px\">\n",
              "    <path d=\"M0 0h24v24H0V0z\" fill=\"none\"/>\n",
              "    <path d=\"M18.56 5.44l.94 2.06.94-2.06 2.06-.94-2.06-.94-.94-2.06-.94 2.06-2.06.94zm-11 1L8.5 8.5l.94-2.06 2.06-.94-2.06-.94L8.5 2.5l-.94 2.06-2.06.94zm10 10l.94 2.06.94-2.06 2.06-.94-2.06-.94-.94-2.06-.94 2.06-2.06.94z\"/><path d=\"M17.41 7.96l-1.37-1.37c-.4-.4-.92-.59-1.43-.59-.52 0-1.04.2-1.43.59L10.3 9.45l-7.72 7.72c-.78.78-.78 2.05 0 2.83L4 21.41c.39.39.9.59 1.41.59.51 0 1.02-.2 1.41-.59l7.78-7.78 2.81-2.81c.8-.78.8-2.07 0-2.86zM5.41 20L4 18.59l7.72-7.72 1.47 1.35L5.41 20z\"/>\n",
              "  </svg>\n",
              "      </button>\n",
              "      \n",
              "  <style>\n",
              "    .colab-df-container {\n",
              "      display:flex;\n",
              "      flex-wrap:wrap;\n",
              "      gap: 12px;\n",
              "    }\n",
              "\n",
              "    .colab-df-convert {\n",
              "      background-color: #E8F0FE;\n",
              "      border: none;\n",
              "      border-radius: 50%;\n",
              "      cursor: pointer;\n",
              "      display: none;\n",
              "      fill: #1967D2;\n",
              "      height: 32px;\n",
              "      padding: 0 0 0 0;\n",
              "      width: 32px;\n",
              "    }\n",
              "\n",
              "    .colab-df-convert:hover {\n",
              "      background-color: #E2EBFA;\n",
              "      box-shadow: 0px 1px 2px rgba(60, 64, 67, 0.3), 0px 1px 3px 1px rgba(60, 64, 67, 0.15);\n",
              "      fill: #174EA6;\n",
              "    }\n",
              "\n",
              "    [theme=dark] .colab-df-convert {\n",
              "      background-color: #3B4455;\n",
              "      fill: #D2E3FC;\n",
              "    }\n",
              "\n",
              "    [theme=dark] .colab-df-convert:hover {\n",
              "      background-color: #434B5C;\n",
              "      box-shadow: 0px 1px 3px 1px rgba(0, 0, 0, 0.15);\n",
              "      filter: drop-shadow(0px 1px 2px rgba(0, 0, 0, 0.3));\n",
              "      fill: #FFFFFF;\n",
              "    }\n",
              "  </style>\n",
              "\n",
              "      <script>\n",
              "        const buttonEl =\n",
              "          document.querySelector('#df-f58f1d5e-cdbf-46db-ab9a-a850f19eb601 button.colab-df-convert');\n",
              "        buttonEl.style.display =\n",
              "          google.colab.kernel.accessAllowed ? 'block' : 'none';\n",
              "\n",
              "        async function convertToInteractive(key) {\n",
              "          const element = document.querySelector('#df-f58f1d5e-cdbf-46db-ab9a-a850f19eb601');\n",
              "          const dataTable =\n",
              "            await google.colab.kernel.invokeFunction('convertToInteractive',\n",
              "                                                     [key], {});\n",
              "          if (!dataTable) return;\n",
              "\n",
              "          const docLinkHtml = 'Like what you see? Visit the ' +\n",
              "            '<a target=\"_blank\" href=https://colab.research.google.com/notebooks/data_table.ipynb>data table notebook</a>'\n",
              "            + ' to learn more about interactive tables.';\n",
              "          element.innerHTML = '';\n",
              "          dataTable['output_type'] = 'display_data';\n",
              "          await google.colab.output.renderOutput(dataTable, element);\n",
              "          const docLink = document.createElement('div');\n",
              "          docLink.innerHTML = docLinkHtml;\n",
              "          element.appendChild(docLink);\n",
              "        }\n",
              "      </script>\n",
              "    </div>\n",
              "  </div>\n",
              "  "
            ]
          },
          "metadata": {},
          "execution_count": 2
        }
      ]
    },
    {
      "cell_type": "markdown",
      "source": [
        "Load the dataset files with csv extension from the dataset folder."
      ],
      "metadata": {
        "id": "dy8WJQQD9VFt"
      }
    },
    {
      "cell_type": "markdown",
      "source": [
        "# Exploratory Data Analysis(EDA)"
      ],
      "metadata": {
        "id": "UTnmyxTY277T"
      }
    },
    {
      "cell_type": "markdown",
      "source": [
        "### Normality"
      ],
      "metadata": {
        "id": "nNKWvAWs5YHc"
      }
    },
    {
      "cell_type": "code",
      "source": [
        "sns.kdeplot(df['terrain_mtpi_alos_AVE'], fill = True)"
      ],
      "metadata": {
        "colab": {
          "base_uri": "https://localhost:8080/",
          "height": 297
        },
        "id": "W_C6DW6Z43DM",
        "outputId": "431fd155-38a7-46f8-e596-00e6beff3385"
      },
      "execution_count": 3,
      "outputs": [
        {
          "output_type": "execute_result",
          "data": {
            "text/plain": [
              "<matplotlib.axes._subplots.AxesSubplot at 0x7fc985d8d700>"
            ]
          },
          "metadata": {},
          "execution_count": 3
        },
        {
          "output_type": "display_data",
          "data": {
            "text/plain": [
              "<Figure size 432x288 with 1 Axes>"
            ],
            "image/png": "[encoded data removed]"
          },
          "metadata": {
            "needs_background": "light"
          }
        }
      ]
    },
    {
      "cell_type": "code",
      "source": [
        "sns.kdeplot(df['dem_merit'], fill = True)"
      ],
      "metadata": {
        "colab": {
          "base_uri": "https://localhost:8080/",
          "height": 298
        },
        "id": "CbanELZF48pz",
        "outputId": "cc397c76-bf59-4af6-b211-0e3939c1ae40"
      },
      "execution_count": 4,
      "outputs": [
        {
          "output_type": "execute_result",
          "data": {
            "text/plain": [
              "<matplotlib.axes._subplots.AxesSubplot at 0x7fc983cf4e20>"
            ]
          },
          "metadata": {},
          "execution_count": 4
        },
        {
          "output_type": "display_data",
          "data": {
            "text/plain": [
              "<Figure size 432x288 with 1 Axes>"
            ],
            "image/png": "[encoded data removed]"
          },
          "metadata": {
            "needs_background": "light"
          }
        }
      ]
    },
    {
      "cell_type": "code",
      "source": [
        "sns.kdeplot(df['dem_usgs_ned'], fill = True)"
      ],
      "metadata": {
        "colab": {
          "base_uri": "https://localhost:8080/",
          "height": 298
        },
        "id": "SiNVqVmF5P9x",
        "outputId": "0b83ff0f-1d9d-43b0-a78f-27adeb6fb598"
      },
      "execution_count": 5,
      "outputs": [
        {
          "output_type": "execute_result",
          "data": {
            "text/plain": [
              "<matplotlib.axes._subplots.AxesSubplot at 0x7fc983813fd0>"
            ]
          },
          "metadata": {},
          "execution_count": 5
        },
        {
          "output_type": "display_data",
          "data": {
            "text/plain": [
              "<Figure size 432x288 with 1 Axes>"
            ],
            "image/png": "[encoded data removed]"
          },
          "metadata": {
            "needs_background": "light"
          }
        }
      ]
    },
    {
      "cell_type": "code",
      "source": [
        "sns.displot(df['sur_refl_b02_mean_sampling_year'],color='darkred',bins=30)"
      ],
      "metadata": {
        "colab": {
          "base_uri": "https://localhost:8080/",
          "height": 386
        },
        "id": "lf7E-8y9655A",
        "outputId": "ef2671ba-6f1e-4c50-fe16-d3409741bf4c"
      },
      "execution_count": 6,
      "outputs": [
        {
          "output_type": "execute_result",
          "data": {
            "text/plain": [
              "<seaborn.axisgrid.FacetGrid at 0x7f756a679850>"
            ]
          },
          "metadata": {},
          "execution_count": 6
        },
        {
          "output_type": "display_data",
          "data": {
            "text/plain": [
              "<Figure size 360x360 with 1 Axes>"
            ],
            "image/png": "[encoded data removed]"
          },
          "metadata": {
            "needs_background": "light"
          }
        }
      ]
    },
    {
      "cell_type": "code",
      "source": [
        "df['sur_refl_b02_mean_sampling_year'].hist(color='darkred',bins=30,alpha=0.3)"
      ],
      "metadata": {
        "colab": {
          "base_uri": "https://localhost:8080/",
          "height": 286
        },
        "id": "-iqk6FDA658a",
        "outputId": "1eeb3a2b-6943-4b5e-b14b-38e22e7f76b2"
      },
      "execution_count": 7,
      "outputs": [
        {
          "output_type": "execute_result",
          "data": {
            "text/plain": [
              "<matplotlib.axes._subplots.AxesSubplot at 0x7f75680b72b0>"
            ]
          },
          "metadata": {},
          "execution_count": 7
        },
        {
          "output_type": "display_data",
          "data": {
            "text/plain": [
              "<Figure size 432x288 with 1 Axes>"
            ],
            "image/png": "[encoded data removed]"
          },
          "metadata": {
            "needs_background": "light"
          }
        }
      ]
    },
    {
      "cell_type": "code",
      "source": [
        "plt.figure(figsize=(5,5))\n",
        "plt.hist(df['sur_refl_b02_mean_sampling_year'])\n",
        "plt.title('surface Reflecation')\n",
        "plt.xlabel('sur_refl_b02')\n",
        "plt.ylabel('Number of sur_refl_b02')\n",
        "plt.show()"
      ],
      "metadata": {
        "colab": {
          "base_uri": "https://localhost:8080/",
          "height": 351
        },
        "id": "NGII8rZo7Vlg",
        "outputId": "bad9eae0-509d-4894-d0f7-972235074dcd"
      },
      "execution_count": 8,
      "outputs": [
        {
          "output_type": "display_data",
          "data": {
            "text/plain": [
              "<Figure size 360x360 with 1 Axes>"
            ],
            "image/png": "[encoded data removed]"
          },
          "metadata": {
            "needs_background": "light"
          }
        }
      ]
    },
    {
      "cell_type": "markdown",
      "source": [
        "## Outlier's Detection"
      ],
      "metadata": {
        "id": "OOVsitw43esj"
      }
    },
    {
      "cell_type": "markdown",
      "source": [
        "### Normaltest & Shapiro"
      ],
      "metadata": {
        "id": "uvFmU3Q45nY7"
      }
    },
    {
      "cell_type": "code",
      "source": [
        "status,p_val = normaltest(df['soil_grids_soc_5_15'])\n",
        "print('p value is :', p_val)\n",
        "if p_val.all() > 0.05:\n",
        "    print('Null hypothesis >> Data is Normally Distributed')\n",
        "else:\n",
        "    print('Alternate Hypothesis >> Data is not Normally distributed')"
      ],
      "metadata": {
        "colab": {
          "base_uri": "https://localhost:8080/"
        },
        "id": "mydW_GRdqMoO",
        "outputId": "66566de4-adfa-41eb-d115-dd6cc4c439b7"
      },
      "execution_count": 10,
      "outputs": [
        {
          "output_type": "stream",
          "name": "stdout",
          "text": [
            "p value is : 0.0\n",
            "Alternate Hypothesis >> Data is not Normally distributed\n"
          ]
        }
      ]
    },
    {
      "cell_type": "code",
      "source": [
        "_,p_val = shapiro(df)\n",
        "print('p value is :', p_val)\n",
        "if p_val > 0.05:\n",
        "     print('Null hypothesis >> Data is Normally Distributed')\n",
        "else:\n",
        "    print('Alternate Hypothesis >> Data is not Normally distributed')"
      ],
      "metadata": {
        "colab": {
          "base_uri": "https://localhost:8080/"
        },
        "id": "4BabCAZ7qM7n",
        "outputId": "a5ce1f79-3c6b-479f-ec52-a729bef327cc"
      },
      "execution_count": 11,
      "outputs": [
        {
          "output_type": "stream",
          "name": "stdout",
          "text": [
            "p value is : 0.0\n",
            "Alternate Hypothesis >> Data is not Normally distributed\n"
          ]
        },
        {
          "output_type": "stream",
          "name": "stderr",
          "text": [
            "/usr/local/lib/python3.8/dist-packages/scipy/stats/morestats.py:1760: UserWarning: p-value may not be accurate for N > 5000.\n",
            "  warnings.warn(\"p-value may not be accurate for N > 5000.\")\n"
          ]
        }
      ]
    },
    {
      "cell_type": "markdown",
      "source": [
        "### Z-Score Test"
      ],
      "metadata": {
        "id": "XbMNipQ656rV"
      }
    },
    {
      "cell_type": "code",
      "source": [
        "mean = df['terrain_mtpi_alos_AVE'].mean()\n",
        "std = df['terrain_mtpi_alos_AVE'].std()\n",
        "print('mean: ', mean)\n",
        "print('std: ', std)"
      ],
      "metadata": {
        "colab": {
          "base_uri": "https://localhost:8080/"
        },
        "id": "YrCkPkwFrLHl",
        "outputId": "82f09312-a9c3-4f3d-ea1b-7fce639a1dcd"
      },
      "execution_count": 12,
      "outputs": [
        {
          "output_type": "stream",
          "name": "stdout",
          "text": [
            "mean:  -1.4720094284030643\n",
            "std:  15.52330627128295\n"
          ]
        }
      ]
    },
    {
      "cell_type": "code",
      "source": [
        "threshold = 3\n",
        "outliers = []\n",
        "for val in df['terrain_mtpi_alos_AVE']:\n",
        "    z_score = (val - mean)/std\n",
        "    if np.abs(z_score) > threshold:\n",
        "        outliers.append(val)\n",
        "        \n",
        "print('Detected Outliers are:',outliers)"
      ],
      "metadata": {
        "colab": {
          "base_uri": "https://localhost:8080/"
        },
        "id": "wY7vDrBVqEnW",
        "outputId": "9c3a8bf5-c8aa-414f-ac9b-4cd21775a81b"
      },
      "execution_count": 13,
      "outputs": [
        {
          "output_type": "stream",
          "name": "stdout",
          "text": [
            "Detected Outliers are: [-59, 63, -81, 54, -62, 55, -63, -69, -60, 76, -71, 46, -49, -57, -54, -97, 59, -53, 48, 58, 124, 46, 109, 74, 86, -71, 55, 62, -52, 47, 54, -54, -70, -49, -146, -56, -67, 74, -53, 69, -55, 86, 82, -91, -65, 65, 150, 47, 65, -70, 70, 57, -66, -53, 50, 62, -78, 53, 96, 55, -63, 55, -50, -49, -64, 50, -52, 75, -54, 121, 63, 47, 74, 64, -87, 72, -78, -50, -107, -61, -84, -60, 52, -69, 62, 65, 56, -58, -72, 53, -50, -60, 47, -49, 72, -88, -92, -61, -79, 48, -76, 98, 56, 54, 52, -73, 52, 112, -64, -51, -115, -56, -63, -55, -69, 57, 58, 62, 58, 47, 78, -82, -66, -84, -58, 48, -52, -95, -109, 55, -89, 65, -57, -62, -51, 71, -61, 62, 62]\n"
          ]
        }
      ]
    },
    {
      "cell_type": "markdown",
      "source": [
        "### IQR Method"
      ],
      "metadata": {
        "id": "08AKY9Gi6UKw"
      }
    },
    {
      "cell_type": "code",
      "source": [
        "q1 = df['terrain_mtpi_alos_AVE'].quantile(0.25)\n",
        "q2 = df['terrain_mtpi_alos_AVE'].quantile(0.5)\n",
        "q3 = df['terrain_mtpi_alos_AVE'].quantile(0.75)\n",
        "print(f'1st Quartile  >> 25th percentile of the data = {q1}')\n",
        "print(f'2nd Quartile  >> 50th percentile of the data = {q3}')\n",
        "print(f'3rd Quartile  >> 75th percentile of the data = {q3}')\n",
        "print('*'*112)\n",
        "\n",
        "iqr = q3 - q1\n",
        "print('Inter Quartile Range(IQR): ', iqr)\n",
        "print('*'*112)\n",
        "\n",
        "lower_tail = q1 - 3 * iqr #Extreme Outliers\n",
        "upper_tail = q3 + 3 * iqr #Extreme Outliers\n",
        "print('Lower tail is :',lower_tail)\n",
        "print('Upper tail is :',upper_tail)"
      ],
      "metadata": {
        "colab": {
          "base_uri": "https://localhost:8080/"
        },
        "id": "N1ML-ySYzftM",
        "outputId": "c31b27b3-27f9-4c5b-8db2-f60e7358945e"
      },
      "execution_count": 69,
      "outputs": [
        {
          "output_type": "stream",
          "name": "stdout",
          "text": [
            "1st Quartile  >> 25th percentile of the data = -4.0\n",
            "2nd Quartile  >> 50th percentile of the data = 2.0\n",
            "3rd Quartile  >> 75th percentile of the data = 2.0\n",
            "****************************************************************************************************************\n",
            "Inter Quartile Range(IQR):  6.0\n",
            "****************************************************************************************************************\n",
            "Lower tail is : -22.0\n",
            "Upper tail is : 20.0\n"
          ]
        }
      ]
    },
    {
      "cell_type": "code",
      "source": [
        "outliers = []\n",
        "for i in range(len(df)):\n",
        "    df.loc[i,'terrain_mtpi_alos_AVE']\n",
        "    if (i > q1+(1.5*iqr)) or (i < q1-(1.5*iqr)):\n",
        "        outliers.append(i)\n",
        "\n",
        "print('Outliers for terrain_mtpi_alos_AVE: ', outliers)"
      ],
      "metadata": {
        "colab": {
          "base_uri": "https://localhost:8080/"
        },
        "id": "m66PAHXZ6eMF",
        "outputId": "0dd6a6d2-3ba6-48cc-879c-248e9a9d4a67"
      },
      "execution_count": 70,
      "outputs": [
        {
          "output_type": "stream",
          "name": "stdout",
          "text": [
            "Outliers for terrain_mtpi_alos_AVE:  [6, 7, 8, 9, 10, 11, 12, 13, 14, 15, 16, 17, 18, 19, 20, 21, 22, 23, 24, 25, 26, 27, 28, 29, 30, 31, 32, 33, 34, 35, 36, 37, 38, 39, 40, 41, 42, 43, 44, 45, 46, 47, 48, 49, 50, 51, 52, 53, 54, 55, 56, 57, 58, 59, 60, 61, 62, 63, 64, 65, 66, 67, 68, 69, 70, 71, 72, 73, 74, 75, 76, 77, 78, 79, 80, 81, 82, 83, 84, 85, 86, 87, 88, 89, 90, 91, 92, 93, 94, 95, 96, 97, 98, 99, 100, 101, 102, 103, 104, 105, 106, 107, 108, 109, 110, 111, 112, 113, 114, 115, 116, 117, 118, 119, 120, 121, 122, 123, 124, 125, 126, 127, 128, 129, 130, 131, 132, 133, 134, 135, 136, 137, 138, 139, 140, 141, 142, 143, 144, 145, 146, 147, 148, 149, 150, 151, 152, 153, 154, 155, 156, 157, 158, 159, 160, 161, 162, 163, 164, 165, 166, 167, 168, 169, 170, 171, 172, 173, 174, 175, 176, 177, 178, 179, 180, 181, 182, 183, 184, 185, 186, 187, 188, 189, 190, 191, 192, 193, 194, 195, 196, 197, 198, 199, 200, 201, 202, 203, 204, 205, 206, 207, 208, 209, 210, 211, 212, 213, 214, 215, 216, 217, 218, 219, 220, 221, 222, 223, 224, 225, 226, 227, 228, 229, 230, 231, 232, 233, 234, 235, 236, 237, 238, 239, 240, 241, 242, 243, 244, 245, 246, 247, 248, 249, 250, 251, 252, 253, 254, 255, 256, 257, 258, 259, 260, 261, 262, 263, 264, 265, 266, 267, 268, 269, 270, 271, 272, 273, 274, 275, 276, 277, 278, 279, 280, 281, 282, 283, 284, 285, 286, 287, 288, 289, 290, 291, 292, 293, 294, 295, 296, 297, 298, 299, 300, 301, 302, 303, 304, 305, 306, 307, 308, 309, 310, 311, 312, 313, 314, 315, 316, 317, 318, 319, 320, 321, 322, 323, 324, 325, 326, 327, 328, 329, 330, 331, 332, 333, 334, 335, 336, 337, 338, 339, 340, 341, 342, 343, 344, 345, 346, 347, 348, 349, 350, 351, 352, 353, 354, 355, 356, 357, 358, 359, 360, 361, 362, 363, 364, 365, 366, 367, 368, 369, 370, 371, 372, 373, 374, 375, 376, 377, 378, 379, 380, 381, 382, 383, 384, 385, 386, 387, 388, 389, 390, 391, 392, 393, 394, 395, 396, 397, 398, 399, 400, 401, 402, 403, 404, 405, 406, 407, 408, 409, 410, 411, 412, 413, 414, 415, 416, 417, 418, 419, 420, 421, 422, 423, 424, 425, 426, 427, 428, 429, 430, 431, 432, 433, 434, 435, 436, 437, 438, 439, 440, 441, 442, 443, 444, 445, 446, 447, 448, 449, 450, 451, 452, 453, 454, 455, 456, 457, 458, 459, 460, 461, 462, 463, 464, 465, 466, 467, 468, 469, 470, 471, 472, 473, 474, 475, 476, 477, 478, 479, 480, 481, 482, 483, 484, 485, 486, 487, 488, 489, 490, 491, 492, 493, 494, 495, 496, 497, 498, 499, 500, 501, 502, 503, 504, 505, 506, 507, 508, 509, 510, 511, 512, 513, 514, 515, 516, 517, 518, 519, 520, 521, 522, 523, 524, 525, 526, 527, 528, 529, 530, 531, 532, 533, 534, 535, 536, 537, 538, 539, 540, 541, 542, 543, 544, 545, 546, 547, 548, 549, 550, 551, 552, 553, 554, 555, 556, 557, 558, 559, 560, 561, 562, 563, 564, 565, 566, 567, 568, 569, 570, 571, 572, 573, 574, 575, 576, 577, 578, 579, 580, 581, 582, 583, 584, 585, 586, 587, 588, 589, 590, 591, 592, 593, 594, 595, 596, 597, 598, 599, 600, 601, 602, 603, 604, 605, 606, 607, 608, 609, 610, 611, 612, 613, 614, 615, 616, 617, 618, 619, 620, 621, 622, 623, 624, 625, 626, 627, 628, 629, 630, 631, 632, 633, 634, 635, 636, 637, 638, 639, 640, 641, 642, 643, 644, 645, 646, 647, 648, 649, 650, 651, 652, 653, 654, 655, 656, 657, 658, 659, 660, 661, 662, 663, 664, 665, 666, 667, 668, 669, 670, 671, 672, 673, 674, 675, 676, 677, 678, 679, 680, 681, 682, 683, 684, 685, 686, 687, 688, 689, 690, 691, 692, 693, 694, 695, 696, 697, 698, 699, 700, 701, 702, 703, 704, 705, 706, 707, 708, 709, 710, 711, 712, 713, 714, 715, 716, 717, 718, 719, 720, 721, 722, 723, 724, 725, 726, 727, 728, 729, 730, 731, 732, 733, 734, 735, 736, 737, 738, 739, 740, 741, 742, 743, 744, 745, 746, 747, 748, 749, 750, 751, 752, 753, 754, 755, 756, 757, 758, 759, 760, 761, 762, 763, 764, 765, 766, 767, 768, 769, 770, 771, 772, 773, 774, 775, 776, 777, 778, 779, 780, 781, 782, 783, 784, 785, 786, 787, 788, 789, 790, 791, 792, 793, 794, 795, 796, 797, 798, 799, 800, 801, 802, 803, 804, 805, 806, 807, 808, 809, 810, 811, 812, 813, 814, 815, 816, 817, 818, 819, 820, 821, 822, 823, 824, 825, 826, 827, 828, 829, 830, 831, 832, 833, 834, 835, 836, 837, 838, 839, 840, 841, 842, 843, 844, 845, 846, 847, 848, 849, 850, 851, 852, 853, 854, 855, 856, 857, 858, 859, 860, 861, 862, 863, 864, 865, 866, 867, 868, 869, 870, 871, 872, 873, 874, 875, 876, 877, 878, 879, 880, 881, 882, 883, 884, 885, 886, 887, 888, 889, 890, 891, 892, 893, 894, 895, 896, 897, 898, 899, 900, 901, 902, 903, 904, 905, 906, 907, 908, 909, 910, 911, 912, 913, 914, 915, 916, 917, 918, 919, 920, 921, 922, 923, 924, 925, 926, 927, 928, 929, 930, 931, 932, 933, 934, 935, 936, 937, 938, 939, 940, 941, 942, 943, 944, 945, 946, 947, 948, 949, 950, 951, 952, 953, 954, 955, 956, 957, 958, 959, 960, 961, 962, 963, 964, 965, 966, 967, 968, 969, 970, 971, 972, 973, 974, 975, 976, 977, 978, 979, 980, 981, 982, 983, 984, 985, 986, 987, 988, 989, 990, 991, 992, 993, 994, 995, 996, 997, 998, 999, 1000, 1001, 1002, 1003, 1004, 1005, 1006, 1007, 1008, 1009, 1010, 1011, 1012, 1013, 1014, 1015, 1016, 1017, 1018, 1019, 1020, 1021, 1022, 1023, 1024, 1025, 1026, 1027, 1028, 1029, 1030, 1031, 1032, 1033, 1034, 1035, 1036, 1037, 1038, 1039, 1040, 1041, 1042, 1043, 1044, 1045, 1046, 1047, 1048, 1049, 1050, 1051, 1052, 1053, 1054, 1055, 1056, 1057, 1058, 1059, 1060, 1061, 1062, 1063, 1064, 1065, 1066, 1067, 1068, 1069, 1070, 1071, 1072, 1073, 1074, 1075, 1076, 1077, 1078, 1079, 1080, 1081, 1082, 1083, 1084, 1085, 1086, 1087, 1088, 1089, 1090, 1091, 1092, 1093, 1094, 1095, 1096, 1097, 1098, 1099, 1100, 1101, 1102, 1103, 1104, 1105, 1106, 1107, 1108, 1109, 1110, 1111, 1112, 1113, 1114, 1115, 1116, 1117, 1118, 1119, 1120, 1121, 1122, 1123, 1124, 1125, 1126, 1127, 1128, 1129, 1130, 1131, 1132, 1133, 1134, 1135, 1136, 1137, 1138, 1139, 1140, 1141, 1142, 1143, 1144, 1145, 1146, 1147, 1148, 1149, 1150, 1151, 1152, 1153, 1154, 1155, 1156, 1157, 1158, 1159, 1160, 1161, 1162, 1163, 1164, 1165, 1166, 1167, 1168, 1169, 1170, 1171, 1172, 1173, 1174, 1175, 1176, 1177, 1178, 1179, 1180, 1181, 1182, 1183, 1184, 1185, 1186, 1187, 1188, 1189, 1190, 1191, 1192, 1193, 1194, 1195, 1196, 1197, 1198, 1199, 1200, 1201, 1202, 1203, 1204, 1205, 1206, 1207, 1208, 1209, 1210, 1211, 1212, 1213, 1214, 1215, 1216, 1217, 1218, 1219, 1220, 1221, 1222, 1223, 1224, 1225, 1226, 1227, 1228, 1229, 1230, 1231, 1232, 1233, 1234, 1235, 1236, 1237, 1238, 1239, 1240, 1241, 1242, 1243, 1244, 1245, 1246, 1247, 1248, 1249, 1250, 1251, 1252, 1253, 1254, 1255, 1256, 1257, 1258, 1259, 1260, 1261, 1262, 1263, 1264, 1265, 1266, 1267, 1268, 1269, 1270, 1271, 1272, 1273, 1274, 1275, 1276, 1277, 1278, 1279, 1280, 1281, 1282, 1283, 1284, 1285, 1286, 1287, 1288, 1289, 1290, 1291, 1292, 1293, 1294, 1295, 1296, 1297, 1298, 1299, 1300, 1301, 1302, 1303, 1304, 1305, 1306, 1307, 1308, 1309, 1310, 1311, 1312, 1313, 1314, 1315, 1316, 1317, 1318, 1319, 1320, 1321, 1322, 1323, 1324, 1325, 1326, 1327, 1328, 1329, 1330, 1331, 1332, 1333, 1334, 1335, 1336, 1337, 1338, 1339, 1340, 1341, 1342, 1343, 1344, 1345, 1346, 1347, 1348, 1349, 1350, 1351, 1352, 1353, 1354, 1355, 1356, 1357, 1358, 1359, 1360, 1361, 1362, 1363, 1364, 1365, 1366, 1367, 1368, 1369, 1370, 1371, 1372, 1373, 1374, 1375, 1376, 1377, 1378, 1379, 1380, 1381, 1382, 1383, 1384, 1385, 1386, 1387, 1388, 1389, 1390, 1391, 1392, 1393, 1394, 1395, 1396, 1397, 1398, 1399, 1400, 1401, 1402, 1403, 1404, 1405, 1406, 1407, 1408, 1409, 1410, 1411, 1412, 1413, 1414, 1415, 1416, 1417, 1418, 1419, 1420, 1421, 1422, 1423, 1424, 1425, 1426, 1427, 1428, 1429, 1430, 1431, 1432, 1433, 1434, 1435, 1436, 1437, 1438, 1439, 1440, 1441, 1442, 1443, 1444, 1445, 1446, 1447, 1448, 1449, 1450, 1451, 1452, 1453, 1454, 1455, 1456, 1457, 1458, 1459, 1460, 1461, 1462, 1463, 1464, 1465, 1466, 1467, 1468, 1469, 1470, 1471, 1472, 1473, 1474, 1475, 1476, 1477, 1478, 1479, 1480, 1481, 1482, 1483, 1484, 1485, 1486, 1487, 1488, 1489, 1490, 1491, 1492, 1493, 1494, 1495, 1496, 1497, 1498, 1499, 1500, 1501, 1502, 1503, 1504, 1505, 1506, 1507, 1508, 1509, 1510, 1511, 1512, 1513, 1514, 1515, 1516, 1517, 1518, 1519, 1520, 1521, 1522, 1523, 1524, 1525, 1526, 1527, 1528, 1529, 1530, 1531, 1532, 1533, 1534, 1535, 1536, 1537, 1538, 1539, 1540, 1541, 1542, 1543, 1544, 1545, 1546, 1547, 1548, 1549, 1550, 1551, 1552, 1553, 1554, 1555, 1556, 1557, 1558, 1559, 1560, 1561, 1562, 1563, 1564, 1565, 1566, 1567, 1568, 1569, 1570, 1571, 1572, 1573, 1574, 1575, 1576, 1577, 1578, 1579, 1580, 1581, 1582, 1583, 1584, 1585, 1586, 1587, 1588, 1589, 1590, 1591, 1592, 1593, 1594, 1595, 1596, 1597, 1598, 1599, 1600, 1601, 1602, 1603, 1604, 1605, 1606, 1607, 1608, 1609, 1610, 1611, 1612, 1613, 1614, 1615, 1616, 1617, 1618, 1619, 1620, 1621, 1622, 1623, 1624, 1625, 1626, 1627, 1628, 1629, 1630, 1631, 1632, 1633, 1634, 1635, 1636, 1637, 1638, 1639, 1640, 1641, 1642, 1643, 1644, 1645, 1646, 1647, 1648, 1649, 1650, 1651, 1652, 1653, 1654, 1655, 1656, 1657, 1658, 1659, 1660, 1661, 1662, 1663, 1664, 1665, 1666, 1667, 1668, 1669, 1670, 1671, 1672, 1673, 1674, 1675, 1676, 1677, 1678, 1679, 1680, 1681, 1682, 1683, 1684, 1685, 1686, 1687, 1688, 1689, 1690, 1691, 1692, 1693, 1694, 1695, 1696, 1697, 1698, 1699, 1700, 1701, 1702, 1703, 1704, 1705, 1706, 1707, 1708, 1709, 1710, 1711, 1712, 1713, 1714, 1715, 1716, 1717, 1718, 1719, 1720, 1721, 1722, 1723, 1724, 1725, 1726, 1727, 1728, 1729, 1730, 1731, 1732, 1733, 1734, 1735, 1736, 1737, 1738, 1739, 1740, 1741, 1742, 1743, 1744, 1745, 1746, 1747, 1748, 1749, 1750, 1751, 1752, 1753, 1754, 1755, 1756, 1757, 1758, 1759, 1760, 1761, 1762, 1763, 1764, 1765, 1766, 1767, 1768, 1769, 1770, 1771, 1772, 1773, 1774, 1775, 1776, 1777, 1778, 1779, 1780, 1781, 1782, 1783, 1784, 1785, 1786, 1787, 1788, 1789, 1790, 1791, 1792, 1793, 1794, 1795, 1796, 1797, 1798, 1799, 1800, 1801, 1802, 1803, 1804, 1805, 1806, 1807, 1808, 1809, 1810, 1811, 1812, 1813, 1814, 1815, 1816, 1817, 1818, 1819, 1820, 1821, 1822, 1823, 1824, 1825, 1826, 1827, 1828, 1829, 1830, 1831, 1832, 1833, 1834, 1835, 1836, 1837, 1838, 1839, 1840, 1841, 1842, 1843, 1844, 1845, 1846, 1847, 1848, 1849, 1850, 1851, 1852, 1853, 1854, 1855, 1856, 1857, 1858, 1859, 1860, 1861, 1862, 1863, 1864, 1865, 1866, 1867, 1868, 1869, 1870, 1871, 1872, 1873, 1874, 1875, 1876, 1877, 1878, 1879, 1880, 1881, 1882, 1883, 1884, 1885, 1886, 1887, 1888, 1889, 1890, 1891, 1892, 1893, 1894, 1895, 1896, 1897, 1898, 1899, 1900, 1901, 1902, 1903, 1904, 1905, 1906, 1907, 1908, 1909, 1910, 1911, 1912, 1913, 1914, 1915, 1916, 1917, 1918, 1919, 1920, 1921, 1922, 1923, 1924, 1925, 1926, 1927, 1928, 1929, 1930, 1931, 1932, 1933, 1934, 1935, 1936, 1937, 1938, 1939, 1940, 1941, 1942, 1943, 1944, 1945, 1946, 1947, 1948, 1949, 1950, 1951, 1952, 1953, 1954, 1955, 1956, 1957, 1958, 1959, 1960, 1961, 1962, 1963, 1964, 1965, 1966, 1967, 1968, 1969, 1970, 1971, 1972, 1973, 1974, 1975, 1976, 1977, 1978, 1979, 1980, 1981, 1982, 1983, 1984, 1985, 1986, 1987, 1988, 1989, 1990, 1991, 1992, 1993, 1994, 1995, 1996, 1997, 1998, 1999, 2000, 2001, 2002, 2003, 2004, 2005, 2006, 2007, 2008, 2009, 2010, 2011, 2012, 2013, 2014, 2015, 2016, 2017, 2018, 2019, 2020, 2021, 2022, 2023, 2024, 2025, 2026, 2027, 2028, 2029, 2030, 2031, 2032, 2033, 2034, 2035, 2036, 2037, 2038, 2039, 2040, 2041, 2042, 2043, 2044, 2045, 2046, 2047, 2048, 2049, 2050, 2051, 2052, 2053, 2054, 2055, 2056, 2057, 2058, 2059, 2060, 2061, 2062, 2063, 2064, 2065, 2066, 2067, 2068, 2069, 2070, 2071, 2072, 2073, 2074, 2075, 2076, 2077, 2078, 2079, 2080, 2081, 2082, 2083, 2084, 2085, 2086, 2087, 2088, 2089, 2090, 2091, 2092, 2093, 2094, 2095, 2096, 2097, 2098, 2099, 2100, 2101, 2102, 2103, 2104, 2105, 2106, 2107, 2108, 2109, 2110, 2111, 2112, 2113, 2114, 2115, 2116, 2117, 2118, 2119, 2120, 2121, 2122, 2123, 2124, 2125, 2126, 2127, 2128, 2129, 2130, 2131, 2132, 2133, 2134, 2135, 2136, 2137, 2138, 2139, 2140, 2141, 2142, 2143, 2144, 2145, 2146, 2147, 2148, 2149, 2150, 2151, 2152, 2153, 2154, 2155, 2156, 2157, 2158, 2159, 2160, 2161, 2162, 2163, 2164, 2165, 2166, 2167, 2168, 2169, 2170, 2171, 2172, 2173, 2174, 2175, 2176, 2177, 2178, 2179, 2180, 2181, 2182, 2183, 2184, 2185, 2186, 2187, 2188, 2189, 2190, 2191, 2192, 2193, 2194, 2195, 2196, 2197, 2198, 2199, 2200, 2201, 2202, 2203, 2204, 2205, 2206, 2207, 2208, 2209, 2210, 2211, 2212, 2213, 2214, 2215, 2216, 2217, 2218, 2219, 2220, 2221, 2222, 2223, 2224, 2225, 2226, 2227, 2228, 2229, 2230, 2231, 2232, 2233, 2234, 2235, 2236, 2237, 2238, 2239, 2240, 2241, 2242, 2243, 2244, 2245, 2246, 2247, 2248, 2249, 2250, 2251, 2252, 2253, 2254, 2255, 2256, 2257, 2258, 2259, 2260, 2261, 2262, 2263, 2264, 2265, 2266, 2267, 2268, 2269, 2270, 2271, 2272, 2273, 2274, 2275, 2276, 2277, 2278, 2279, 2280, 2281, 2282, 2283, 2284, 2285, 2286, 2287, 2288, 2289, 2290, 2291, 2292, 2293, 2294, 2295, 2296, 2297, 2298, 2299, 2300, 2301, 2302, 2303, 2304, 2305, 2306, 2307, 2308, 2309, 2310, 2311, 2312, 2313, 2314, 2315, 2316, 2317, 2318, 2319, 2320, 2321, 2322, 2323, 2324, 2325, 2326, 2327, 2328, 2329, 2330, 2331, 2332, 2333, 2334, 2335, 2336, 2337, 2338, 2339, 2340, 2341, 2342, 2343, 2344, 2345, 2346, 2347, 2348, 2349, 2350, 2351, 2352, 2353, 2354, 2355, 2356, 2357, 2358, 2359, 2360, 2361, 2362, 2363, 2364, 2365, 2366, 2367, 2368, 2369, 2370, 2371, 2372, 2373, 2374, 2375, 2376, 2377, 2378, 2379, 2380, 2381, 2382, 2383, 2384, 2385, 2386, 2387, 2388, 2389, 2390, 2391, 2392, 2393, 2394, 2395, 2396, 2397, 2398, 2399, 2400, 2401, 2402, 2403, 2404, 2405, 2406, 2407, 2408, 2409, 2410, 2411, 2412, 2413, 2414, 2415, 2416, 2417, 2418, 2419, 2420, 2421, 2422, 2423, 2424, 2425, 2426, 2427, 2428, 2429, 2430, 2431, 2432, 2433, 2434, 2435, 2436, 2437, 2438, 2439, 2440, 2441, 2442, 2443, 2444, 2445, 2446, 2447, 2448, 2449, 2450, 2451, 2452, 2453, 2454, 2455, 2456, 2457, 2458, 2459, 2460, 2461, 2462, 2463, 2464, 2465, 2466, 2467, 2468, 2469, 2470, 2471, 2472, 2473, 2474, 2475, 2476, 2477, 2478, 2479, 2480, 2481, 2482, 2483, 2484, 2485, 2486, 2487, 2488, 2489, 2490, 2491, 2492, 2493, 2494, 2495, 2496, 2497, 2498, 2499, 2500, 2501, 2502, 2503, 2504, 2505, 2506, 2507, 2508, 2509, 2510, 2511, 2512, 2513, 2514, 2515, 2516, 2517, 2518, 2519, 2520, 2521, 2522, 2523, 2524, 2525, 2526, 2527, 2528, 2529, 2530, 2531, 2532, 2533, 2534, 2535, 2536, 2537, 2538, 2539, 2540, 2541, 2542, 2543, 2544, 2545, 2546, 2547, 2548, 2549, 2550, 2551, 2552, 2553, 2554, 2555, 2556, 2557, 2558, 2559, 2560, 2561, 2562, 2563, 2564, 2565, 2566, 2567, 2568, 2569, 2570, 2571, 2572, 2573, 2574, 2575, 2576, 2577, 2578, 2579, 2580, 2581, 2582, 2583, 2584, 2585, 2586, 2587, 2588, 2589, 2590, 2591, 2592, 2593, 2594, 2595, 2596, 2597, 2598, 2599, 2600, 2601, 2602, 2603, 2604, 2605, 2606, 2607, 2608, 2609, 2610, 2611, 2612, 2613, 2614, 2615, 2616, 2617, 2618, 2619, 2620, 2621, 2622, 2623, 2624, 2625, 2626, 2627, 2628, 2629, 2630, 2631, 2632, 2633, 2634, 2635, 2636, 2637, 2638, 2639, 2640, 2641, 2642, 2643, 2644, 2645, 2646, 2647, 2648, 2649, 2650, 2651, 2652, 2653, 2654, 2655, 2656, 2657, 2658, 2659, 2660, 2661, 2662, 2663, 2664, 2665, 2666, 2667, 2668, 2669, 2670, 2671, 2672, 2673, 2674, 2675, 2676, 2677, 2678, 2679, 2680, 2681, 2682, 2683, 2684, 2685, 2686, 2687, 2688, 2689, 2690, 2691, 2692, 2693, 2694, 2695, 2696, 2697, 2698, 2699, 2700, 2701, 2702, 2703, 2704, 2705, 2706, 2707, 2708, 2709, 2710, 2711, 2712, 2713, 2714, 2715, 2716, 2717, 2718, 2719, 2720, 2721, 2722, 2723, 2724, 2725, 2726, 2727, 2728, 2729, 2730, 2731, 2732, 2733, 2734, 2735, 2736, 2737, 2738, 2739, 2740, 2741, 2742, 2743, 2744, 2745, 2746, 2747, 2748, 2749, 2750, 2751, 2752, 2753, 2754, 2755, 2756, 2757, 2758, 2759, 2760, 2761, 2762, 2763, 2764, 2765, 2766, 2767, 2768, 2769, 2770, 2771, 2772, 2773, 2774, 2775, 2776, 2777, 2778, 2779, 2780, 2781, 2782, 2783, 2784, 2785, 2786, 2787, 2788, 2789, 2790, 2791, 2792, 2793, 2794, 2795, 2796, 2797, 2798, 2799, 2800, 2801, 2802, 2803, 2804, 2805, 2806, 2807, 2808, 2809, 2810, 2811, 2812, 2813, 2814, 2815, 2816, 2817, 2818, 2819, 2820, 2821, 2822, 2823, 2824, 2825, 2826, 2827, 2828, 2829, 2830, 2831, 2832, 2833, 2834, 2835, 2836, 2837, 2838, 2839, 2840, 2841, 2842, 2843, 2844, 2845, 2846, 2847, 2848, 2849, 2850, 2851, 2852, 2853, 2854, 2855, 2856, 2857, 2858, 2859, 2860, 2861, 2862, 2863, 2864, 2865, 2866, 2867, 2868, 2869, 2870, 2871, 2872, 2873, 2874, 2875, 2876, 2877, 2878, 2879, 2880, 2881, 2882, 2883, 2884, 2885, 2886, 2887, 2888, 2889, 2890, 2891, 2892, 2893, 2894, 2895, 2896, 2897, 2898, 2899, 2900, 2901, 2902, 2903, 2904, 2905, 2906, 2907, 2908, 2909, 2910, 2911, 2912, 2913, 2914, 2915, 2916, 2917, 2918, 2919, 2920, 2921, 2922, 2923, 2924, 2925, 2926, 2927, 2928, 2929, 2930, 2931, 2932, 2933, 2934, 2935, 2936, 2937, 2938, 2939, 2940, 2941, 2942, 2943, 2944, 2945, 2946, 2947, 2948, 2949, 2950, 2951, 2952, 2953, 2954, 2955, 2956, 2957, 2958, 2959, 2960, 2961, 2962, 2963, 2964, 2965, 2966, 2967, 2968, 2969, 2970, 2971, 2972, 2973, 2974, 2975, 2976, 2977, 2978, 2979, 2980, 2981, 2982, 2983, 2984, 2985, 2986, 2987, 2988, 2989, 2990, 2991, 2992, 2993, 2994, 2995, 2996, 2997, 2998, 2999, 3000, 3001, 3002, 3003, 3004, 3005, 3006, 3007, 3008, 3009, 3010, 3011, 3012, 3013, 3014, 3015, 3016, 3017, 3018, 3019, 3020, 3021, 3022, 3023, 3024, 3025, 3026, 3027, 3028, 3029, 3030, 3031, 3032, 3033, 3034, 3035, 3036, 3037, 3038, 3039, 3040, 3041, 3042, 3043, 3044, 3045, 3046, 3047, 3048, 3049, 3050, 3051, 3052, 3053, 3054, 3055, 3056, 3057, 3058, 3059, 3060, 3061, 3062, 3063, 3064, 3065, 3066, 3067, 3068, 3069, 3070, 3071, 3072, 3073, 3074, 3075, 3076, 3077, 3078, 3079, 3080, 3081, 3082, 3083, 3084, 3085, 3086, 3087, 3088, 3089, 3090, 3091, 3092, 3093, 3094, 3095, 3096, 3097, 3098, 3099, 3100, 3101, 3102, 3103, 3104, 3105, 3106, 3107, 3108, 3109, 3110, 3111, 3112, 3113, 3114, 3115, 3116, 3117, 3118, 3119, 3120, 3121, 3122, 3123, 3124, 3125, 3126, 3127, 3128, 3129, 3130, 3131, 3132, 3133, 3134, 3135, 3136, 3137, 3138, 3139, 3140, 3141, 3142, 3143, 3144, 3145, 3146, 3147, 3148, 3149, 3150, 3151, 3152, 3153, 3154, 3155, 3156, 3157, 3158, 3159, 3160, 3161, 3162, 3163, 3164, 3165, 3166, 3167, 3168, 3169, 3170, 3171, 3172, 3173, 3174, 3175, 3176, 3177, 3178, 3179, 3180, 3181, 3182, 3183, 3184, 3185, 3186, 3187, 3188, 3189, 3190, 3191, 3192, 3193, 3194, 3195, 3196, 3197, 3198, 3199, 3200, 3201, 3202, 3203, 3204, 3205, 3206, 3207, 3208, 3209, 3210, 3211, 3212, 3213, 3214, 3215, 3216, 3217, 3218, 3219, 3220, 3221, 3222, 3223, 3224, 3225, 3226, 3227, 3228, 3229, 3230, 3231, 3232, 3233, 3234, 3235, 3236, 3237, 3238, 3239, 3240, 3241, 3242, 3243, 3244, 3245, 3246, 3247, 3248, 3249, 3250, 3251, 3252, 3253, 3254, 3255, 3256, 3257, 3258, 3259, 3260, 3261, 3262, 3263, 3264, 3265, 3266, 3267, 3268, 3269, 3270, 3271, 3272, 3273, 3274, 3275, 3276, 3277, 3278, 3279, 3280, 3281, 3282, 3283, 3284, 3285, 3286, 3287, 3288, 3289, 3290, 3291, 3292, 3293, 3294, 3295, 3296, 3297, 3298, 3299, 3300, 3301, 3302, 3303, 3304, 3305, 3306, 3307, 3308, 3309, 3310, 3311, 3312, 3313, 3314, 3315, 3316, 3317, 3318, 3319, 3320, 3321, 3322, 3323, 3324, 3325, 3326, 3327, 3328, 3329, 3330, 3331, 3332, 3333, 3334, 3335, 3336, 3337, 3338, 3339, 3340, 3341, 3342, 3343, 3344, 3345, 3346, 3347, 3348, 3349, 3350, 3351, 3352, 3353, 3354, 3355, 3356, 3357, 3358, 3359, 3360, 3361, 3362, 3363, 3364, 3365, 3366, 3367, 3368, 3369, 3370, 3371, 3372, 3373, 3374, 3375, 3376, 3377, 3378, 3379, 3380, 3381, 3382, 3383, 3384, 3385, 3386, 3387, 3388, 3389, 3390, 3391, 3392, 3393, 3394, 3395, 3396, 3397, 3398, 3399, 3400, 3401, 3402, 3403, 3404, 3405, 3406, 3407, 3408, 3409, 3410, 3411, 3412, 3413, 3414, 3415, 3416, 3417, 3418, 3419, 3420, 3421, 3422, 3423, 3424, 3425, 3426, 3427, 3428, 3429, 3430, 3431, 3432, 3433, 3434, 3435, 3436, 3437, 3438, 3439, 3440, 3441, 3442, 3443, 3444, 3445, 3446, 3447, 3448, 3449, 3450, 3451, 3452, 3453, 3454, 3455, 3456, 3457, 3458, 3459, 3460, 3461, 3462, 3463, 3464, 3465, 3466, 3467, 3468, 3469, 3470, 3471, 3472, 3473, 3474, 3475, 3476, 3477, 3478, 3479, 3480, 3481, 3482, 3483, 3484, 3485, 3486, 3487, 3488, 3489, 3490, 3491, 3492, 3493, 3494, 3495, 3496, 3497, 3498, 3499, 3500, 3501, 3502, 3503, 3504, 3505, 3506, 3507, 3508, 3509, 3510, 3511, 3512, 3513, 3514, 3515, 3516, 3517, 3518, 3519, 3520, 3521, 3522, 3523, 3524, 3525, 3526, 3527, 3528, 3529, 3530, 3531, 3532, 3533, 3534, 3535, 3536, 3537, 3538, 3539, 3540, 3541, 3542, 3543, 3544, 3545, 3546, 3547, 3548, 3549, 3550, 3551, 3552, 3553, 3554, 3555, 3556, 3557, 3558, 3559, 3560, 3561, 3562, 3563, 3564, 3565, 3566, 3567, 3568, 3569, 3570, 3571, 3572, 3573, 3574, 3575, 3576, 3577, 3578, 3579, 3580, 3581, 3582, 3583, 3584, 3585, 3586, 3587, 3588, 3589, 3590, 3591, 3592, 3593, 3594, 3595, 3596, 3597, 3598, 3599, 3600, 3601, 3602, 3603, 3604, 3605, 3606, 3607, 3608, 3609, 3610, 3611, 3612, 3613, 3614, 3615, 3616, 3617, 3618, 3619, 3620, 3621, 3622, 3623, 3624, 3625, 3626, 3627, 3628, 3629, 3630, 3631, 3632, 3633, 3634, 3635, 3636, 3637, 3638, 3639, 3640, 3641, 3642, 3643, 3644, 3645, 3646, 3647, 3648, 3649, 3650, 3651, 3652, 3653, 3654, 3655, 3656, 3657, 3658, 3659, 3660, 3661, 3662, 3663, 3664, 3665, 3666, 3667, 3668, 3669, 3670, 3671, 3672, 3673, 3674, 3675, 3676, 3677, 3678, 3679, 3680, 3681, 3682, 3683, 3684, 3685, 3686, 3687, 3688, 3689, 3690, 3691, 3692, 3693, 3694, 3695, 3696, 3697, 3698, 3699, 3700, 3701, 3702, 3703, 3704, 3705, 3706, 3707, 3708, 3709, 3710, 3711, 3712, 3713, 3714, 3715, 3716, 3717, 3718, 3719, 3720, 3721, 3722, 3723, 3724, 3725, 3726, 3727, 3728, 3729, 3730, 3731, 3732, 3733, 3734, 3735, 3736, 3737, 3738, 3739, 3740, 3741, 3742, 3743, 3744, 3745, 3746, 3747, 3748, 3749, 3750, 3751, 3752, 3753, 3754, 3755, 3756, 3757, 3758, 3759, 3760, 3761, 3762, 3763, 3764, 3765, 3766, 3767, 3768, 3769, 3770, 3771, 3772, 3773, 3774, 3775, 3776, 3777, 3778, 3779, 3780, 3781, 3782, 3783, 3784, 3785, 3786, 3787, 3788, 3789, 3790, 3791, 3792, 3793, 3794, 3795, 3796, 3797, 3798, 3799, 3800, 3801, 3802, 3803, 3804, 3805, 3806, 3807, 3808, 3809, 3810, 3811, 3812, 3813, 3814, 3815, 3816, 3817, 3818, 3819, 3820, 3821, 3822, 3823, 3824, 3825, 3826, 3827, 3828, 3829, 3830, 3831, 3832, 3833, 3834, 3835, 3836, 3837, 3838, 3839, 3840, 3841, 3842, 3843, 3844, 3845, 3846, 3847, 3848, 3849, 3850, 3851, 3852, 3853, 3854, 3855, 3856, 3857, 3858, 3859, 3860, 3861, 3862, 3863, 3864, 3865, 3866, 3867, 3868, 3869, 3870, 3871, 3872, 3873, 3874, 3875, 3876, 3877, 3878, 3879, 3880, 3881, 3882, 3883, 3884, 3885, 3886, 3887, 3888, 3889, 3890, 3891, 3892, 3893, 3894, 3895, 3896, 3897, 3898, 3899, 3900, 3901, 3902, 3903, 3904, 3905, 3906, 3907, 3908, 3909, 3910, 3911, 3912, 3913, 3914, 3915, 3916, 3917, 3918, 3919, 3920, 3921, 3922, 3923, 3924, 3925, 3926, 3927, 3928, 3929, 3930, 3931, 3932, 3933, 3934, 3935, 3936, 3937, 3938, 3939, 3940, 3941, 3942, 3943, 3944, 3945, 3946, 3947, 3948, 3949, 3950, 3951, 3952, 3953, 3954, 3955, 3956, 3957, 3958, 3959, 3960, 3961, 3962, 3963, 3964, 3965, 3966, 3967, 3968, 3969, 3970, 3971, 3972, 3973, 3974, 3975, 3976, 3977, 3978, 3979, 3980, 3981, 3982, 3983, 3984, 3985, 3986, 3987, 3988, 3989, 3990, 3991, 3992, 3993, 3994, 3995, 3996, 3997, 3998, 3999, 4000, 4001, 4002, 4003, 4004, 4005, 4006, 4007, 4008, 4009, 4010, 4011, 4012, 4013, 4014, 4015, 4016, 4017, 4018, 4019, 4020, 4021, 4022, 4023, 4024, 4025, 4026, 4027, 4028, 4029, 4030, 4031, 4032, 4033, 4034, 4035, 4036, 4037, 4038, 4039, 4040, 4041, 4042, 4043, 4044, 4045, 4046, 4047, 4048, 4049, 4050, 4051, 4052, 4053, 4054, 4055, 4056, 4057, 4058, 4059, 4060, 4061, 4062, 4063, 4064, 4065, 4066, 4067, 4068, 4069, 4070, 4071, 4072, 4073, 4074, 4075, 4076, 4077, 4078, 4079, 4080, 4081, 4082, 4083, 4084, 4085, 4086, 4087, 4088, 4089, 4090, 4091, 4092, 4093, 4094, 4095, 4096, 4097, 4098, 4099, 4100, 4101, 4102, 4103, 4104, 4105, 4106, 4107, 4108, 4109, 4110, 4111, 4112, 4113, 4114, 4115, 4116, 4117, 4118, 4119, 4120, 4121, 4122, 4123, 4124, 4125, 4126, 4127, 4128, 4129, 4130, 4131, 4132, 4133, 4134, 4135, 4136, 4137, 4138, 4139, 4140, 4141, 4142, 4143, 4144, 4145, 4146, 4147, 4148, 4149, 4150, 4151, 4152, 4153, 4154, 4155, 4156, 4157, 4158, 4159, 4160, 4161, 4162, 4163, 4164, 4165, 4166, 4167, 4168, 4169, 4170, 4171, 4172, 4173, 4174, 4175, 4176, 4177, 4178, 4179, 4180, 4181, 4182, 4183, 4184, 4185, 4186, 4187, 4188, 4189, 4190, 4191, 4192, 4193, 4194, 4195, 4196, 4197, 4198, 4199, 4200, 4201, 4202, 4203, 4204, 4205, 4206, 4207, 4208, 4209, 4210, 4211, 4212, 4213, 4214, 4215, 4216, 4217, 4218, 4219, 4220, 4221, 4222, 4223, 4224, 4225, 4226, 4227, 4228, 4229, 4230, 4231, 4232, 4233, 4234, 4235, 4236, 4237, 4238, 4239, 4240, 4241, 4242, 4243, 4244, 4245, 4246, 4247, 4248, 4249, 4250, 4251, 4252, 4253, 4254, 4255, 4256, 4257, 4258, 4259, 4260, 4261, 4262, 4263, 4264, 4265, 4266, 4267, 4268, 4269, 4270, 4271, 4272, 4273, 4274, 4275, 4276, 4277, 4278, 4279, 4280, 4281, 4282, 4283, 4284, 4285, 4286, 4287, 4288, 4289, 4290, 4291, 4292, 4293, 4294, 4295, 4296, 4297, 4298, 4299, 4300, 4301, 4302, 4303, 4304, 4305, 4306, 4307, 4308, 4309, 4310, 4311, 4312, 4313, 4314, 4315, 4316, 4317, 4318, 4319, 4320, 4321, 4322, 4323, 4324, 4325, 4326, 4327, 4328, 4329, 4330, 4331, 4332, 4333, 4334, 4335, 4336, 4337, 4338, 4339, 4340, 4341, 4342, 4343, 4344, 4345, 4346, 4347, 4348, 4349, 4350, 4351, 4352, 4353, 4354, 4355, 4356, 4357, 4358, 4359, 4360, 4361, 4362, 4363, 4364, 4365, 4366, 4367, 4368, 4369, 4370, 4371, 4372, 4373, 4374, 4375, 4376, 4377, 4378, 4379, 4380, 4381, 4382, 4383, 4384, 4385, 4386, 4387, 4388, 4389, 4390, 4391, 4392, 4393, 4394, 4395, 4396, 4397, 4398, 4399, 4400, 4401, 4402, 4403, 4404, 4405, 4406, 4407, 4408, 4409, 4410, 4411, 4412, 4413, 4414, 4415, 4416, 4417, 4418, 4419, 4420, 4421, 4422, 4423, 4424, 4425, 4426, 4427, 4428, 4429, 4430, 4431, 4432, 4433, 4434, 4435, 4436, 4437, 4438, 4439, 4440, 4441, 4442, 4443, 4444, 4445, 4446, 4447, 4448, 4449, 4450, 4451, 4452, 4453, 4454, 4455, 4456, 4457, 4458, 4459, 4460, 4461, 4462, 4463, 4464, 4465, 4466, 4467, 4468, 4469, 4470, 4471, 4472, 4473, 4474, 4475, 4476, 4477, 4478, 4479, 4480, 4481, 4482, 4483, 4484, 4485, 4486, 4487, 4488, 4489, 4490, 4491, 4492, 4493, 4494, 4495, 4496, 4497, 4498, 4499, 4500, 4501, 4502, 4503, 4504, 4505, 4506, 4507, 4508, 4509, 4510, 4511, 4512, 4513, 4514, 4515, 4516, 4517, 4518, 4519, 4520, 4521, 4522, 4523, 4524, 4525, 4526, 4527, 4528, 4529, 4530, 4531, 4532, 4533, 4534, 4535, 4536, 4537, 4538, 4539, 4540, 4541, 4542, 4543, 4544, 4545, 4546, 4547, 4548, 4549, 4550, 4551, 4552, 4553, 4554, 4555, 4556, 4557, 4558, 4559, 4560, 4561, 4562, 4563, 4564, 4565, 4566, 4567, 4568, 4569, 4570, 4571, 4572, 4573, 4574, 4575, 4576, 4577, 4578, 4579, 4580, 4581, 4582, 4583, 4584, 4585, 4586, 4587, 4588, 4589, 4590, 4591, 4592, 4593, 4594, 4595, 4596, 4597, 4598, 4599, 4600, 4601, 4602, 4603, 4604, 4605, 4606, 4607, 4608, 4609, 4610, 4611, 4612, 4613, 4614, 4615, 4616, 4617, 4618, 4619, 4620, 4621, 4622, 4623, 4624, 4625, 4626, 4627, 4628, 4629, 4630, 4631, 4632, 4633, 4634, 4635, 4636, 4637, 4638, 4639, 4640, 4641, 4642, 4643, 4644, 4645, 4646, 4647, 4648, 4649, 4650, 4651, 4652, 4653, 4654, 4655, 4656, 4657, 4658, 4659, 4660, 4661, 4662, 4663, 4664, 4665, 4666, 4667, 4668, 4669, 4670, 4671, 4672, 4673, 4674, 4675, 4676, 4677, 4678, 4679, 4680, 4681, 4682, 4683, 4684, 4685, 4686, 4687, 4688, 4689, 4690, 4691, 4692, 4693, 4694, 4695, 4696, 4697, 4698, 4699, 4700, 4701, 4702, 4703, 4704, 4705, 4706, 4707, 4708, 4709, 4710, 4711, 4712, 4713, 4714, 4715, 4716, 4717, 4718, 4719, 4720, 4721, 4722, 4723, 4724, 4725, 4726, 4727, 4728, 4729, 4730, 4731, 4732, 4733, 4734, 4735, 4736, 4737, 4738, 4739, 4740, 4741, 4742, 4743, 4744, 4745, 4746, 4747, 4748, 4749, 4750, 4751, 4752, 4753, 4754, 4755, 4756, 4757, 4758, 4759, 4760, 4761, 4762, 4763, 4764, 4765, 4766, 4767, 4768, 4769, 4770, 4771, 4772, 4773, 4774, 4775, 4776, 4777, 4778, 4779, 4780, 4781, 4782, 4783, 4784, 4785, 4786, 4787, 4788, 4789, 4790, 4791, 4792, 4793, 4794, 4795, 4796, 4797, 4798, 4799, 4800, 4801, 4802, 4803, 4804, 4805, 4806, 4807, 4808, 4809, 4810, 4811, 4812, 4813, 4814, 4815, 4816, 4817, 4818, 4819, 4820, 4821, 4822, 4823, 4824, 4825, 4826, 4827, 4828, 4829, 4830, 4831, 4832, 4833, 4834, 4835, 4836, 4837, 4838, 4839, 4840, 4841, 4842, 4843, 4844, 4845, 4846, 4847, 4848, 4849, 4850, 4851, 4852, 4853, 4854, 4855, 4856, 4857, 4858, 4859, 4860, 4861, 4862, 4863, 4864, 4865, 4866, 4867, 4868, 4869, 4870, 4871, 4872, 4873, 4874, 4875, 4876, 4877, 4878, 4879, 4880, 4881, 4882, 4883, 4884, 4885, 4886, 4887, 4888, 4889, 4890, 4891, 4892, 4893, 4894, 4895, 4896, 4897, 4898, 4899, 4900, 4901, 4902, 4903, 4904, 4905, 4906, 4907, 4908, 4909, 4910, 4911, 4912, 4913, 4914, 4915, 4916, 4917, 4918, 4919, 4920, 4921, 4922, 4923, 4924, 4925, 4926, 4927, 4928, 4929, 4930, 4931, 4932, 4933, 4934, 4935, 4936, 4937, 4938, 4939, 4940, 4941, 4942, 4943, 4944, 4945, 4946, 4947, 4948, 4949, 4950, 4951, 4952, 4953, 4954, 4955, 4956, 4957, 4958, 4959, 4960, 4961, 4962, 4963, 4964, 4965, 4966, 4967, 4968, 4969, 4970, 4971, 4972, 4973, 4974, 4975, 4976, 4977, 4978, 4979, 4980, 4981, 4982, 4983, 4984, 4985, 4986, 4987, 4988, 4989, 4990, 4991, 4992, 4993, 4994, 4995, 4996, 4997, 4998, 4999, 5000, 5001, 5002, 5003, 5004, 5005, 5006, 5007, 5008, 5009, 5010, 5011, 5012, 5013, 5014, 5015, 5016, 5017, 5018, 5019, 5020, 5021, 5022, 5023, 5024, 5025, 5026, 5027, 5028, 5029, 5030, 5031, 5032, 5033, 5034, 5035, 5036, 5037, 5038, 5039, 5040, 5041, 5042, 5043, 5044, 5045, 5046, 5047, 5048, 5049, 5050, 5051, 5052, 5053, 5054, 5055, 5056, 5057, 5058, 5059, 5060, 5061, 5062, 5063, 5064, 5065, 5066, 5067, 5068, 5069, 5070, 5071, 5072, 5073, 5074, 5075, 5076, 5077, 5078, 5079, 5080, 5081, 5082, 5083, 5084, 5085, 5086, 5087, 5088, 5089, 5090]\n"
          ]
        }
      ]
    },
    {
      "cell_type": "markdown",
      "source": [
        "## Boxplot Method"
      ],
      "metadata": {
        "id": "VzRaIgR96evG"
      }
    },
    {
      "cell_type": "code",
      "source": [
        "sns.boxplot(df['terrain_mtpi_alos_AVE'])"
      ],
      "metadata": {
        "colab": {
          "base_uri": "https://localhost:8080/",
          "height": 352
        },
        "id": "6rcgR0Ne29Eb",
        "outputId": "86771795-f1e0-45f8-8c2c-f1270412d3c9"
      },
      "execution_count": 16,
      "outputs": [
        {
          "output_type": "stream",
          "name": "stderr",
          "text": [
            "/usr/local/lib/python3.8/dist-packages/seaborn/_decorators.py:36: FutureWarning: Pass the following variable as a keyword arg: x. From version 0.12, the only valid positional argument will be `data`, and passing other arguments without an explicit keyword will result in an error or misinterpretation.\n",
            "  warnings.warn(\n"
          ]
        },
        {
          "output_type": "execute_result",
          "data": {
            "text/plain": [
              "<matplotlib.axes._subplots.AxesSubplot at 0x7f75656a7130>"
            ]
          },
          "metadata": {},
          "execution_count": 16
        },
        {
          "output_type": "display_data",
          "data": {
            "text/plain": [
              "<Figure size 432x288 with 1 Axes>"
            ],
            "image/png": "[encoded data removed]"
          },
          "metadata": {
            "needs_background": "light"
          }
        }
      ]
    },
    {
      "cell_type": "code",
      "source": [
        "df.boxplot('terrain_mtpi_alos_AVE')"
      ],
      "metadata": {
        "colab": {
          "base_uri": "https://localhost:8080/",
          "height": 283
        },
        "id": "J1rPNgio4XTc",
        "outputId": "42c83c28-b3f8-423f-f133-53df25e5d7c5"
      },
      "execution_count": 17,
      "outputs": [
        {
          "output_type": "execute_result",
          "data": {
            "text/plain": [
              "<matplotlib.axes._subplots.AxesSubplot at 0x7f756551f9a0>"
            ]
          },
          "metadata": {},
          "execution_count": 17
        },
        {
          "output_type": "display_data",
          "data": {
            "text/plain": [
              "<Figure size 432x288 with 1 Axes>"
            ],
            "image/png": "[encoded data removed]"
          },
          "metadata": {
            "needs_background": "light"
          }
        }
      ]
    },
    {
      "cell_type": "markdown",
      "source": [
        "Took another Feature Attribute and apply IQR Method"
      ],
      "metadata": {
        "id": "3uGXNwRI6zlG"
      }
    },
    {
      "cell_type": "code",
      "source": [
        "q1 = df['dem_merit'].quantile(0.25)\n",
        "q2 = df['dem_merit'].quantile(0.5)\n",
        "q3 = df['dem_merit'].quantile(0.75)\n",
        "print(f'1st Quartile  >> 25th percentile of the data = {q1}')\n",
        "print(f'2nd Quartile  >> 50th percentile of the data = {q3}')\n",
        "print(f'3rd Quartile  >> 75th percentile of the data = {q3}')\n",
        "print('*'*112)\n",
        "\n",
        "iqr = q3 - q1\n",
        "print('Inter Quartile Range(IQR): ', iqr)\n",
        "print('*'*112)\n",
        "\n",
        "lower_tail = q1 - 3 * iqr #Extreme Outliers\n",
        "upper_tail = q3 + 3 * iqr #Extreme Outliers\n",
        "print('Lower tail is :',lower_tail)\n",
        "print('Upper tail is :',upper_tail)"
      ],
      "metadata": {
        "colab": {
          "base_uri": "https://localhost:8080/"
        },
        "id": "6izEf5482QI7",
        "outputId": "d18c13c6-6df0-4583-f14f-450046294a38"
      },
      "execution_count": 18,
      "outputs": [
        {
          "output_type": "stream",
          "name": "stdout",
          "text": [
            "1st Quartile  >> 25th percentile of the data = 177.08223724365251\n",
            "2nd Quartile  >> 50th percentile of the data = 1228.77691650391\n",
            "3rd Quartile  >> 75th percentile of the data = 1228.77691650391\n",
            "****************************************************************************************************************\n",
            "Inter Quartile Range(IQR):  1051.6946792602573\n",
            "****************************************************************************************************************\n",
            "Lower tail is : -2978.0018005371194\n",
            "Upper tail is : 4383.860954284682\n"
          ]
        }
      ]
    },
    {
      "cell_type": "code",
      "source": [
        "outliers = []\n",
        "for i in range(len(df)):\n",
        "    df.loc[i,'dem_merit']\n",
        "    if (i > q1+(1.5*iqr)) or (i < q1-(1.5*iqr)):\n",
        "        outliers.append(i)\n",
        "\n",
        "print('Outliers for dem_merit: ', outliers)"
      ],
      "metadata": {
        "colab": {
          "base_uri": "https://localhost:8080/"
        },
        "id": "s1DnMn2j2QQ8",
        "outputId": "b6f43f30-1333-4a6e-ed15-ea0152705819"
      },
      "execution_count": 71,
      "outputs": [
        {
          "output_type": "stream",
          "name": "stdout",
          "text": [
            "Outliers for dem_merit:  [6, 7, 8, 9, 10, 11, 12, 13, 14, 15, 16, 17, 18, 19, 20, 21, 22, 23, 24, 25, 26, 27, 28, 29, 30, 31, 32, 33, 34, 35, 36, 37, 38, 39, 40, 41, 42, 43, 44, 45, 46, 47, 48, 49, 50, 51, 52, 53, 54, 55, 56, 57, 58, 59, 60, 61, 62, 63, 64, 65, 66, 67, 68, 69, 70, 71, 72, 73, 74, 75, 76, 77, 78, 79, 80, 81, 82, 83, 84, 85, 86, 87, 88, 89, 90, 91, 92, 93, 94, 95, 96, 97, 98, 99, 100, 101, 102, 103, 104, 105, 106, 107, 108, 109, 110, 111, 112, 113, 114, 115, 116, 117, 118, 119, 120, 121, 122, 123, 124, 125, 126, 127, 128, 129, 130, 131, 132, 133, 134, 135, 136, 137, 138, 139, 140, 141, 142, 143, 144, 145, 146, 147, 148, 149, 150, 151, 152, 153, 154, 155, 156, 157, 158, 159, 160, 161, 162, 163, 164, 165, 166, 167, 168, 169, 170, 171, 172, 173, 174, 175, 176, 177, 178, 179, 180, 181, 182, 183, 184, 185, 186, 187, 188, 189, 190, 191, 192, 193, 194, 195, 196, 197, 198, 199, 200, 201, 202, 203, 204, 205, 206, 207, 208, 209, 210, 211, 212, 213, 214, 215, 216, 217, 218, 219, 220, 221, 222, 223, 224, 225, 226, 227, 228, 229, 230, 231, 232, 233, 234, 235, 236, 237, 238, 239, 240, 241, 242, 243, 244, 245, 246, 247, 248, 249, 250, 251, 252, 253, 254, 255, 256, 257, 258, 259, 260, 261, 262, 263, 264, 265, 266, 267, 268, 269, 270, 271, 272, 273, 274, 275, 276, 277, 278, 279, 280, 281, 282, 283, 284, 285, 286, 287, 288, 289, 290, 291, 292, 293, 294, 295, 296, 297, 298, 299, 300, 301, 302, 303, 304, 305, 306, 307, 308, 309, 310, 311, 312, 313, 314, 315, 316, 317, 318, 319, 320, 321, 322, 323, 324, 325, 326, 327, 328, 329, 330, 331, 332, 333, 334, 335, 336, 337, 338, 339, 340, 341, 342, 343, 344, 345, 346, 347, 348, 349, 350, 351, 352, 353, 354, 355, 356, 357, 358, 359, 360, 361, 362, 363, 364, 365, 366, 367, 368, 369, 370, 371, 372, 373, 374, 375, 376, 377, 378, 379, 380, 381, 382, 383, 384, 385, 386, 387, 388, 389, 390, 391, 392, 393, 394, 395, 396, 397, 398, 399, 400, 401, 402, 403, 404, 405, 406, 407, 408, 409, 410, 411, 412, 413, 414, 415, 416, 417, 418, 419, 420, 421, 422, 423, 424, 425, 426, 427, 428, 429, 430, 431, 432, 433, 434, 435, 436, 437, 438, 439, 440, 441, 442, 443, 444, 445, 446, 447, 448, 449, 450, 451, 452, 453, 454, 455, 456, 457, 458, 459, 460, 461, 462, 463, 464, 465, 466, 467, 468, 469, 470, 471, 472, 473, 474, 475, 476, 477, 478, 479, 480, 481, 482, 483, 484, 485, 486, 487, 488, 489, 490, 491, 492, 493, 494, 495, 496, 497, 498, 499, 500, 501, 502, 503, 504, 505, 506, 507, 508, 509, 510, 511, 512, 513, 514, 515, 516, 517, 518, 519, 520, 521, 522, 523, 524, 525, 526, 527, 528, 529, 530, 531, 532, 533, 534, 535, 536, 537, 538, 539, 540, 541, 542, 543, 544, 545, 546, 547, 548, 549, 550, 551, 552, 553, 554, 555, 556, 557, 558, 559, 560, 561, 562, 563, 564, 565, 566, 567, 568, 569, 570, 571, 572, 573, 574, 575, 576, 577, 578, 579, 580, 581, 582, 583, 584, 585, 586, 587, 588, 589, 590, 591, 592, 593, 594, 595, 596, 597, 598, 599, 600, 601, 602, 603, 604, 605, 606, 607, 608, 609, 610, 611, 612, 613, 614, 615, 616, 617, 618, 619, 620, 621, 622, 623, 624, 625, 626, 627, 628, 629, 630, 631, 632, 633, 634, 635, 636, 637, 638, 639, 640, 641, 642, 643, 644, 645, 646, 647, 648, 649, 650, 651, 652, 653, 654, 655, 656, 657, 658, 659, 660, 661, 662, 663, 664, 665, 666, 667, 668, 669, 670, 671, 672, 673, 674, 675, 676, 677, 678, 679, 680, 681, 682, 683, 684, 685, 686, 687, 688, 689, 690, 691, 692, 693, 694, 695, 696, 697, 698, 699, 700, 701, 702, 703, 704, 705, 706, 707, 708, 709, 710, 711, 712, 713, 714, 715, 716, 717, 718, 719, 720, 721, 722, 723, 724, 725, 726, 727, 728, 729, 730, 731, 732, 733, 734, 735, 736, 737, 738, 739, 740, 741, 742, 743, 744, 745, 746, 747, 748, 749, 750, 751, 752, 753, 754, 755, 756, 757, 758, 759, 760, 761, 762, 763, 764, 765, 766, 767, 768, 769, 770, 771, 772, 773, 774, 775, 776, 777, 778, 779, 780, 781, 782, 783, 784, 785, 786, 787, 788, 789, 790, 791, 792, 793, 794, 795, 796, 797, 798, 799, 800, 801, 802, 803, 804, 805, 806, 807, 808, 809, 810, 811, 812, 813, 814, 815, 816, 817, 818, 819, 820, 821, 822, 823, 824, 825, 826, 827, 828, 829, 830, 831, 832, 833, 834, 835, 836, 837, 838, 839, 840, 841, 842, 843, 844, 845, 846, 847, 848, 849, 850, 851, 852, 853, 854, 855, 856, 857, 858, 859, 860, 861, 862, 863, 864, 865, 866, 867, 868, 869, 870, 871, 872, 873, 874, 875, 876, 877, 878, 879, 880, 881, 882, 883, 884, 885, 886, 887, 888, 889, 890, 891, 892, 893, 894, 895, 896, 897, 898, 899, 900, 901, 902, 903, 904, 905, 906, 907, 908, 909, 910, 911, 912, 913, 914, 915, 916, 917, 918, 919, 920, 921, 922, 923, 924, 925, 926, 927, 928, 929, 930, 931, 932, 933, 934, 935, 936, 937, 938, 939, 940, 941, 942, 943, 944, 945, 946, 947, 948, 949, 950, 951, 952, 953, 954, 955, 956, 957, 958, 959, 960, 961, 962, 963, 964, 965, 966, 967, 968, 969, 970, 971, 972, 973, 974, 975, 976, 977, 978, 979, 980, 981, 982, 983, 984, 985, 986, 987, 988, 989, 990, 991, 992, 993, 994, 995, 996, 997, 998, 999, 1000, 1001, 1002, 1003, 1004, 1005, 1006, 1007, 1008, 1009, 1010, 1011, 1012, 1013, 1014, 1015, 1016, 1017, 1018, 1019, 1020, 1021, 1022, 1023, 1024, 1025, 1026, 1027, 1028, 1029, 1030, 1031, 1032, 1033, 1034, 1035, 1036, 1037, 1038, 1039, 1040, 1041, 1042, 1043, 1044, 1045, 1046, 1047, 1048, 1049, 1050, 1051, 1052, 1053, 1054, 1055, 1056, 1057, 1058, 1059, 1060, 1061, 1062, 1063, 1064, 1065, 1066, 1067, 1068, 1069, 1070, 1071, 1072, 1073, 1074, 1075, 1076, 1077, 1078, 1079, 1080, 1081, 1082, 1083, 1084, 1085, 1086, 1087, 1088, 1089, 1090, 1091, 1092, 1093, 1094, 1095, 1096, 1097, 1098, 1099, 1100, 1101, 1102, 1103, 1104, 1105, 1106, 1107, 1108, 1109, 1110, 1111, 1112, 1113, 1114, 1115, 1116, 1117, 1118, 1119, 1120, 1121, 1122, 1123, 1124, 1125, 1126, 1127, 1128, 1129, 1130, 1131, 1132, 1133, 1134, 1135, 1136, 1137, 1138, 1139, 1140, 1141, 1142, 1143, 1144, 1145, 1146, 1147, 1148, 1149, 1150, 1151, 1152, 1153, 1154, 1155, 1156, 1157, 1158, 1159, 1160, 1161, 1162, 1163, 1164, 1165, 1166, 1167, 1168, 1169, 1170, 1171, 1172, 1173, 1174, 1175, 1176, 1177, 1178, 1179, 1180, 1181, 1182, 1183, 1184, 1185, 1186, 1187, 1188, 1189, 1190, 1191, 1192, 1193, 1194, 1195, 1196, 1197, 1198, 1199, 1200, 1201, 1202, 1203, 1204, 1205, 1206, 1207, 1208, 1209, 1210, 1211, 1212, 1213, 1214, 1215, 1216, 1217, 1218, 1219, 1220, 1221, 1222, 1223, 1224, 1225, 1226, 1227, 1228, 1229, 1230, 1231, 1232, 1233, 1234, 1235, 1236, 1237, 1238, 1239, 1240, 1241, 1242, 1243, 1244, 1245, 1246, 1247, 1248, 1249, 1250, 1251, 1252, 1253, 1254, 1255, 1256, 1257, 1258, 1259, 1260, 1261, 1262, 1263, 1264, 1265, 1266, 1267, 1268, 1269, 1270, 1271, 1272, 1273, 1274, 1275, 1276, 1277, 1278, 1279, 1280, 1281, 1282, 1283, 1284, 1285, 1286, 1287, 1288, 1289, 1290, 1291, 1292, 1293, 1294, 1295, 1296, 1297, 1298, 1299, 1300, 1301, 1302, 1303, 1304, 1305, 1306, 1307, 1308, 1309, 1310, 1311, 1312, 1313, 1314, 1315, 1316, 1317, 1318, 1319, 1320, 1321, 1322, 1323, 1324, 1325, 1326, 1327, 1328, 1329, 1330, 1331, 1332, 1333, 1334, 1335, 1336, 1337, 1338, 1339, 1340, 1341, 1342, 1343, 1344, 1345, 1346, 1347, 1348, 1349, 1350, 1351, 1352, 1353, 1354, 1355, 1356, 1357, 1358, 1359, 1360, 1361, 1362, 1363, 1364, 1365, 1366, 1367, 1368, 1369, 1370, 1371, 1372, 1373, 1374, 1375, 1376, 1377, 1378, 1379, 1380, 1381, 1382, 1383, 1384, 1385, 1386, 1387, 1388, 1389, 1390, 1391, 1392, 1393, 1394, 1395, 1396, 1397, 1398, 1399, 1400, 1401, 1402, 1403, 1404, 1405, 1406, 1407, 1408, 1409, 1410, 1411, 1412, 1413, 1414, 1415, 1416, 1417, 1418, 1419, 1420, 1421, 1422, 1423, 1424, 1425, 1426, 1427, 1428, 1429, 1430, 1431, 1432, 1433, 1434, 1435, 1436, 1437, 1438, 1439, 1440, 1441, 1442, 1443, 1444, 1445, 1446, 1447, 1448, 1449, 1450, 1451, 1452, 1453, 1454, 1455, 1456, 1457, 1458, 1459, 1460, 1461, 1462, 1463, 1464, 1465, 1466, 1467, 1468, 1469, 1470, 1471, 1472, 1473, 1474, 1475, 1476, 1477, 1478, 1479, 1480, 1481, 1482, 1483, 1484, 1485, 1486, 1487, 1488, 1489, 1490, 1491, 1492, 1493, 1494, 1495, 1496, 1497, 1498, 1499, 1500, 1501, 1502, 1503, 1504, 1505, 1506, 1507, 1508, 1509, 1510, 1511, 1512, 1513, 1514, 1515, 1516, 1517, 1518, 1519, 1520, 1521, 1522, 1523, 1524, 1525, 1526, 1527, 1528, 1529, 1530, 1531, 1532, 1533, 1534, 1535, 1536, 1537, 1538, 1539, 1540, 1541, 1542, 1543, 1544, 1545, 1546, 1547, 1548, 1549, 1550, 1551, 1552, 1553, 1554, 1555, 1556, 1557, 1558, 1559, 1560, 1561, 1562, 1563, 1564, 1565, 1566, 1567, 1568, 1569, 1570, 1571, 1572, 1573, 1574, 1575, 1576, 1577, 1578, 1579, 1580, 1581, 1582, 1583, 1584, 1585, 1586, 1587, 1588, 1589, 1590, 1591, 1592, 1593, 1594, 1595, 1596, 1597, 1598, 1599, 1600, 1601, 1602, 1603, 1604, 1605, 1606, 1607, 1608, 1609, 1610, 1611, 1612, 1613, 1614, 1615, 1616, 1617, 1618, 1619, 1620, 1621, 1622, 1623, 1624, 1625, 1626, 1627, 1628, 1629, 1630, 1631, 1632, 1633, 1634, 1635, 1636, 1637, 1638, 1639, 1640, 1641, 1642, 1643, 1644, 1645, 1646, 1647, 1648, 1649, 1650, 1651, 1652, 1653, 1654, 1655, 1656, 1657, 1658, 1659, 1660, 1661, 1662, 1663, 1664, 1665, 1666, 1667, 1668, 1669, 1670, 1671, 1672, 1673, 1674, 1675, 1676, 1677, 1678, 1679, 1680, 1681, 1682, 1683, 1684, 1685, 1686, 1687, 1688, 1689, 1690, 1691, 1692, 1693, 1694, 1695, 1696, 1697, 1698, 1699, 1700, 1701, 1702, 1703, 1704, 1705, 1706, 1707, 1708, 1709, 1710, 1711, 1712, 1713, 1714, 1715, 1716, 1717, 1718, 1719, 1720, 1721, 1722, 1723, 1724, 1725, 1726, 1727, 1728, 1729, 1730, 1731, 1732, 1733, 1734, 1735, 1736, 1737, 1738, 1739, 1740, 1741, 1742, 1743, 1744, 1745, 1746, 1747, 1748, 1749, 1750, 1751, 1752, 1753, 1754, 1755, 1756, 1757, 1758, 1759, 1760, 1761, 1762, 1763, 1764, 1765, 1766, 1767, 1768, 1769, 1770, 1771, 1772, 1773, 1774, 1775, 1776, 1777, 1778, 1779, 1780, 1781, 1782, 1783, 1784, 1785, 1786, 1787, 1788, 1789, 1790, 1791, 1792, 1793, 1794, 1795, 1796, 1797, 1798, 1799, 1800, 1801, 1802, 1803, 1804, 1805, 1806, 1807, 1808, 1809, 1810, 1811, 1812, 1813, 1814, 1815, 1816, 1817, 1818, 1819, 1820, 1821, 1822, 1823, 1824, 1825, 1826, 1827, 1828, 1829, 1830, 1831, 1832, 1833, 1834, 1835, 1836, 1837, 1838, 1839, 1840, 1841, 1842, 1843, 1844, 1845, 1846, 1847, 1848, 1849, 1850, 1851, 1852, 1853, 1854, 1855, 1856, 1857, 1858, 1859, 1860, 1861, 1862, 1863, 1864, 1865, 1866, 1867, 1868, 1869, 1870, 1871, 1872, 1873, 1874, 1875, 1876, 1877, 1878, 1879, 1880, 1881, 1882, 1883, 1884, 1885, 1886, 1887, 1888, 1889, 1890, 1891, 1892, 1893, 1894, 1895, 1896, 1897, 1898, 1899, 1900, 1901, 1902, 1903, 1904, 1905, 1906, 1907, 1908, 1909, 1910, 1911, 1912, 1913, 1914, 1915, 1916, 1917, 1918, 1919, 1920, 1921, 1922, 1923, 1924, 1925, 1926, 1927, 1928, 1929, 1930, 1931, 1932, 1933, 1934, 1935, 1936, 1937, 1938, 1939, 1940, 1941, 1942, 1943, 1944, 1945, 1946, 1947, 1948, 1949, 1950, 1951, 1952, 1953, 1954, 1955, 1956, 1957, 1958, 1959, 1960, 1961, 1962, 1963, 1964, 1965, 1966, 1967, 1968, 1969, 1970, 1971, 1972, 1973, 1974, 1975, 1976, 1977, 1978, 1979, 1980, 1981, 1982, 1983, 1984, 1985, 1986, 1987, 1988, 1989, 1990, 1991, 1992, 1993, 1994, 1995, 1996, 1997, 1998, 1999, 2000, 2001, 2002, 2003, 2004, 2005, 2006, 2007, 2008, 2009, 2010, 2011, 2012, 2013, 2014, 2015, 2016, 2017, 2018, 2019, 2020, 2021, 2022, 2023, 2024, 2025, 2026, 2027, 2028, 2029, 2030, 2031, 2032, 2033, 2034, 2035, 2036, 2037, 2038, 2039, 2040, 2041, 2042, 2043, 2044, 2045, 2046, 2047, 2048, 2049, 2050, 2051, 2052, 2053, 2054, 2055, 2056, 2057, 2058, 2059, 2060, 2061, 2062, 2063, 2064, 2065, 2066, 2067, 2068, 2069, 2070, 2071, 2072, 2073, 2074, 2075, 2076, 2077, 2078, 2079, 2080, 2081, 2082, 2083, 2084, 2085, 2086, 2087, 2088, 2089, 2090, 2091, 2092, 2093, 2094, 2095, 2096, 2097, 2098, 2099, 2100, 2101, 2102, 2103, 2104, 2105, 2106, 2107, 2108, 2109, 2110, 2111, 2112, 2113, 2114, 2115, 2116, 2117, 2118, 2119, 2120, 2121, 2122, 2123, 2124, 2125, 2126, 2127, 2128, 2129, 2130, 2131, 2132, 2133, 2134, 2135, 2136, 2137, 2138, 2139, 2140, 2141, 2142, 2143, 2144, 2145, 2146, 2147, 2148, 2149, 2150, 2151, 2152, 2153, 2154, 2155, 2156, 2157, 2158, 2159, 2160, 2161, 2162, 2163, 2164, 2165, 2166, 2167, 2168, 2169, 2170, 2171, 2172, 2173, 2174, 2175, 2176, 2177, 2178, 2179, 2180, 2181, 2182, 2183, 2184, 2185, 2186, 2187, 2188, 2189, 2190, 2191, 2192, 2193, 2194, 2195, 2196, 2197, 2198, 2199, 2200, 2201, 2202, 2203, 2204, 2205, 2206, 2207, 2208, 2209, 2210, 2211, 2212, 2213, 2214, 2215, 2216, 2217, 2218, 2219, 2220, 2221, 2222, 2223, 2224, 2225, 2226, 2227, 2228, 2229, 2230, 2231, 2232, 2233, 2234, 2235, 2236, 2237, 2238, 2239, 2240, 2241, 2242, 2243, 2244, 2245, 2246, 2247, 2248, 2249, 2250, 2251, 2252, 2253, 2254, 2255, 2256, 2257, 2258, 2259, 2260, 2261, 2262, 2263, 2264, 2265, 2266, 2267, 2268, 2269, 2270, 2271, 2272, 2273, 2274, 2275, 2276, 2277, 2278, 2279, 2280, 2281, 2282, 2283, 2284, 2285, 2286, 2287, 2288, 2289, 2290, 2291, 2292, 2293, 2294, 2295, 2296, 2297, 2298, 2299, 2300, 2301, 2302, 2303, 2304, 2305, 2306, 2307, 2308, 2309, 2310, 2311, 2312, 2313, 2314, 2315, 2316, 2317, 2318, 2319, 2320, 2321, 2322, 2323, 2324, 2325, 2326, 2327, 2328, 2329, 2330, 2331, 2332, 2333, 2334, 2335, 2336, 2337, 2338, 2339, 2340, 2341, 2342, 2343, 2344, 2345, 2346, 2347, 2348, 2349, 2350, 2351, 2352, 2353, 2354, 2355, 2356, 2357, 2358, 2359, 2360, 2361, 2362, 2363, 2364, 2365, 2366, 2367, 2368, 2369, 2370, 2371, 2372, 2373, 2374, 2375, 2376, 2377, 2378, 2379, 2380, 2381, 2382, 2383, 2384, 2385, 2386, 2387, 2388, 2389, 2390, 2391, 2392, 2393, 2394, 2395, 2396, 2397, 2398, 2399, 2400, 2401, 2402, 2403, 2404, 2405, 2406, 2407, 2408, 2409, 2410, 2411, 2412, 2413, 2414, 2415, 2416, 2417, 2418, 2419, 2420, 2421, 2422, 2423, 2424, 2425, 2426, 2427, 2428, 2429, 2430, 2431, 2432, 2433, 2434, 2435, 2436, 2437, 2438, 2439, 2440, 2441, 2442, 2443, 2444, 2445, 2446, 2447, 2448, 2449, 2450, 2451, 2452, 2453, 2454, 2455, 2456, 2457, 2458, 2459, 2460, 2461, 2462, 2463, 2464, 2465, 2466, 2467, 2468, 2469, 2470, 2471, 2472, 2473, 2474, 2475, 2476, 2477, 2478, 2479, 2480, 2481, 2482, 2483, 2484, 2485, 2486, 2487, 2488, 2489, 2490, 2491, 2492, 2493, 2494, 2495, 2496, 2497, 2498, 2499, 2500, 2501, 2502, 2503, 2504, 2505, 2506, 2507, 2508, 2509, 2510, 2511, 2512, 2513, 2514, 2515, 2516, 2517, 2518, 2519, 2520, 2521, 2522, 2523, 2524, 2525, 2526, 2527, 2528, 2529, 2530, 2531, 2532, 2533, 2534, 2535, 2536, 2537, 2538, 2539, 2540, 2541, 2542, 2543, 2544, 2545, 2546, 2547, 2548, 2549, 2550, 2551, 2552, 2553, 2554, 2555, 2556, 2557, 2558, 2559, 2560, 2561, 2562, 2563, 2564, 2565, 2566, 2567, 2568, 2569, 2570, 2571, 2572, 2573, 2574, 2575, 2576, 2577, 2578, 2579, 2580, 2581, 2582, 2583, 2584, 2585, 2586, 2587, 2588, 2589, 2590, 2591, 2592, 2593, 2594, 2595, 2596, 2597, 2598, 2599, 2600, 2601, 2602, 2603, 2604, 2605, 2606, 2607, 2608, 2609, 2610, 2611, 2612, 2613, 2614, 2615, 2616, 2617, 2618, 2619, 2620, 2621, 2622, 2623, 2624, 2625, 2626, 2627, 2628, 2629, 2630, 2631, 2632, 2633, 2634, 2635, 2636, 2637, 2638, 2639, 2640, 2641, 2642, 2643, 2644, 2645, 2646, 2647, 2648, 2649, 2650, 2651, 2652, 2653, 2654, 2655, 2656, 2657, 2658, 2659, 2660, 2661, 2662, 2663, 2664, 2665, 2666, 2667, 2668, 2669, 2670, 2671, 2672, 2673, 2674, 2675, 2676, 2677, 2678, 2679, 2680, 2681, 2682, 2683, 2684, 2685, 2686, 2687, 2688, 2689, 2690, 2691, 2692, 2693, 2694, 2695, 2696, 2697, 2698, 2699, 2700, 2701, 2702, 2703, 2704, 2705, 2706, 2707, 2708, 2709, 2710, 2711, 2712, 2713, 2714, 2715, 2716, 2717, 2718, 2719, 2720, 2721, 2722, 2723, 2724, 2725, 2726, 2727, 2728, 2729, 2730, 2731, 2732, 2733, 2734, 2735, 2736, 2737, 2738, 2739, 2740, 2741, 2742, 2743, 2744, 2745, 2746, 2747, 2748, 2749, 2750, 2751, 2752, 2753, 2754, 2755, 2756, 2757, 2758, 2759, 2760, 2761, 2762, 2763, 2764, 2765, 2766, 2767, 2768, 2769, 2770, 2771, 2772, 2773, 2774, 2775, 2776, 2777, 2778, 2779, 2780, 2781, 2782, 2783, 2784, 2785, 2786, 2787, 2788, 2789, 2790, 2791, 2792, 2793, 2794, 2795, 2796, 2797, 2798, 2799, 2800, 2801, 2802, 2803, 2804, 2805, 2806, 2807, 2808, 2809, 2810, 2811, 2812, 2813, 2814, 2815, 2816, 2817, 2818, 2819, 2820, 2821, 2822, 2823, 2824, 2825, 2826, 2827, 2828, 2829, 2830, 2831, 2832, 2833, 2834, 2835, 2836, 2837, 2838, 2839, 2840, 2841, 2842, 2843, 2844, 2845, 2846, 2847, 2848, 2849, 2850, 2851, 2852, 2853, 2854, 2855, 2856, 2857, 2858, 2859, 2860, 2861, 2862, 2863, 2864, 2865, 2866, 2867, 2868, 2869, 2870, 2871, 2872, 2873, 2874, 2875, 2876, 2877, 2878, 2879, 2880, 2881, 2882, 2883, 2884, 2885, 2886, 2887, 2888, 2889, 2890, 2891, 2892, 2893, 2894, 2895, 2896, 2897, 2898, 2899, 2900, 2901, 2902, 2903, 2904, 2905, 2906, 2907, 2908, 2909, 2910, 2911, 2912, 2913, 2914, 2915, 2916, 2917, 2918, 2919, 2920, 2921, 2922, 2923, 2924, 2925, 2926, 2927, 2928, 2929, 2930, 2931, 2932, 2933, 2934, 2935, 2936, 2937, 2938, 2939, 2940, 2941, 2942, 2943, 2944, 2945, 2946, 2947, 2948, 2949, 2950, 2951, 2952, 2953, 2954, 2955, 2956, 2957, 2958, 2959, 2960, 2961, 2962, 2963, 2964, 2965, 2966, 2967, 2968, 2969, 2970, 2971, 2972, 2973, 2974, 2975, 2976, 2977, 2978, 2979, 2980, 2981, 2982, 2983, 2984, 2985, 2986, 2987, 2988, 2989, 2990, 2991, 2992, 2993, 2994, 2995, 2996, 2997, 2998, 2999, 3000, 3001, 3002, 3003, 3004, 3005, 3006, 3007, 3008, 3009, 3010, 3011, 3012, 3013, 3014, 3015, 3016, 3017, 3018, 3019, 3020, 3021, 3022, 3023, 3024, 3025, 3026, 3027, 3028, 3029, 3030, 3031, 3032, 3033, 3034, 3035, 3036, 3037, 3038, 3039, 3040, 3041, 3042, 3043, 3044, 3045, 3046, 3047, 3048, 3049, 3050, 3051, 3052, 3053, 3054, 3055, 3056, 3057, 3058, 3059, 3060, 3061, 3062, 3063, 3064, 3065, 3066, 3067, 3068, 3069, 3070, 3071, 3072, 3073, 3074, 3075, 3076, 3077, 3078, 3079, 3080, 3081, 3082, 3083, 3084, 3085, 3086, 3087, 3088, 3089, 3090, 3091, 3092, 3093, 3094, 3095, 3096, 3097, 3098, 3099, 3100, 3101, 3102, 3103, 3104, 3105, 3106, 3107, 3108, 3109, 3110, 3111, 3112, 3113, 3114, 3115, 3116, 3117, 3118, 3119, 3120, 3121, 3122, 3123, 3124, 3125, 3126, 3127, 3128, 3129, 3130, 3131, 3132, 3133, 3134, 3135, 3136, 3137, 3138, 3139, 3140, 3141, 3142, 3143, 3144, 3145, 3146, 3147, 3148, 3149, 3150, 3151, 3152, 3153, 3154, 3155, 3156, 3157, 3158, 3159, 3160, 3161, 3162, 3163, 3164, 3165, 3166, 3167, 3168, 3169, 3170, 3171, 3172, 3173, 3174, 3175, 3176, 3177, 3178, 3179, 3180, 3181, 3182, 3183, 3184, 3185, 3186, 3187, 3188, 3189, 3190, 3191, 3192, 3193, 3194, 3195, 3196, 3197, 3198, 3199, 3200, 3201, 3202, 3203, 3204, 3205, 3206, 3207, 3208, 3209, 3210, 3211, 3212, 3213, 3214, 3215, 3216, 3217, 3218, 3219, 3220, 3221, 3222, 3223, 3224, 3225, 3226, 3227, 3228, 3229, 3230, 3231, 3232, 3233, 3234, 3235, 3236, 3237, 3238, 3239, 3240, 3241, 3242, 3243, 3244, 3245, 3246, 3247, 3248, 3249, 3250, 3251, 3252, 3253, 3254, 3255, 3256, 3257, 3258, 3259, 3260, 3261, 3262, 3263, 3264, 3265, 3266, 3267, 3268, 3269, 3270, 3271, 3272, 3273, 3274, 3275, 3276, 3277, 3278, 3279, 3280, 3281, 3282, 3283, 3284, 3285, 3286, 3287, 3288, 3289, 3290, 3291, 3292, 3293, 3294, 3295, 3296, 3297, 3298, 3299, 3300, 3301, 3302, 3303, 3304, 3305, 3306, 3307, 3308, 3309, 3310, 3311, 3312, 3313, 3314, 3315, 3316, 3317, 3318, 3319, 3320, 3321, 3322, 3323, 3324, 3325, 3326, 3327, 3328, 3329, 3330, 3331, 3332, 3333, 3334, 3335, 3336, 3337, 3338, 3339, 3340, 3341, 3342, 3343, 3344, 3345, 3346, 3347, 3348, 3349, 3350, 3351, 3352, 3353, 3354, 3355, 3356, 3357, 3358, 3359, 3360, 3361, 3362, 3363, 3364, 3365, 3366, 3367, 3368, 3369, 3370, 3371, 3372, 3373, 3374, 3375, 3376, 3377, 3378, 3379, 3380, 3381, 3382, 3383, 3384, 3385, 3386, 3387, 3388, 3389, 3390, 3391, 3392, 3393, 3394, 3395, 3396, 3397, 3398, 3399, 3400, 3401, 3402, 3403, 3404, 3405, 3406, 3407, 3408, 3409, 3410, 3411, 3412, 3413, 3414, 3415, 3416, 3417, 3418, 3419, 3420, 3421, 3422, 3423, 3424, 3425, 3426, 3427, 3428, 3429, 3430, 3431, 3432, 3433, 3434, 3435, 3436, 3437, 3438, 3439, 3440, 3441, 3442, 3443, 3444, 3445, 3446, 3447, 3448, 3449, 3450, 3451, 3452, 3453, 3454, 3455, 3456, 3457, 3458, 3459, 3460, 3461, 3462, 3463, 3464, 3465, 3466, 3467, 3468, 3469, 3470, 3471, 3472, 3473, 3474, 3475, 3476, 3477, 3478, 3479, 3480, 3481, 3482, 3483, 3484, 3485, 3486, 3487, 3488, 3489, 3490, 3491, 3492, 3493, 3494, 3495, 3496, 3497, 3498, 3499, 3500, 3501, 3502, 3503, 3504, 3505, 3506, 3507, 3508, 3509, 3510, 3511, 3512, 3513, 3514, 3515, 3516, 3517, 3518, 3519, 3520, 3521, 3522, 3523, 3524, 3525, 3526, 3527, 3528, 3529, 3530, 3531, 3532, 3533, 3534, 3535, 3536, 3537, 3538, 3539, 3540, 3541, 3542, 3543, 3544, 3545, 3546, 3547, 3548, 3549, 3550, 3551, 3552, 3553, 3554, 3555, 3556, 3557, 3558, 3559, 3560, 3561, 3562, 3563, 3564, 3565, 3566, 3567, 3568, 3569, 3570, 3571, 3572, 3573, 3574, 3575, 3576, 3577, 3578, 3579, 3580, 3581, 3582, 3583, 3584, 3585, 3586, 3587, 3588, 3589, 3590, 3591, 3592, 3593, 3594, 3595, 3596, 3597, 3598, 3599, 3600, 3601, 3602, 3603, 3604, 3605, 3606, 3607, 3608, 3609, 3610, 3611, 3612, 3613, 3614, 3615, 3616, 3617, 3618, 3619, 3620, 3621, 3622, 3623, 3624, 3625, 3626, 3627, 3628, 3629, 3630, 3631, 3632, 3633, 3634, 3635, 3636, 3637, 3638, 3639, 3640, 3641, 3642, 3643, 3644, 3645, 3646, 3647, 3648, 3649, 3650, 3651, 3652, 3653, 3654, 3655, 3656, 3657, 3658, 3659, 3660, 3661, 3662, 3663, 3664, 3665, 3666, 3667, 3668, 3669, 3670, 3671, 3672, 3673, 3674, 3675, 3676, 3677, 3678, 3679, 3680, 3681, 3682, 3683, 3684, 3685, 3686, 3687, 3688, 3689, 3690, 3691, 3692, 3693, 3694, 3695, 3696, 3697, 3698, 3699, 3700, 3701, 3702, 3703, 3704, 3705, 3706, 3707, 3708, 3709, 3710, 3711, 3712, 3713, 3714, 3715, 3716, 3717, 3718, 3719, 3720, 3721, 3722, 3723, 3724, 3725, 3726, 3727, 3728, 3729, 3730, 3731, 3732, 3733, 3734, 3735, 3736, 3737, 3738, 3739, 3740, 3741, 3742, 3743, 3744, 3745, 3746, 3747, 3748, 3749, 3750, 3751, 3752, 3753, 3754, 3755, 3756, 3757, 3758, 3759, 3760, 3761, 3762, 3763, 3764, 3765, 3766, 3767, 3768, 3769, 3770, 3771, 3772, 3773, 3774, 3775, 3776, 3777, 3778, 3779, 3780, 3781, 3782, 3783, 3784, 3785, 3786, 3787, 3788, 3789, 3790, 3791, 3792, 3793, 3794, 3795, 3796, 3797, 3798, 3799, 3800, 3801, 3802, 3803, 3804, 3805, 3806, 3807, 3808, 3809, 3810, 3811, 3812, 3813, 3814, 3815, 3816, 3817, 3818, 3819, 3820, 3821, 3822, 3823, 3824, 3825, 3826, 3827, 3828, 3829, 3830, 3831, 3832, 3833, 3834, 3835, 3836, 3837, 3838, 3839, 3840, 3841, 3842, 3843, 3844, 3845, 3846, 3847, 3848, 3849, 3850, 3851, 3852, 3853, 3854, 3855, 3856, 3857, 3858, 3859, 3860, 3861, 3862, 3863, 3864, 3865, 3866, 3867, 3868, 3869, 3870, 3871, 3872, 3873, 3874, 3875, 3876, 3877, 3878, 3879, 3880, 3881, 3882, 3883, 3884, 3885, 3886, 3887, 3888, 3889, 3890, 3891, 3892, 3893, 3894, 3895, 3896, 3897, 3898, 3899, 3900, 3901, 3902, 3903, 3904, 3905, 3906, 3907, 3908, 3909, 3910, 3911, 3912, 3913, 3914, 3915, 3916, 3917, 3918, 3919, 3920, 3921, 3922, 3923, 3924, 3925, 3926, 3927, 3928, 3929, 3930, 3931, 3932, 3933, 3934, 3935, 3936, 3937, 3938, 3939, 3940, 3941, 3942, 3943, 3944, 3945, 3946, 3947, 3948, 3949, 3950, 3951, 3952, 3953, 3954, 3955, 3956, 3957, 3958, 3959, 3960, 3961, 3962, 3963, 3964, 3965, 3966, 3967, 3968, 3969, 3970, 3971, 3972, 3973, 3974, 3975, 3976, 3977, 3978, 3979, 3980, 3981, 3982, 3983, 3984, 3985, 3986, 3987, 3988, 3989, 3990, 3991, 3992, 3993, 3994, 3995, 3996, 3997, 3998, 3999, 4000, 4001, 4002, 4003, 4004, 4005, 4006, 4007, 4008, 4009, 4010, 4011, 4012, 4013, 4014, 4015, 4016, 4017, 4018, 4019, 4020, 4021, 4022, 4023, 4024, 4025, 4026, 4027, 4028, 4029, 4030, 4031, 4032, 4033, 4034, 4035, 4036, 4037, 4038, 4039, 4040, 4041, 4042, 4043, 4044, 4045, 4046, 4047, 4048, 4049, 4050, 4051, 4052, 4053, 4054, 4055, 4056, 4057, 4058, 4059, 4060, 4061, 4062, 4063, 4064, 4065, 4066, 4067, 4068, 4069, 4070, 4071, 4072, 4073, 4074, 4075, 4076, 4077, 4078, 4079, 4080, 4081, 4082, 4083, 4084, 4085, 4086, 4087, 4088, 4089, 4090, 4091, 4092, 4093, 4094, 4095, 4096, 4097, 4098, 4099, 4100, 4101, 4102, 4103, 4104, 4105, 4106, 4107, 4108, 4109, 4110, 4111, 4112, 4113, 4114, 4115, 4116, 4117, 4118, 4119, 4120, 4121, 4122, 4123, 4124, 4125, 4126, 4127, 4128, 4129, 4130, 4131, 4132, 4133, 4134, 4135, 4136, 4137, 4138, 4139, 4140, 4141, 4142, 4143, 4144, 4145, 4146, 4147, 4148, 4149, 4150, 4151, 4152, 4153, 4154, 4155, 4156, 4157, 4158, 4159, 4160, 4161, 4162, 4163, 4164, 4165, 4166, 4167, 4168, 4169, 4170, 4171, 4172, 4173, 4174, 4175, 4176, 4177, 4178, 4179, 4180, 4181, 4182, 4183, 4184, 4185, 4186, 4187, 4188, 4189, 4190, 4191, 4192, 4193, 4194, 4195, 4196, 4197, 4198, 4199, 4200, 4201, 4202, 4203, 4204, 4205, 4206, 4207, 4208, 4209, 4210, 4211, 4212, 4213, 4214, 4215, 4216, 4217, 4218, 4219, 4220, 4221, 4222, 4223, 4224, 4225, 4226, 4227, 4228, 4229, 4230, 4231, 4232, 4233, 4234, 4235, 4236, 4237, 4238, 4239, 4240, 4241, 4242, 4243, 4244, 4245, 4246, 4247, 4248, 4249, 4250, 4251, 4252, 4253, 4254, 4255, 4256, 4257, 4258, 4259, 4260, 4261, 4262, 4263, 4264, 4265, 4266, 4267, 4268, 4269, 4270, 4271, 4272, 4273, 4274, 4275, 4276, 4277, 4278, 4279, 4280, 4281, 4282, 4283, 4284, 4285, 4286, 4287, 4288, 4289, 4290, 4291, 4292, 4293, 4294, 4295, 4296, 4297, 4298, 4299, 4300, 4301, 4302, 4303, 4304, 4305, 4306, 4307, 4308, 4309, 4310, 4311, 4312, 4313, 4314, 4315, 4316, 4317, 4318, 4319, 4320, 4321, 4322, 4323, 4324, 4325, 4326, 4327, 4328, 4329, 4330, 4331, 4332, 4333, 4334, 4335, 4336, 4337, 4338, 4339, 4340, 4341, 4342, 4343, 4344, 4345, 4346, 4347, 4348, 4349, 4350, 4351, 4352, 4353, 4354, 4355, 4356, 4357, 4358, 4359, 4360, 4361, 4362, 4363, 4364, 4365, 4366, 4367, 4368, 4369, 4370, 4371, 4372, 4373, 4374, 4375, 4376, 4377, 4378, 4379, 4380, 4381, 4382, 4383, 4384, 4385, 4386, 4387, 4388, 4389, 4390, 4391, 4392, 4393, 4394, 4395, 4396, 4397, 4398, 4399, 4400, 4401, 4402, 4403, 4404, 4405, 4406, 4407, 4408, 4409, 4410, 4411, 4412, 4413, 4414, 4415, 4416, 4417, 4418, 4419, 4420, 4421, 4422, 4423, 4424, 4425, 4426, 4427, 4428, 4429, 4430, 4431, 4432, 4433, 4434, 4435, 4436, 4437, 4438, 4439, 4440, 4441, 4442, 4443, 4444, 4445, 4446, 4447, 4448, 4449, 4450, 4451, 4452, 4453, 4454, 4455, 4456, 4457, 4458, 4459, 4460, 4461, 4462, 4463, 4464, 4465, 4466, 4467, 4468, 4469, 4470, 4471, 4472, 4473, 4474, 4475, 4476, 4477, 4478, 4479, 4480, 4481, 4482, 4483, 4484, 4485, 4486, 4487, 4488, 4489, 4490, 4491, 4492, 4493, 4494, 4495, 4496, 4497, 4498, 4499, 4500, 4501, 4502, 4503, 4504, 4505, 4506, 4507, 4508, 4509, 4510, 4511, 4512, 4513, 4514, 4515, 4516, 4517, 4518, 4519, 4520, 4521, 4522, 4523, 4524, 4525, 4526, 4527, 4528, 4529, 4530, 4531, 4532, 4533, 4534, 4535, 4536, 4537, 4538, 4539, 4540, 4541, 4542, 4543, 4544, 4545, 4546, 4547, 4548, 4549, 4550, 4551, 4552, 4553, 4554, 4555, 4556, 4557, 4558, 4559, 4560, 4561, 4562, 4563, 4564, 4565, 4566, 4567, 4568, 4569, 4570, 4571, 4572, 4573, 4574, 4575, 4576, 4577, 4578, 4579, 4580, 4581, 4582, 4583, 4584, 4585, 4586, 4587, 4588, 4589, 4590, 4591, 4592, 4593, 4594, 4595, 4596, 4597, 4598, 4599, 4600, 4601, 4602, 4603, 4604, 4605, 4606, 4607, 4608, 4609, 4610, 4611, 4612, 4613, 4614, 4615, 4616, 4617, 4618, 4619, 4620, 4621, 4622, 4623, 4624, 4625, 4626, 4627, 4628, 4629, 4630, 4631, 4632, 4633, 4634, 4635, 4636, 4637, 4638, 4639, 4640, 4641, 4642, 4643, 4644, 4645, 4646, 4647, 4648, 4649, 4650, 4651, 4652, 4653, 4654, 4655, 4656, 4657, 4658, 4659, 4660, 4661, 4662, 4663, 4664, 4665, 4666, 4667, 4668, 4669, 4670, 4671, 4672, 4673, 4674, 4675, 4676, 4677, 4678, 4679, 4680, 4681, 4682, 4683, 4684, 4685, 4686, 4687, 4688, 4689, 4690, 4691, 4692, 4693, 4694, 4695, 4696, 4697, 4698, 4699, 4700, 4701, 4702, 4703, 4704, 4705, 4706, 4707, 4708, 4709, 4710, 4711, 4712, 4713, 4714, 4715, 4716, 4717, 4718, 4719, 4720, 4721, 4722, 4723, 4724, 4725, 4726, 4727, 4728, 4729, 4730, 4731, 4732, 4733, 4734, 4735, 4736, 4737, 4738, 4739, 4740, 4741, 4742, 4743, 4744, 4745, 4746, 4747, 4748, 4749, 4750, 4751, 4752, 4753, 4754, 4755, 4756, 4757, 4758, 4759, 4760, 4761, 4762, 4763, 4764, 4765, 4766, 4767, 4768, 4769, 4770, 4771, 4772, 4773, 4774, 4775, 4776, 4777, 4778, 4779, 4780, 4781, 4782, 4783, 4784, 4785, 4786, 4787, 4788, 4789, 4790, 4791, 4792, 4793, 4794, 4795, 4796, 4797, 4798, 4799, 4800, 4801, 4802, 4803, 4804, 4805, 4806, 4807, 4808, 4809, 4810, 4811, 4812, 4813, 4814, 4815, 4816, 4817, 4818, 4819, 4820, 4821, 4822, 4823, 4824, 4825, 4826, 4827, 4828, 4829, 4830, 4831, 4832, 4833, 4834, 4835, 4836, 4837, 4838, 4839, 4840, 4841, 4842, 4843, 4844, 4845, 4846, 4847, 4848, 4849, 4850, 4851, 4852, 4853, 4854, 4855, 4856, 4857, 4858, 4859, 4860, 4861, 4862, 4863, 4864, 4865, 4866, 4867, 4868, 4869, 4870, 4871, 4872, 4873, 4874, 4875, 4876, 4877, 4878, 4879, 4880, 4881, 4882, 4883, 4884, 4885, 4886, 4887, 4888, 4889, 4890, 4891, 4892, 4893, 4894, 4895, 4896, 4897, 4898, 4899, 4900, 4901, 4902, 4903, 4904, 4905, 4906, 4907, 4908, 4909, 4910, 4911, 4912, 4913, 4914, 4915, 4916, 4917, 4918, 4919, 4920, 4921, 4922, 4923, 4924, 4925, 4926, 4927, 4928, 4929, 4930, 4931, 4932, 4933, 4934, 4935, 4936, 4937, 4938, 4939, 4940, 4941, 4942, 4943, 4944, 4945, 4946, 4947, 4948, 4949, 4950, 4951, 4952, 4953, 4954, 4955, 4956, 4957, 4958, 4959, 4960, 4961, 4962, 4963, 4964, 4965, 4966, 4967, 4968, 4969, 4970, 4971, 4972, 4973, 4974, 4975, 4976, 4977, 4978, 4979, 4980, 4981, 4982, 4983, 4984, 4985, 4986, 4987, 4988, 4989, 4990, 4991, 4992, 4993, 4994, 4995, 4996, 4997, 4998, 4999, 5000, 5001, 5002, 5003, 5004, 5005, 5006, 5007, 5008, 5009, 5010, 5011, 5012, 5013, 5014, 5015, 5016, 5017, 5018, 5019, 5020, 5021, 5022, 5023, 5024, 5025, 5026, 5027, 5028, 5029, 5030, 5031, 5032, 5033, 5034, 5035, 5036, 5037, 5038, 5039, 5040, 5041, 5042, 5043, 5044, 5045, 5046, 5047, 5048, 5049, 5050, 5051, 5052, 5053, 5054, 5055, 5056, 5057, 5058, 5059, 5060, 5061, 5062, 5063, 5064, 5065, 5066, 5067, 5068, 5069, 5070, 5071, 5072, 5073, 5074, 5075, 5076, 5077, 5078, 5079, 5080, 5081, 5082, 5083, 5084, 5085, 5086, 5087, 5088, 5089, 5090]\n"
          ]
        }
      ]
    },
    {
      "cell_type": "code",
      "source": [
        "sns.boxplot(df['dem_merit'])"
      ],
      "metadata": {
        "colab": {
          "base_uri": "https://localhost:8080/",
          "height": 352
        },
        "id": "ivLWYfFR2QUb",
        "outputId": "bdd4ac94-40f9-4641-a91c-877dc20ab67b"
      },
      "execution_count": 20,
      "outputs": [
        {
          "output_type": "stream",
          "name": "stderr",
          "text": [
            "/usr/local/lib/python3.8/dist-packages/seaborn/_decorators.py:36: FutureWarning: Pass the following variable as a keyword arg: x. From version 0.12, the only valid positional argument will be `data`, and passing other arguments without an explicit keyword will result in an error or misinterpretation.\n",
            "  warnings.warn(\n"
          ]
        },
        {
          "output_type": "execute_result",
          "data": {
            "text/plain": [
              "<matplotlib.axes._subplots.AxesSubplot at 0x7f75654ed640>"
            ]
          },
          "metadata": {},
          "execution_count": 20
        },
        {
          "output_type": "display_data",
          "data": {
            "text/plain": [
              "<Figure size 432x288 with 1 Axes>"
            ],
            "image/png": "[encoded data removed]"
          },
          "metadata": {
            "needs_background": "light"
          }
        }
      ]
    },
    {
      "cell_type": "code",
      "source": [
        "df.boxplot('dem_merit')"
      ],
      "metadata": {
        "colab": {
          "base_uri": "https://localhost:8080/",
          "height": 283
        },
        "id": "WWd5j_ST4TPS",
        "outputId": "68eea2ea-3917-43ab-d5c2-82eafcafd182"
      },
      "execution_count": 21,
      "outputs": [
        {
          "output_type": "execute_result",
          "data": {
            "text/plain": [
              "<matplotlib.axes._subplots.AxesSubplot at 0x7f7565471400>"
            ]
          },
          "metadata": {},
          "execution_count": 21
        },
        {
          "output_type": "display_data",
          "data": {
            "text/plain": [
              "<Figure size 432x288 with 1 Axes>"
            ],
            "image/png": "[encoded data removed]"
          },
          "metadata": {
            "needs_background": "light"
          }
        }
      ]
    },
    {
      "cell_type": "code",
      "source": [
        "df.describe()"
      ],
      "metadata": {
        "colab": {
          "base_uri": "https://localhost:8080/",
          "height": 394
        },
        "id": "6mweqIM_r4u1",
        "outputId": "23dbb333-9a35-40f6-e18b-af123a573ccc"
      },
      "execution_count": 22,
      "outputs": [
        {
          "output_type": "execute_result",
          "data": {
            "text/plain": [
              "              year  dem_nasa_dem30    dem_merit    dem_gmted  dem_srtm90_v4  \\\n",
              "count  5091.000000     5091.000000  5091.000000  5091.000000    5091.000000   \n",
              "mean   2011.011589      703.000982   702.989512   704.887056     704.098409   \n",
              "std       0.285303      689.395483   689.818076   689.329857     689.650488   \n",
              "min    2011.000000      -64.000000   -62.485870   -62.000000     -64.000000   \n",
              "25%    2011.000000      178.500000   177.082237   179.000000     179.000000   \n",
              "50%    2011.000000      383.000000   382.266815   384.000000     383.000000   \n",
              "75%    2011.000000     1228.000000  1228.776917  1230.000000    1229.000000   \n",
              "max    2019.000000     3531.000000  3521.041748  3523.000000    3580.000000   \n",
              "\n",
              "       dem_nasa_srtm30  dem_usgs_ned  terrain_topo_div_alos_constant  \\\n",
              "count      5091.000000   5091.000000                     5091.000000   \n",
              "mean        704.304066    702.360047                        0.171150   \n",
              "std         689.572815    689.939886                        0.173190   \n",
              "min         -64.000000    -64.751762                        0.006211   \n",
              "25%         179.000000    177.300896                        0.058714   \n",
              "50%         381.000000    381.222198                        0.103695   \n",
              "75%        1228.500000   1229.918152                        0.212986   \n",
              "max        3536.000000   3522.890137                        1.000000   \n",
              "\n",
              "       terrain_mtpi_alos_AVE  terrain_chili_alos_constant  ...  \\\n",
              "count            5091.000000                  5091.000000  ...   \n",
              "mean               -1.472009                   196.266352  ...   \n",
              "std                15.523306                    19.435374  ...   \n",
              "min              -146.000000                    65.000000  ...   \n",
              "25%                -4.000000                   184.000000  ...   \n",
              "50%                 0.000000                   199.000000  ...   \n",
              "75%                 2.000000                   210.000000  ...   \n",
              "max               150.000000                   252.000000  ...   \n",
              "\n",
              "       sur_refl_b02_mean_sampling_year  sur_refl_b03_mean_sampling_year  \\\n",
              "count                      5091.000000                      5091.000000   \n",
              "mean                       2926.502814                       934.478293   \n",
              "std                         576.318969                       709.491148   \n",
              "min                         884.869565                        57.043478   \n",
              "25%                        2531.978261                       382.565217   \n",
              "50%                        2842.695652                       736.913043   \n",
              "75%                        3244.173913                      1234.739130   \n",
              "max                        5668.818182                      4272.304348   \n",
              "\n",
              "       sur_refl_b07_mean_sampling_year  evi_std_sampling_year  \\\n",
              "count                      5091.000000            5091.000000   \n",
              "mean                       1443.624366            1276.086012   \n",
              "std                         646.012703             669.566579   \n",
              "min                         209.086957              43.458035   \n",
              "25%                         991.347826             716.760909   \n",
              "50%                        1322.608696            1264.965743   \n",
              "75%                        1741.195652            1831.894627   \n",
              "max                        4684.826087            3406.645239   \n",
              "\n",
              "       ndvi_std_sampling_year  sur_refl_b01_std_sampling_year  \\\n",
              "count             5091.000000                     5091.000000   \n",
              "mean              1630.338114                     1065.661213   \n",
              "std                828.002647                     1005.472648   \n",
              "min                 32.174549                       44.805950   \n",
              "25%                970.811955                      222.691322   \n",
              "50%               1594.603804                      639.540645   \n",
              "75%               2293.518117                     1741.368234   \n",
              "max               3559.256708                     3867.800669   \n",
              "\n",
              "       sur_refl_b02_std_sampling_year  sur_refl_b03_std_sampling_year  \\\n",
              "count                     5091.000000                     5091.000000   \n",
              "mean                      1068.488921                     1036.451850   \n",
              "std                        618.375897                     1079.210268   \n",
              "min                        121.464499                       25.795410   \n",
              "25%                        588.573861                      107.901579   \n",
              "50%                        924.875167                      649.356386   \n",
              "75%                       1392.175076                     1767.075432   \n",
              "max                       3193.912846                     4049.046509   \n",
              "\n",
              "       sur_refl_b07_std_sampling_year  soc_stock_t_ha  \n",
              "count                     5091.000000     5091.000000  \n",
              "mean                       453.205834       69.399018  \n",
              "std                        197.820808       67.241177  \n",
              "min                         72.230034        0.178608  \n",
              "25%                        305.694851       30.201763  \n",
              "50%                        415.923707       49.241095  \n",
              "75%                        572.038427       82.367462  \n",
              "max                       1249.752010      497.756299  \n",
              "\n",
              "[8 rows x 306 columns]"
            ],
            "text/html": [
              "\n",
              "  <div id=\"df-a4aa7f0b-0822-426e-834d-23b44a38eb93\">\n",
              "    <div class=\"colab-df-container\">\n",
              "      <div>\n",
              "<style scoped>\n",
              "    .dataframe tbody tr th:only-of-type {\n",
              "        vertical-align: middle;\n",
              "    }\n",
              "\n",
              "    .dataframe tbody tr th {\n",
              "        vertical-align: top;\n",
              "    }\n",
              "\n",
              "    .dataframe thead th {\n",
              "        text-align: right;\n",
              "    }\n",
              "</style>\n",
              "<table border=\"1\" class=\"dataframe\">\n",
              "  <thead>\n",
              "    <tr style=\"text-align: right;\">\n",
              "      <th></th>\n",
              "      <th>year</th>\n",
              "      <th>dem_nasa_dem30</th>\n",
              "      <th>dem_merit</th>\n",
              "      <th>dem_gmted</th>\n",
              "      <th>dem_srtm90_v4</th>\n",
              "      <th>dem_nasa_srtm30</th>\n",
              "      <th>dem_usgs_ned</th>\n",
              "      <th>terrain_topo_div_alos_constant</th>\n",
              "      <th>terrain_mtpi_alos_AVE</th>\n",
              "      <th>terrain_chili_alos_constant</th>\n",
              "      <th>...</th>\n",
              "      <th>sur_refl_b02_mean_sampling_year</th>\n",
              "      <th>sur_refl_b03_mean_sampling_year</th>\n",
              "      <th>sur_refl_b07_mean_sampling_year</th>\n",
              "      <th>evi_std_sampling_year</th>\n",
              "      <th>ndvi_std_sampling_year</th>\n",
              "      <th>sur_refl_b01_std_sampling_year</th>\n",
              "      <th>sur_refl_b02_std_sampling_year</th>\n",
              "      <th>sur_refl_b03_std_sampling_year</th>\n",
              "      <th>sur_refl_b07_std_sampling_year</th>\n",
              "      <th>soc_stock_t_ha</th>\n",
              "    </tr>\n",
              "  </thead>\n",
              "  <tbody>\n",
              "    <tr>\n",
              "      <th>count</th>\n",
              "      <td>5091.000000</td>\n",
              "      <td>5091.000000</td>\n",
              "      <td>5091.000000</td>\n",
              "      <td>5091.000000</td>\n",
              "      <td>5091.000000</td>\n",
              "      <td>5091.000000</td>\n",
              "      <td>5091.000000</td>\n",
              "      <td>5091.000000</td>\n",
              "      <td>5091.000000</td>\n",
              "      <td>5091.000000</td>\n",
              "      <td>...</td>\n",
              "      <td>5091.000000</td>\n",
              "      <td>5091.000000</td>\n",
              "      <td>5091.000000</td>\n",
              "      <td>5091.000000</td>\n",
              "      <td>5091.000000</td>\n",
              "      <td>5091.000000</td>\n",
              "      <td>5091.000000</td>\n",
              "      <td>5091.000000</td>\n",
              "      <td>5091.000000</td>\n",
              "      <td>5091.000000</td>\n",
              "    </tr>\n",
              "    <tr>\n",
              "      <th>mean</th>\n",
              "      <td>2011.011589</td>\n",
              "      <td>703.000982</td>\n",
              "      <td>702.989512</td>\n",
              "      <td>704.887056</td>\n",
              "      <td>704.098409</td>\n",
              "      <td>704.304066</td>\n",
              "      <td>702.360047</td>\n",
              "      <td>0.171150</td>\n",
              "      <td>-1.472009</td>\n",
              "      <td>196.266352</td>\n",
              "      <td>...</td>\n",
              "      <td>2926.502814</td>\n",
              "      <td>934.478293</td>\n",
              "      <td>1443.624366</td>\n",
              "      <td>1276.086012</td>\n",
              "      <td>1630.338114</td>\n",
              "      <td>1065.661213</td>\n",
              "      <td>1068.488921</td>\n",
              "      <td>1036.451850</td>\n",
              "      <td>453.205834</td>\n",
              "      <td>69.399018</td>\n",
              "    </tr>\n",
              "    <tr>\n",
              "      <th>std</th>\n",
              "      <td>0.285303</td>\n",
              "      <td>689.395483</td>\n",
              "      <td>689.818076</td>\n",
              "      <td>689.329857</td>\n",
              "      <td>689.650488</td>\n",
              "      <td>689.572815</td>\n",
              "      <td>689.939886</td>\n",
              "      <td>0.173190</td>\n",
              "      <td>15.523306</td>\n",
              "      <td>19.435374</td>\n",
              "      <td>...</td>\n",
              "      <td>576.318969</td>\n",
              "      <td>709.491148</td>\n",
              "      <td>646.012703</td>\n",
              "      <td>669.566579</td>\n",
              "      <td>828.002647</td>\n",
              "      <td>1005.472648</td>\n",
              "      <td>618.375897</td>\n",
              "      <td>1079.210268</td>\n",
              "      <td>197.820808</td>\n",
              "      <td>67.241177</td>\n",
              "    </tr>\n",
              "    <tr>\n",
              "      <th>min</th>\n",
              "      <td>2011.000000</td>\n",
              "      <td>-64.000000</td>\n",
              "      <td>-62.485870</td>\n",
              "      <td>-62.000000</td>\n",
              "      <td>-64.000000</td>\n",
              "      <td>-64.000000</td>\n",
              "      <td>-64.751762</td>\n",
              "      <td>0.006211</td>\n",
              "      <td>-146.000000</td>\n",
              "      <td>65.000000</td>\n",
              "      <td>...</td>\n",
              "      <td>884.869565</td>\n",
              "      <td>57.043478</td>\n",
              "      <td>209.086957</td>\n",
              "      <td>43.458035</td>\n",
              "      <td>32.174549</td>\n",
              "      <td>44.805950</td>\n",
              "      <td>121.464499</td>\n",
              "      <td>25.795410</td>\n",
              "      <td>72.230034</td>\n",
              "      <td>0.178608</td>\n",
              "    </tr>\n",
              "    <tr>\n",
              "      <th>25%</th>\n",
              "      <td>2011.000000</td>\n",
              "      <td>178.500000</td>\n",
              "      <td>177.082237</td>\n",
              "      <td>179.000000</td>\n",
              "      <td>179.000000</td>\n",
              "      <td>179.000000</td>\n",
              "      <td>177.300896</td>\n",
              "      <td>0.058714</td>\n",
              "      <td>-4.000000</td>\n",
              "      <td>184.000000</td>\n",
              "      <td>...</td>\n",
              "      <td>2531.978261</td>\n",
              "      <td>382.565217</td>\n",
              "      <td>991.347826</td>\n",
              "      <td>716.760909</td>\n",
              "      <td>970.811955</td>\n",
              "      <td>222.691322</td>\n",
              "      <td>588.573861</td>\n",
              "      <td>107.901579</td>\n",
              "      <td>305.694851</td>\n",
              "      <td>30.201763</td>\n",
              "    </tr>\n",
              "    <tr>\n",
              "      <th>50%</th>\n",
              "      <td>2011.000000</td>\n",
              "      <td>383.000000</td>\n",
              "      <td>382.266815</td>\n",
              "      <td>384.000000</td>\n",
              "      <td>383.000000</td>\n",
              "      <td>381.000000</td>\n",
              "      <td>381.222198</td>\n",
              "      <td>0.103695</td>\n",
              "      <td>0.000000</td>\n",
              "      <td>199.000000</td>\n",
              "      <td>...</td>\n",
              "      <td>2842.695652</td>\n",
              "      <td>736.913043</td>\n",
              "      <td>1322.608696</td>\n",
              "      <td>1264.965743</td>\n",
              "      <td>1594.603804</td>\n",
              "      <td>639.540645</td>\n",
              "      <td>924.875167</td>\n",
              "      <td>649.356386</td>\n",
              "      <td>415.923707</td>\n",
              "      <td>49.241095</td>\n",
              "    </tr>\n",
              "    <tr>\n",
              "      <th>75%</th>\n",
              "      <td>2011.000000</td>\n",
              "      <td>1228.000000</td>\n",
              "      <td>1228.776917</td>\n",
              "      <td>1230.000000</td>\n",
              "      <td>1229.000000</td>\n",
              "      <td>1228.500000</td>\n",
              "      <td>1229.918152</td>\n",
              "      <td>0.212986</td>\n",
              "      <td>2.000000</td>\n",
              "      <td>210.000000</td>\n",
              "      <td>...</td>\n",
              "      <td>3244.173913</td>\n",
              "      <td>1234.739130</td>\n",
              "      <td>1741.195652</td>\n",
              "      <td>1831.894627</td>\n",
              "      <td>2293.518117</td>\n",
              "      <td>1741.368234</td>\n",
              "      <td>1392.175076</td>\n",
              "      <td>1767.075432</td>\n",
              "      <td>572.038427</td>\n",
              "      <td>82.367462</td>\n",
              "    </tr>\n",
              "    <tr>\n",
              "      <th>max</th>\n",
              "      <td>2019.000000</td>\n",
              "      <td>3531.000000</td>\n",
              "      <td>3521.041748</td>\n",
              "      <td>3523.000000</td>\n",
              "      <td>3580.000000</td>\n",
              "      <td>3536.000000</td>\n",
              "      <td>3522.890137</td>\n",
              "      <td>1.000000</td>\n",
              "      <td>150.000000</td>\n",
              "      <td>252.000000</td>\n",
              "      <td>...</td>\n",
              "      <td>5668.818182</td>\n",
              "      <td>4272.304348</td>\n",
              "      <td>4684.826087</td>\n",
              "      <td>3406.645239</td>\n",
              "      <td>3559.256708</td>\n",
              "      <td>3867.800669</td>\n",
              "      <td>3193.912846</td>\n",
              "      <td>4049.046509</td>\n",
              "      <td>1249.752010</td>\n",
              "      <td>497.756299</td>\n",
              "    </tr>\n",
              "  </tbody>\n",
              "</table>\n",
              "<p>8 rows × 306 columns</p>\n",
              "</div>\n",
              "      <button class=\"colab-df-convert\" onclick=\"convertToInteractive('df-a4aa7f0b-0822-426e-834d-23b44a38eb93')\"\n",
              "              title=\"Convert this dataframe to an interactive table.\"\n",
              "              style=\"display:none;\">\n",
              "        \n",
              "  <svg xmlns=\"http://www.w3.org/2000/svg\" height=\"24px\"viewBox=\"0 0 24 24\"\n",
              "       width=\"24px\">\n",
              "    <path d=\"M0 0h24v24H0V0z\" fill=\"none\"/>\n",
              "    <path d=\"M18.56 5.44l.94 2.06.94-2.06 2.06-.94-2.06-.94-.94-2.06-.94 2.06-2.06.94zm-11 1L8.5 8.5l.94-2.06 2.06-.94-2.06-.94L8.5 2.5l-.94 2.06-2.06.94zm10 10l.94 2.06.94-2.06 2.06-.94-2.06-.94-.94-2.06-.94 2.06-2.06.94z\"/><path d=\"M17.41 7.96l-1.37-1.37c-.4-.4-.92-.59-1.43-.59-.52 0-1.04.2-1.43.59L10.3 9.45l-7.72 7.72c-.78.78-.78 2.05 0 2.83L4 21.41c.39.39.9.59 1.41.59.51 0 1.02-.2 1.41-.59l7.78-7.78 2.81-2.81c.8-.78.8-2.07 0-2.86zM5.41 20L4 18.59l7.72-7.72 1.47 1.35L5.41 20z\"/>\n",
              "  </svg>\n",
              "      </button>\n",
              "      \n",
              "  <style>\n",
              "    .colab-df-container {\n",
              "      display:flex;\n",
              "      flex-wrap:wrap;\n",
              "      gap: 12px;\n",
              "    }\n",
              "\n",
              "    .colab-df-convert {\n",
              "      background-color: #E8F0FE;\n",
              "      border: none;\n",
              "      border-radius: 50%;\n",
              "      cursor: pointer;\n",
              "      display: none;\n",
              "      fill: #1967D2;\n",
              "      height: 32px;\n",
              "      padding: 0 0 0 0;\n",
              "      width: 32px;\n",
              "    }\n",
              "\n",
              "    .colab-df-convert:hover {\n",
              "      background-color: #E2EBFA;\n",
              "      box-shadow: 0px 1px 2px rgba(60, 64, 67, 0.3), 0px 1px 3px 1px rgba(60, 64, 67, 0.15);\n",
              "      fill: #174EA6;\n",
              "    }\n",
              "\n",
              "    [theme=dark] .colab-df-convert {\n",
              "      background-color: #3B4455;\n",
              "      fill: #D2E3FC;\n",
              "    }\n",
              "\n",
              "    [theme=dark] .colab-df-convert:hover {\n",
              "      background-color: #434B5C;\n",
              "      box-shadow: 0px 1px 3px 1px rgba(0, 0, 0, 0.15);\n",
              "      filter: drop-shadow(0px 1px 2px rgba(0, 0, 0, 0.3));\n",
              "      fill: #FFFFFF;\n",
              "    }\n",
              "  </style>\n",
              "\n",
              "      <script>\n",
              "        const buttonEl =\n",
              "          document.querySelector('#df-a4aa7f0b-0822-426e-834d-23b44a38eb93 button.colab-df-convert');\n",
              "        buttonEl.style.display =\n",
              "          google.colab.kernel.accessAllowed ? 'block' : 'none';\n",
              "\n",
              "        async function convertToInteractive(key) {\n",
              "          const element = document.querySelector('#df-a4aa7f0b-0822-426e-834d-23b44a38eb93');\n",
              "          const dataTable =\n",
              "            await google.colab.kernel.invokeFunction('convertToInteractive',\n",
              "                                                     [key], {});\n",
              "          if (!dataTable) return;\n",
              "\n",
              "          const docLinkHtml = 'Like what you see? Visit the ' +\n",
              "            '<a target=\"_blank\" href=https://colab.research.google.com/notebooks/data_table.ipynb>data table notebook</a>'\n",
              "            + ' to learn more about interactive tables.';\n",
              "          element.innerHTML = '';\n",
              "          dataTable['output_type'] = 'display_data';\n",
              "          await google.colab.output.renderOutput(dataTable, element);\n",
              "          const docLink = document.createElement('div');\n",
              "          docLink.innerHTML = docLinkHtml;\n",
              "          element.appendChild(docLink);\n",
              "        }\n",
              "      </script>\n",
              "    </div>\n",
              "  </div>\n",
              "  "
            ]
          },
          "metadata": {},
          "execution_count": 22
        }
      ]
    },
    {
      "cell_type": "code",
      "source": [
        "sns.boxplot(df['terrain_mtpi_alos_AVE'])"
      ],
      "metadata": {
        "colab": {
          "base_uri": "https://localhost:8080/",
          "height": 352
        },
        "id": "p6Peab7Iqihi",
        "outputId": "b76f760e-9204-4883-f15b-b94670b798a2"
      },
      "execution_count": 23,
      "outputs": [
        {
          "output_type": "stream",
          "name": "stderr",
          "text": [
            "/usr/local/lib/python3.8/dist-packages/seaborn/_decorators.py:36: FutureWarning: Pass the following variable as a keyword arg: x. From version 0.12, the only valid positional argument will be `data`, and passing other arguments without an explicit keyword will result in an error or misinterpretation.\n",
            "  warnings.warn(\n"
          ]
        },
        {
          "output_type": "execute_result",
          "data": {
            "text/plain": [
              "<matplotlib.axes._subplots.AxesSubplot at 0x7f756567a2b0>"
            ]
          },
          "metadata": {},
          "execution_count": 23
        },
        {
          "output_type": "display_data",
          "data": {
            "text/plain": [
              "<Figure size 432x288 with 1 Axes>"
            ],
            "image/png": "[encoded data removed]"
          },
          "metadata": {
            "needs_background": "light"
          }
        }
      ]
    },
    {
      "cell_type": "code",
      "source": [
        "df.boxplot('terrain_mtpi_alos_AVE')"
      ],
      "metadata": {
        "colab": {
          "base_uri": "https://localhost:8080/",
          "height": 283
        },
        "id": "z_SVxNoQzX_-",
        "outputId": "3fa86343-c636-496b-c20b-811484e3410b"
      },
      "execution_count": 24,
      "outputs": [
        {
          "output_type": "execute_result",
          "data": {
            "text/plain": [
              "<matplotlib.axes._subplots.AxesSubplot at 0x7f75654fea30>"
            ]
          },
          "metadata": {},
          "execution_count": 24
        },
        {
          "output_type": "display_data",
          "data": {
            "text/plain": [
              "<Figure size 432x288 with 1 Axes>"
            ],
            "image/png": "[encoded data removed]"
          },
          "metadata": {
            "needs_background": "light"
          }
        }
      ]
    },
    {
      "cell_type": "code",
      "source": [],
      "metadata": {
        "id": "3CJi86hq7ysM"
      },
      "execution_count": 24,
      "outputs": []
    },
    {
      "cell_type": "markdown",
      "source": [
        "## Feature Selection"
      ],
      "metadata": {
        "id": "MlWxbqfd7amA"
      }
    },
    {
      "cell_type": "markdown",
      "source": [
        "### Correlation Method"
      ],
      "metadata": {
        "id": "pdvN6Fjz7eyb"
      }
    },
    {
      "cell_type": "code",
      "source": [
        "correlation = df.corr()['soc_stock_t_ha']\n",
        "correlation"
      ],
      "metadata": {
        "colab": {
          "base_uri": "https://localhost:8080/"
        },
        "id": "LjpqNRop06xv",
        "outputId": "e8275d27-6c01-4a0e-c7b5-f5ba3e5f5390"
      },
      "execution_count": 57,
      "outputs": [
        {
          "output_type": "execute_result",
          "data": {
            "text/plain": [
              "year                             -0.011524\n",
              "dem_nasa_dem30                   -0.138790\n",
              "dem_merit                        -0.139830\n",
              "dem_gmted                        -0.140070\n",
              "dem_srtm90_v4                    -0.139213\n",
              "                                    ...   \n",
              "sur_refl_b01_std_sampling_year    0.085911\n",
              "sur_refl_b02_std_sampling_year    0.123277\n",
              "sur_refl_b03_std_sampling_year    0.090934\n",
              "sur_refl_b07_std_sampling_year   -0.156879\n",
              "soc_stock_t_ha                    1.000000\n",
              "Name: soc_stock_t_ha, Length: 306, dtype: float64"
            ]
          },
          "metadata": {},
          "execution_count": 57
        }
      ]
    },
    {
      "cell_type": "markdown",
      "source": [
        "Checked correlation of target/dependent labels with dependent features."
      ],
      "metadata": {
        "id": "qL6-LL0A4hxW"
      }
    },
    {
      "cell_type": "code",
      "source": [
        "correlate_features = correlation.sort_values(ascending=False)[:15]\n",
        "correlate_features_15 = correlation.sort_values(ascending=True)[:15]"
      ],
      "metadata": {
        "id": "fvbcJq2S07Lf"
      },
      "execution_count": 62,
      "outputs": []
    },
    {
      "cell_type": "code",
      "source": [
        "correlate_features"
      ],
      "metadata": {
        "colab": {
          "base_uri": "https://localhost:8080/"
        },
        "id": "04KNspuY1Pg6",
        "outputId": "03767cf2-75bd-46f8-b3dd-6235759f12c2"
      },
      "execution_count": 63,
      "outputs": [
        {
          "output_type": "execute_result",
          "data": {
            "text/plain": [
              "soc_stock_t_ha              1.000000\n",
              "soil_grids_soc_5_15         0.518204\n",
              "soil_grids_soc_0_5          0.496673\n",
              "soil_grids_ocd_5_15         0.491073\n",
              "soil_grids_nitrogen_0_5     0.480961\n",
              "soil_olm_soc_b0             0.477840\n",
              "soil_grids_ocd_0_5          0.464519\n",
              "soil_olm_soc_b10            0.455652\n",
              "soil_grids_ocs_0_30         0.449386\n",
              "soil_grids_soc_15_30        0.424652\n",
              "soil_grids_cec_0_5          0.422813\n",
              "soil_grids_ocd_15_30        0.417715\n",
              "ndvi_06_mean                0.405035\n",
              "soil_grids_nitrogen_5_15    0.403428\n",
              "ndvi_07_mean                0.379745\n",
              "Name: soc_stock_t_ha, dtype: float64"
            ]
          },
          "metadata": {},
          "execution_count": 63
        }
      ]
    },
    {
      "cell_type": "code",
      "source": [
        "correlate_features_15"
      ],
      "metadata": {
        "colab": {
          "base_uri": "https://localhost:8080/"
        },
        "id": "TBnltHCf1PxL",
        "outputId": "8e08f092-4ce9-4a9d-e20c-2de4b69a4955"
      },
      "execution_count": 64,
      "outputs": [
        {
          "output_type": "execute_result",
          "data": {
            "text/plain": [
              "LST_Day_1km_09_mean               -0.429938\n",
              "soil_grids_bdod_0_5               -0.421880\n",
              "LST_Day_1km_08_mean               -0.420473\n",
              "LST_Day_1km_06_mean               -0.415369\n",
              "sur_refl_b01_06_mean              -0.409271\n",
              "LST_Day_1km_07_mean               -0.407711\n",
              "sur_refl_b07_mean_sampling_year   -0.403296\n",
              "sur_refl_b07_06_mean              -0.402197\n",
              "sur_refl_b07_07_mean              -0.396950\n",
              "sur_refl_b07_08_mean              -0.390672\n",
              "sur_refl_b03_06_mean              -0.390614\n",
              "sur_refl_b07_02_mean              -0.389870\n",
              "sur_refl_b01_07_mean              -0.388929\n",
              "sur_refl_b07_09_mean              -0.387726\n",
              "LST_Day_1km_05_mean               -0.387510\n",
              "Name: soc_stock_t_ha, dtype: float64"
            ]
          },
          "metadata": {},
          "execution_count": 64
        }
      ]
    },
    {
      "cell_type": "code",
      "source": [
        "# df = df[['soil_grids_soc_5_15', 'soil_grids_soc_0_5', 'soil_grids_ocd_5_15', \n",
        "#    'soil_grids_nitrogen_0_5', 'soil_olm_soc_b0', 'soil_grids_ocd_0_5', \n",
        "#    'soil_olm_soc_b10','soil_grids_ocs_0_30','sur_refl_b07_06_mean', 'sur_refl_b07_mean_sampling_year',\n",
        "#    'LST_Day_1km_07_mean', 'sur_refl_b01_06_mean', 'LST_Day_1km_06_mean', 'LST_Day_1km_08_mean', \n",
        "#    'soil_grids_bdod_0_5', 'LST_Day_1km_09_mean', 'soc_stock_t_ha' ]]"
      ],
      "metadata": {
        "id": "_ZP0Tqij07iB"
      },
      "execution_count": 65,
      "outputs": []
    },
    {
      "cell_type": "markdown",
      "source": [
        "I could have done dimensionality reduction by selecting best correlated 25-30 features for model training. But later I am using PCA algorithm for dimensionality reduction."
      ],
      "metadata": {
        "id": "dT_DTicF10kD"
      }
    },
    {
      "cell_type": "code",
      "source": [
        "# plt.figure(figsize = (80,20))\n",
        "# sns.heatmap(df.corr(), annot = True)"
      ],
      "metadata": {
        "id": "Q7gram2k8Mmp"
      },
      "execution_count": 25,
      "outputs": []
    },
    {
      "cell_type": "markdown",
      "source": [
        "### Missing Value Ratio Method"
      ],
      "metadata": {
        "id": "u2qDnW1x8qmw"
      }
    },
    {
      "cell_type": "code",
      "source": [
        "missing_val = (df.isna().sum())/df.shape[0] * 100\n",
        "missing_val.sort_values(ascending = False)"
      ],
      "metadata": {
        "colab": {
          "base_uri": "https://localhost:8080/"
        },
        "id": "-5bW5euv1DFN",
        "outputId": "ca8d6a3e-e660-4783-d35c-e7662d26211f"
      },
      "execution_count": 26,
      "outputs": [
        {
          "output_type": "execute_result",
          "data": {
            "text/plain": [
              "year                    0.0\n",
              "sur_refl_b01_03_mean    0.0\n",
              "sur_refl_b01_06_std     0.0\n",
              "sur_refl_b01_06_mean    0.0\n",
              "sur_refl_b01_05_std     0.0\n",
              "                       ... \n",
              "LST_Day_1km_03_mean     0.0\n",
              "LST_Day_1km_02_std      0.0\n",
              "LST_Day_1km_02_mean     0.0\n",
              "LST_Day_1km_01_std      0.0\n",
              "soc_stock_t_ha          0.0\n",
              "Length: 306, dtype: float64"
            ]
          },
          "metadata": {},
          "execution_count": 26
        }
      ]
    },
    {
      "cell_type": "code",
      "source": [
        "df.isna().sum().sum()"
      ],
      "metadata": {
        "colab": {
          "base_uri": "https://localhost:8080/"
        },
        "id": "CCXHuTgY2euI",
        "outputId": "c0a96ef2-7042-4676-c554-f5f6945a0707"
      },
      "execution_count": 66,
      "outputs": [
        {
          "output_type": "execute_result",
          "data": {
            "text/plain": [
              "0"
            ]
          },
          "metadata": {},
          "execution_count": 66
        }
      ]
    },
    {
      "cell_type": "code",
      "source": [
        "sns.heatmap(df.isnull(),yticklabels=False,cbar=False,cmap='viridis')"
      ],
      "metadata": {
        "colab": {
          "base_uri": "https://localhost:8080/",
          "height": 408
        },
        "id": "Q2oetXug3Rq4",
        "outputId": "4d40fca1-d976-46d3-dfda-a01f6c4e0d5d"
      },
      "execution_count": 67,
      "outputs": [
        {
          "output_type": "execute_result",
          "data": {
            "text/plain": [
              "<matplotlib.axes._subplots.AxesSubplot at 0x7fc97e4d4df0>"
            ]
          },
          "metadata": {},
          "execution_count": 67
        },
        {
          "output_type": "display_data",
          "data": {
            "text/plain": [
              "<Figure size 432x288 with 1 Axes>"
            ],
            "image/png": "[encoded data removed]"
          },
          "metadata": {
            "needs_background": "light"
          }
        }
      ]
    },
    {
      "cell_type": "markdown",
      "source": [
        "Here, We do not have any missing values."
      ],
      "metadata": {
        "id": "urwkg04W2S6J"
      }
    },
    {
      "cell_type": "code",
      "source": [
        "df.describe()"
      ],
      "metadata": {
        "colab": {
          "base_uri": "https://localhost:8080/",
          "height": 394
        },
        "id": "_GFFyeR8_Xvk",
        "outputId": "30c98746-0680-44e0-b25f-72b1d27247c7"
      },
      "execution_count": 27,
      "outputs": [
        {
          "output_type": "execute_result",
          "data": {
            "text/plain": [
              "              year  dem_nasa_dem30    dem_merit    dem_gmted  dem_srtm90_v4  \\\n",
              "count  5091.000000     5091.000000  5091.000000  5091.000000    5091.000000   \n",
              "mean   2011.011589      703.000982   702.989512   704.887056     704.098409   \n",
              "std       0.285303      689.395483   689.818076   689.329857     689.650488   \n",
              "min    2011.000000      -64.000000   -62.485870   -62.000000     -64.000000   \n",
              "25%    2011.000000      178.500000   177.082237   179.000000     179.000000   \n",
              "50%    2011.000000      383.000000   382.266815   384.000000     383.000000   \n",
              "75%    2011.000000     1228.000000  1228.776917  1230.000000    1229.000000   \n",
              "max    2019.000000     3531.000000  3521.041748  3523.000000    3580.000000   \n",
              "\n",
              "       dem_nasa_srtm30  dem_usgs_ned  terrain_topo_div_alos_constant  \\\n",
              "count      5091.000000   5091.000000                     5091.000000   \n",
              "mean        704.304066    702.360047                        0.171150   \n",
              "std         689.572815    689.939886                        0.173190   \n",
              "min         -64.000000    -64.751762                        0.006211   \n",
              "25%         179.000000    177.300896                        0.058714   \n",
              "50%         381.000000    381.222198                        0.103695   \n",
              "75%        1228.500000   1229.918152                        0.212986   \n",
              "max        3536.000000   3522.890137                        1.000000   \n",
              "\n",
              "       terrain_mtpi_alos_AVE  terrain_chili_alos_constant  ...  \\\n",
              "count            5091.000000                  5091.000000  ...   \n",
              "mean               -1.472009                   196.266352  ...   \n",
              "std                15.523306                    19.435374  ...   \n",
              "min              -146.000000                    65.000000  ...   \n",
              "25%                -4.000000                   184.000000  ...   \n",
              "50%                 0.000000                   199.000000  ...   \n",
              "75%                 2.000000                   210.000000  ...   \n",
              "max               150.000000                   252.000000  ...   \n",
              "\n",
              "       sur_refl_b02_mean_sampling_year  sur_refl_b03_mean_sampling_year  \\\n",
              "count                      5091.000000                      5091.000000   \n",
              "mean                       2926.502814                       934.478293   \n",
              "std                         576.318969                       709.491148   \n",
              "min                         884.869565                        57.043478   \n",
              "25%                        2531.978261                       382.565217   \n",
              "50%                        2842.695652                       736.913043   \n",
              "75%                        3244.173913                      1234.739130   \n",
              "max                        5668.818182                      4272.304348   \n",
              "\n",
              "       sur_refl_b07_mean_sampling_year  evi_std_sampling_year  \\\n",
              "count                      5091.000000            5091.000000   \n",
              "mean                       1443.624366            1276.086012   \n",
              "std                         646.012703             669.566579   \n",
              "min                         209.086957              43.458035   \n",
              "25%                         991.347826             716.760909   \n",
              "50%                        1322.608696            1264.965743   \n",
              "75%                        1741.195652            1831.894627   \n",
              "max                        4684.826087            3406.645239   \n",
              "\n",
              "       ndvi_std_sampling_year  sur_refl_b01_std_sampling_year  \\\n",
              "count             5091.000000                     5091.000000   \n",
              "mean              1630.338114                     1065.661213   \n",
              "std                828.002647                     1005.472648   \n",
              "min                 32.174549                       44.805950   \n",
              "25%                970.811955                      222.691322   \n",
              "50%               1594.603804                      639.540645   \n",
              "75%               2293.518117                     1741.368234   \n",
              "max               3559.256708                     3867.800669   \n",
              "\n",
              "       sur_refl_b02_std_sampling_year  sur_refl_b03_std_sampling_year  \\\n",
              "count                     5091.000000                     5091.000000   \n",
              "mean                      1068.488921                     1036.451850   \n",
              "std                        618.375897                     1079.210268   \n",
              "min                        121.464499                       25.795410   \n",
              "25%                        588.573861                      107.901579   \n",
              "50%                        924.875167                      649.356386   \n",
              "75%                       1392.175076                     1767.075432   \n",
              "max                       3193.912846                     4049.046509   \n",
              "\n",
              "       sur_refl_b07_std_sampling_year  soc_stock_t_ha  \n",
              "count                     5091.000000     5091.000000  \n",
              "mean                       453.205834       69.399018  \n",
              "std                        197.820808       67.241177  \n",
              "min                         72.230034        0.178608  \n",
              "25%                        305.694851       30.201763  \n",
              "50%                        415.923707       49.241095  \n",
              "75%                        572.038427       82.367462  \n",
              "max                       1249.752010      497.756299  \n",
              "\n",
              "[8 rows x 306 columns]"
            ],
            "text/html": [
              "\n",
              "  <div id=\"df-84b61d2e-069c-4981-99af-540cd3f990d6\">\n",
              "    <div class=\"colab-df-container\">\n",
              "      <div>\n",
              "<style scoped>\n",
              "    .dataframe tbody tr th:only-of-type {\n",
              "        vertical-align: middle;\n",
              "    }\n",
              "\n",
              "    .dataframe tbody tr th {\n",
              "        vertical-align: top;\n",
              "    }\n",
              "\n",
              "    .dataframe thead th {\n",
              "        text-align: right;\n",
              "    }\n",
              "</style>\n",
              "<table border=\"1\" class=\"dataframe\">\n",
              "  <thead>\n",
              "    <tr style=\"text-align: right;\">\n",
              "      <th></th>\n",
              "      <th>year</th>\n",
              "      <th>dem_nasa_dem30</th>\n",
              "      <th>dem_merit</th>\n",
              "      <th>dem_gmted</th>\n",
              "      <th>dem_srtm90_v4</th>\n",
              "      <th>dem_nasa_srtm30</th>\n",
              "      <th>dem_usgs_ned</th>\n",
              "      <th>terrain_topo_div_alos_constant</th>\n",
              "      <th>terrain_mtpi_alos_AVE</th>\n",
              "      <th>terrain_chili_alos_constant</th>\n",
              "      <th>...</th>\n",
              "      <th>sur_refl_b02_mean_sampling_year</th>\n",
              "      <th>sur_refl_b03_mean_sampling_year</th>\n",
              "      <th>sur_refl_b07_mean_sampling_year</th>\n",
              "      <th>evi_std_sampling_year</th>\n",
              "      <th>ndvi_std_sampling_year</th>\n",
              "      <th>sur_refl_b01_std_sampling_year</th>\n",
              "      <th>sur_refl_b02_std_sampling_year</th>\n",
              "      <th>sur_refl_b03_std_sampling_year</th>\n",
              "      <th>sur_refl_b07_std_sampling_year</th>\n",
              "      <th>soc_stock_t_ha</th>\n",
              "    </tr>\n",
              "  </thead>\n",
              "  <tbody>\n",
              "    <tr>\n",
              "      <th>count</th>\n",
              "      <td>5091.000000</td>\n",
              "      <td>5091.000000</td>\n",
              "      <td>5091.000000</td>\n",
              "      <td>5091.000000</td>\n",
              "      <td>5091.000000</td>\n",
              "      <td>5091.000000</td>\n",
              "      <td>5091.000000</td>\n",
              "      <td>5091.000000</td>\n",
              "      <td>5091.000000</td>\n",
              "      <td>5091.000000</td>\n",
              "      <td>...</td>\n",
              "      <td>5091.000000</td>\n",
              "      <td>5091.000000</td>\n",
              "      <td>5091.000000</td>\n",
              "      <td>5091.000000</td>\n",
              "      <td>5091.000000</td>\n",
              "      <td>5091.000000</td>\n",
              "      <td>5091.000000</td>\n",
              "      <td>5091.000000</td>\n",
              "      <td>5091.000000</td>\n",
              "      <td>5091.000000</td>\n",
              "    </tr>\n",
              "    <tr>\n",
              "      <th>mean</th>\n",
              "      <td>2011.011589</td>\n",
              "      <td>703.000982</td>\n",
              "      <td>702.989512</td>\n",
              "      <td>704.887056</td>\n",
              "      <td>704.098409</td>\n",
              "      <td>704.304066</td>\n",
              "      <td>702.360047</td>\n",
              "      <td>0.171150</td>\n",
              "      <td>-1.472009</td>\n",
              "      <td>196.266352</td>\n",
              "      <td>...</td>\n",
              "      <td>2926.502814</td>\n",
              "      <td>934.478293</td>\n",
              "      <td>1443.624366</td>\n",
              "      <td>1276.086012</td>\n",
              "      <td>1630.338114</td>\n",
              "      <td>1065.661213</td>\n",
              "      <td>1068.488921</td>\n",
              "      <td>1036.451850</td>\n",
              "      <td>453.205834</td>\n",
              "      <td>69.399018</td>\n",
              "    </tr>\n",
              "    <tr>\n",
              "      <th>std</th>\n",
              "      <td>0.285303</td>\n",
              "      <td>689.395483</td>\n",
              "      <td>689.818076</td>\n",
              "      <td>689.329857</td>\n",
              "      <td>689.650488</td>\n",
              "      <td>689.572815</td>\n",
              "      <td>689.939886</td>\n",
              "      <td>0.173190</td>\n",
              "      <td>15.523306</td>\n",
              "      <td>19.435374</td>\n",
              "      <td>...</td>\n",
              "      <td>576.318969</td>\n",
              "      <td>709.491148</td>\n",
              "      <td>646.012703</td>\n",
              "      <td>669.566579</td>\n",
              "      <td>828.002647</td>\n",
              "      <td>1005.472648</td>\n",
              "      <td>618.375897</td>\n",
              "      <td>1079.210268</td>\n",
              "      <td>197.820808</td>\n",
              "      <td>67.241177</td>\n",
              "    </tr>\n",
              "    <tr>\n",
              "      <th>min</th>\n",
              "      <td>2011.000000</td>\n",
              "      <td>-64.000000</td>\n",
              "      <td>-62.485870</td>\n",
              "      <td>-62.000000</td>\n",
              "      <td>-64.000000</td>\n",
              "      <td>-64.000000</td>\n",
              "      <td>-64.751762</td>\n",
              "      <td>0.006211</td>\n",
              "      <td>-146.000000</td>\n",
              "      <td>65.000000</td>\n",
              "      <td>...</td>\n",
              "      <td>884.869565</td>\n",
              "      <td>57.043478</td>\n",
              "      <td>209.086957</td>\n",
              "      <td>43.458035</td>\n",
              "      <td>32.174549</td>\n",
              "      <td>44.805950</td>\n",
              "      <td>121.464499</td>\n",
              "      <td>25.795410</td>\n",
              "      <td>72.230034</td>\n",
              "      <td>0.178608</td>\n",
              "    </tr>\n",
              "    <tr>\n",
              "      <th>25%</th>\n",
              "      <td>2011.000000</td>\n",
              "      <td>178.500000</td>\n",
              "      <td>177.082237</td>\n",
              "      <td>179.000000</td>\n",
              "      <td>179.000000</td>\n",
              "      <td>179.000000</td>\n",
              "      <td>177.300896</td>\n",
              "      <td>0.058714</td>\n",
              "      <td>-4.000000</td>\n",
              "      <td>184.000000</td>\n",
              "      <td>...</td>\n",
              "      <td>2531.978261</td>\n",
              "      <td>382.565217</td>\n",
              "      <td>991.347826</td>\n",
              "      <td>716.760909</td>\n",
              "      <td>970.811955</td>\n",
              "      <td>222.691322</td>\n",
              "      <td>588.573861</td>\n",
              "      <td>107.901579</td>\n",
              "      <td>305.694851</td>\n",
              "      <td>30.201763</td>\n",
              "    </tr>\n",
              "    <tr>\n",
              "      <th>50%</th>\n",
              "      <td>2011.000000</td>\n",
              "      <td>383.000000</td>\n",
              "      <td>382.266815</td>\n",
              "      <td>384.000000</td>\n",
              "      <td>383.000000</td>\n",
              "      <td>381.000000</td>\n",
              "      <td>381.222198</td>\n",
              "      <td>0.103695</td>\n",
              "      <td>0.000000</td>\n",
              "      <td>199.000000</td>\n",
              "      <td>...</td>\n",
              "      <td>2842.695652</td>\n",
              "      <td>736.913043</td>\n",
              "      <td>1322.608696</td>\n",
              "      <td>1264.965743</td>\n",
              "      <td>1594.603804</td>\n",
              "      <td>639.540645</td>\n",
              "      <td>924.875167</td>\n",
              "      <td>649.356386</td>\n",
              "      <td>415.923707</td>\n",
              "      <td>49.241095</td>\n",
              "    </tr>\n",
              "    <tr>\n",
              "      <th>75%</th>\n",
              "      <td>2011.000000</td>\n",
              "      <td>1228.000000</td>\n",
              "      <td>1228.776917</td>\n",
              "      <td>1230.000000</td>\n",
              "      <td>1229.000000</td>\n",
              "      <td>1228.500000</td>\n",
              "      <td>1229.918152</td>\n",
              "      <td>0.212986</td>\n",
              "      <td>2.000000</td>\n",
              "      <td>210.000000</td>\n",
              "      <td>...</td>\n",
              "      <td>3244.173913</td>\n",
              "      <td>1234.739130</td>\n",
              "      <td>1741.195652</td>\n",
              "      <td>1831.894627</td>\n",
              "      <td>2293.518117</td>\n",
              "      <td>1741.368234</td>\n",
              "      <td>1392.175076</td>\n",
              "      <td>1767.075432</td>\n",
              "      <td>572.038427</td>\n",
              "      <td>82.367462</td>\n",
              "    </tr>\n",
              "    <tr>\n",
              "      <th>max</th>\n",
              "      <td>2019.000000</td>\n",
              "      <td>3531.000000</td>\n",
              "      <td>3521.041748</td>\n",
              "      <td>3523.000000</td>\n",
              "      <td>3580.000000</td>\n",
              "      <td>3536.000000</td>\n",
              "      <td>3522.890137</td>\n",
              "      <td>1.000000</td>\n",
              "      <td>150.000000</td>\n",
              "      <td>252.000000</td>\n",
              "      <td>...</td>\n",
              "      <td>5668.818182</td>\n",
              "      <td>4272.304348</td>\n",
              "      <td>4684.826087</td>\n",
              "      <td>3406.645239</td>\n",
              "      <td>3559.256708</td>\n",
              "      <td>3867.800669</td>\n",
              "      <td>3193.912846</td>\n",
              "      <td>4049.046509</td>\n",
              "      <td>1249.752010</td>\n",
              "      <td>497.756299</td>\n",
              "    </tr>\n",
              "  </tbody>\n",
              "</table>\n",
              "<p>8 rows × 306 columns</p>\n",
              "</div>\n",
              "      <button class=\"colab-df-convert\" onclick=\"convertToInteractive('df-84b61d2e-069c-4981-99af-540cd3f990d6')\"\n",
              "              title=\"Convert this dataframe to an interactive table.\"\n",
              "              style=\"display:none;\">\n",
              "        \n",
              "  <svg xmlns=\"http://www.w3.org/2000/svg\" height=\"24px\"viewBox=\"0 0 24 24\"\n",
              "       width=\"24px\">\n",
              "    <path d=\"M0 0h24v24H0V0z\" fill=\"none\"/>\n",
              "    <path d=\"M18.56 5.44l.94 2.06.94-2.06 2.06-.94-2.06-.94-.94-2.06-.94 2.06-2.06.94zm-11 1L8.5 8.5l.94-2.06 2.06-.94-2.06-.94L8.5 2.5l-.94 2.06-2.06.94zm10 10l.94 2.06.94-2.06 2.06-.94-2.06-.94-.94-2.06-.94 2.06-2.06.94z\"/><path d=\"M17.41 7.96l-1.37-1.37c-.4-.4-.92-.59-1.43-.59-.52 0-1.04.2-1.43.59L10.3 9.45l-7.72 7.72c-.78.78-.78 2.05 0 2.83L4 21.41c.39.39.9.59 1.41.59.51 0 1.02-.2 1.41-.59l7.78-7.78 2.81-2.81c.8-.78.8-2.07 0-2.86zM5.41 20L4 18.59l7.72-7.72 1.47 1.35L5.41 20z\"/>\n",
              "  </svg>\n",
              "      </button>\n",
              "      \n",
              "  <style>\n",
              "    .colab-df-container {\n",
              "      display:flex;\n",
              "      flex-wrap:wrap;\n",
              "      gap: 12px;\n",
              "    }\n",
              "\n",
              "    .colab-df-convert {\n",
              "      background-color: #E8F0FE;\n",
              "      border: none;\n",
              "      border-radius: 50%;\n",
              "      cursor: pointer;\n",
              "      display: none;\n",
              "      fill: #1967D2;\n",
              "      height: 32px;\n",
              "      padding: 0 0 0 0;\n",
              "      width: 32px;\n",
              "    }\n",
              "\n",
              "    .colab-df-convert:hover {\n",
              "      background-color: #E2EBFA;\n",
              "      box-shadow: 0px 1px 2px rgba(60, 64, 67, 0.3), 0px 1px 3px 1px rgba(60, 64, 67, 0.15);\n",
              "      fill: #174EA6;\n",
              "    }\n",
              "\n",
              "    [theme=dark] .colab-df-convert {\n",
              "      background-color: #3B4455;\n",
              "      fill: #D2E3FC;\n",
              "    }\n",
              "\n",
              "    [theme=dark] .colab-df-convert:hover {\n",
              "      background-color: #434B5C;\n",
              "      box-shadow: 0px 1px 3px 1px rgba(0, 0, 0, 0.15);\n",
              "      filter: drop-shadow(0px 1px 2px rgba(0, 0, 0, 0.3));\n",
              "      fill: #FFFFFF;\n",
              "    }\n",
              "  </style>\n",
              "\n",
              "      <script>\n",
              "        const buttonEl =\n",
              "          document.querySelector('#df-84b61d2e-069c-4981-99af-540cd3f990d6 button.colab-df-convert');\n",
              "        buttonEl.style.display =\n",
              "          google.colab.kernel.accessAllowed ? 'block' : 'none';\n",
              "\n",
              "        async function convertToInteractive(key) {\n",
              "          const element = document.querySelector('#df-84b61d2e-069c-4981-99af-540cd3f990d6');\n",
              "          const dataTable =\n",
              "            await google.colab.kernel.invokeFunction('convertToInteractive',\n",
              "                                                     [key], {});\n",
              "          if (!dataTable) return;\n",
              "\n",
              "          const docLinkHtml = 'Like what you see? Visit the ' +\n",
              "            '<a target=\"_blank\" href=https://colab.research.google.com/notebooks/data_table.ipynb>data table notebook</a>'\n",
              "            + ' to learn more about interactive tables.';\n",
              "          element.innerHTML = '';\n",
              "          dataTable['output_type'] = 'display_data';\n",
              "          await google.colab.output.renderOutput(dataTable, element);\n",
              "          const docLink = document.createElement('div');\n",
              "          docLink.innerHTML = docLinkHtml;\n",
              "          element.appendChild(docLink);\n",
              "        }\n",
              "      </script>\n",
              "    </div>\n",
              "  </div>\n",
              "  "
            ]
          },
          "metadata": {},
          "execution_count": 27
        }
      ]
    },
    {
      "cell_type": "code",
      "source": [
        "df.info()"
      ],
      "metadata": {
        "colab": {
          "base_uri": "https://localhost:8080/"
        },
        "id": "J3kHI_PF77cs",
        "outputId": "6713c821-5fb1-4212-e63c-c98a1c64d1d9"
      },
      "execution_count": 28,
      "outputs": [
        {
          "output_type": "stream",
          "name": "stdout",
          "text": [
            "<class 'pandas.core.frame.DataFrame'>\n",
            "RangeIndex: 5091 entries, 0 to 5090\n",
            "Columns: 306 entries, year to soc_stock_t_ha\n",
            "dtypes: float64(212), int64(94)\n",
            "memory usage: 11.9 MB\n"
          ]
        }
      ]
    },
    {
      "cell_type": "markdown",
      "source": [
        "Here, We do not have any categorical data. So, we need not to perform OneHotEncoding Task."
      ],
      "metadata": {
        "id": "mqu9tmai2i7R"
      }
    },
    {
      "cell_type": "code",
      "source": [
        "for i in list(df.select_dtypes(include='object')):\n",
        "    print(True)\n",
        "else:\n",
        "    print(False)"
      ],
      "metadata": {
        "colab": {
          "base_uri": "https://localhost:8080/"
        },
        "id": "GZNfO-uG_Xy0",
        "outputId": "e7df6aaa-3230-45a3-86bc-97805f530ea3"
      },
      "execution_count": 29,
      "outputs": [
        {
          "output_type": "stream",
          "name": "stdout",
          "text": [
            "False\n"
          ]
        }
      ]
    },
    {
      "cell_type": "code",
      "source": [
        "list(df.select_dtypes(include='object'))"
      ],
      "metadata": {
        "colab": {
          "base_uri": "https://localhost:8080/"
        },
        "id": "E0ESP7EIAPUw",
        "outputId": "45e33763-1470-4ffd-d66d-77d1213ede9d"
      },
      "execution_count": 30,
      "outputs": [
        {
          "output_type": "execute_result",
          "data": {
            "text/plain": [
              "[]"
            ]
          },
          "metadata": {},
          "execution_count": 30
        }
      ]
    },
    {
      "cell_type": "code",
      "source": [
        "list(df.select_dtypes(include='float'))"
      ],
      "metadata": {
        "colab": {
          "base_uri": "https://localhost:8080/"
        },
        "id": "ZVTwEUcV_X1m",
        "outputId": "f0111058-d0a7-4f8c-d010-9856c67fe1c1"
      },
      "execution_count": 31,
      "outputs": [
        {
          "output_type": "execute_result",
          "data": {
            "text/plain": [
              "['dem_merit',\n",
              " 'dem_usgs_ned',\n",
              " 'terrain_topo_div_alos_constant',\n",
              " 'LST_Day_1km_01_mean',\n",
              " 'LST_Day_1km_01_std',\n",
              " 'LST_Day_1km_02_mean',\n",
              " 'LST_Day_1km_02_std',\n",
              " 'LST_Day_1km_03_mean',\n",
              " 'LST_Day_1km_03_std',\n",
              " 'LST_Day_1km_04_mean',\n",
              " 'LST_Day_1km_04_std',\n",
              " 'LST_Day_1km_05_mean',\n",
              " 'LST_Day_1km_05_std',\n",
              " 'LST_Day_1km_06_mean',\n",
              " 'LST_Day_1km_06_std',\n",
              " 'LST_Day_1km_07_mean',\n",
              " 'LST_Day_1km_07_std',\n",
              " 'LST_Day_1km_08_mean',\n",
              " 'LST_Day_1km_08_std',\n",
              " 'LST_Day_1km_09_mean',\n",
              " 'LST_Day_1km_09_std',\n",
              " 'LST_Day_1km_10_mean',\n",
              " 'LST_Day_1km_10_std',\n",
              " 'LST_Day_1km_11_mean',\n",
              " 'LST_Day_1km_11_std',\n",
              " 'LST_Day_1km_12_mean',\n",
              " 'LST_Day_1km_12_std',\n",
              " 'LST_Night_1km_01_mean',\n",
              " 'LST_Night_1km_01_std',\n",
              " 'LST_Night_1km_02_mean',\n",
              " 'LST_Night_1km_02_std',\n",
              " 'LST_Night_1km_03_mean',\n",
              " 'LST_Night_1km_03_std',\n",
              " 'LST_Night_1km_04_mean',\n",
              " 'LST_Night_1km_04_std',\n",
              " 'LST_Night_1km_05_mean',\n",
              " 'LST_Night_1km_05_std',\n",
              " 'LST_Night_1km_06_mean',\n",
              " 'LST_Night_1km_06_std',\n",
              " 'LST_Night_1km_07_mean',\n",
              " 'LST_Night_1km_07_std',\n",
              " 'LST_Night_1km_08_mean',\n",
              " 'LST_Night_1km_08_std',\n",
              " 'LST_Night_1km_09_mean',\n",
              " 'LST_Night_1km_09_std',\n",
              " 'LST_Night_1km_10_mean',\n",
              " 'LST_Night_1km_10_std',\n",
              " 'LST_Night_1km_11_mean',\n",
              " 'LST_Night_1km_11_std',\n",
              " 'LST_Night_1km_12_mean',\n",
              " 'LST_Night_1km_12_std',\n",
              " 'LST_Day_1km_mean_sampling_year',\n",
              " 'LST_Night_1km_mean_sampling_year',\n",
              " 'LST_Day_1km_std_sampling_year',\n",
              " 'LST_Night_1km_std_sampling_year',\n",
              " 'evi_01_mean',\n",
              " 'evi_01_std',\n",
              " 'evi_02_mean',\n",
              " 'evi_02_std',\n",
              " 'evi_03_mean',\n",
              " 'evi_03_std',\n",
              " 'evi_04_mean',\n",
              " 'evi_04_std',\n",
              " 'evi_05_mean',\n",
              " 'evi_05_std',\n",
              " 'evi_06_mean',\n",
              " 'evi_06_std',\n",
              " 'evi_07_mean',\n",
              " 'evi_07_std',\n",
              " 'evi_08_mean',\n",
              " 'evi_08_std',\n",
              " 'evi_09_mean',\n",
              " 'evi_09_std',\n",
              " 'evi_10_mean',\n",
              " 'evi_10_std',\n",
              " 'evi_11_mean',\n",
              " 'evi_11_std',\n",
              " 'evi_12_mean',\n",
              " 'evi_12_std',\n",
              " 'ndvi_01_mean',\n",
              " 'ndvi_01_std',\n",
              " 'ndvi_02_mean',\n",
              " 'ndvi_02_std',\n",
              " 'ndvi_03_mean',\n",
              " 'ndvi_03_std',\n",
              " 'ndvi_04_mean',\n",
              " 'ndvi_04_std',\n",
              " 'ndvi_05_mean',\n",
              " 'ndvi_05_std',\n",
              " 'ndvi_06_mean',\n",
              " 'ndvi_06_std',\n",
              " 'ndvi_07_mean',\n",
              " 'ndvi_07_std',\n",
              " 'ndvi_08_mean',\n",
              " 'ndvi_08_std',\n",
              " 'ndvi_09_mean',\n",
              " 'ndvi_09_std',\n",
              " 'ndvi_10_mean',\n",
              " 'ndvi_10_std',\n",
              " 'ndvi_11_mean',\n",
              " 'ndvi_11_std',\n",
              " 'ndvi_12_mean',\n",
              " 'ndvi_12_std',\n",
              " 'sur_refl_b01_01_mean',\n",
              " 'sur_refl_b01_01_std',\n",
              " 'sur_refl_b01_02_mean',\n",
              " 'sur_refl_b01_02_std',\n",
              " 'sur_refl_b01_03_mean',\n",
              " 'sur_refl_b01_03_std',\n",
              " 'sur_refl_b01_04_mean',\n",
              " 'sur_refl_b01_04_std',\n",
              " 'sur_refl_b01_05_mean',\n",
              " 'sur_refl_b01_05_std',\n",
              " 'sur_refl_b01_06_mean',\n",
              " 'sur_refl_b01_06_std',\n",
              " 'sur_refl_b01_07_mean',\n",
              " 'sur_refl_b01_07_std',\n",
              " 'sur_refl_b01_08_mean',\n",
              " 'sur_refl_b01_08_std',\n",
              " 'sur_refl_b01_09_mean',\n",
              " 'sur_refl_b01_09_std',\n",
              " 'sur_refl_b01_10_mean',\n",
              " 'sur_refl_b01_10_std',\n",
              " 'sur_refl_b01_11_mean',\n",
              " 'sur_refl_b01_11_std',\n",
              " 'sur_refl_b01_12_mean',\n",
              " 'sur_refl_b01_12_std',\n",
              " 'sur_refl_b02_01_mean',\n",
              " 'sur_refl_b02_01_std',\n",
              " 'sur_refl_b02_02_mean',\n",
              " 'sur_refl_b02_02_std',\n",
              " 'sur_refl_b02_03_mean',\n",
              " 'sur_refl_b02_03_std',\n",
              " 'sur_refl_b02_04_mean',\n",
              " 'sur_refl_b02_04_std',\n",
              " 'sur_refl_b02_05_mean',\n",
              " 'sur_refl_b02_05_std',\n",
              " 'sur_refl_b02_06_mean',\n",
              " 'sur_refl_b02_06_std',\n",
              " 'sur_refl_b02_07_mean',\n",
              " 'sur_refl_b02_07_std',\n",
              " 'sur_refl_b02_08_mean',\n",
              " 'sur_refl_b02_08_std',\n",
              " 'sur_refl_b02_09_mean',\n",
              " 'sur_refl_b02_09_std',\n",
              " 'sur_refl_b02_10_mean',\n",
              " 'sur_refl_b02_10_std',\n",
              " 'sur_refl_b02_11_mean',\n",
              " 'sur_refl_b02_11_std',\n",
              " 'sur_refl_b02_12_mean',\n",
              " 'sur_refl_b02_12_std',\n",
              " 'sur_refl_b03_01_mean',\n",
              " 'sur_refl_b03_01_std',\n",
              " 'sur_refl_b03_02_mean',\n",
              " 'sur_refl_b03_02_std',\n",
              " 'sur_refl_b03_03_mean',\n",
              " 'sur_refl_b03_03_std',\n",
              " 'sur_refl_b03_04_mean',\n",
              " 'sur_refl_b03_04_std',\n",
              " 'sur_refl_b03_05_mean',\n",
              " 'sur_refl_b03_05_std',\n",
              " 'sur_refl_b03_06_mean',\n",
              " 'sur_refl_b03_06_std',\n",
              " 'sur_refl_b03_07_mean',\n",
              " 'sur_refl_b03_07_std',\n",
              " 'sur_refl_b03_08_mean',\n",
              " 'sur_refl_b03_08_std',\n",
              " 'sur_refl_b03_09_mean',\n",
              " 'sur_refl_b03_09_std',\n",
              " 'sur_refl_b03_10_mean',\n",
              " 'sur_refl_b03_10_std',\n",
              " 'sur_refl_b03_11_mean',\n",
              " 'sur_refl_b03_11_std',\n",
              " 'sur_refl_b03_12_mean',\n",
              " 'sur_refl_b03_12_std',\n",
              " 'sur_refl_b07_01_mean',\n",
              " 'sur_refl_b07_01_std',\n",
              " 'sur_refl_b07_02_mean',\n",
              " 'sur_refl_b07_02_std',\n",
              " 'sur_refl_b07_03_mean',\n",
              " 'sur_refl_b07_03_std',\n",
              " 'sur_refl_b07_04_mean',\n",
              " 'sur_refl_b07_04_std',\n",
              " 'sur_refl_b07_05_mean',\n",
              " 'sur_refl_b07_05_std',\n",
              " 'sur_refl_b07_06_mean',\n",
              " 'sur_refl_b07_06_std',\n",
              " 'sur_refl_b07_07_mean',\n",
              " 'sur_refl_b07_07_std',\n",
              " 'sur_refl_b07_08_mean',\n",
              " 'sur_refl_b07_08_std',\n",
              " 'sur_refl_b07_09_mean',\n",
              " 'sur_refl_b07_09_std',\n",
              " 'sur_refl_b07_10_mean',\n",
              " 'sur_refl_b07_10_std',\n",
              " 'sur_refl_b07_11_mean',\n",
              " 'sur_refl_b07_11_std',\n",
              " 'sur_refl_b07_12_mean',\n",
              " 'sur_refl_b07_12_std',\n",
              " 'evi_mean_sampling_year',\n",
              " 'ndvi_mean_sampling_year',\n",
              " 'sur_refl_b01_mean_sampling_year',\n",
              " 'sur_refl_b02_mean_sampling_year',\n",
              " 'sur_refl_b03_mean_sampling_year',\n",
              " 'sur_refl_b07_mean_sampling_year',\n",
              " 'evi_std_sampling_year',\n",
              " 'ndvi_std_sampling_year',\n",
              " 'sur_refl_b01_std_sampling_year',\n",
              " 'sur_refl_b02_std_sampling_year',\n",
              " 'sur_refl_b03_std_sampling_year',\n",
              " 'sur_refl_b07_std_sampling_year',\n",
              " 'soc_stock_t_ha']"
            ]
          },
          "metadata": {},
          "execution_count": 31
        }
      ]
    },
    {
      "cell_type": "code",
      "source": [
        "list(df.select_dtypes(include='int'))"
      ],
      "metadata": {
        "colab": {
          "base_uri": "https://localhost:8080/"
        },
        "id": "LU96IzHO_X37",
        "outputId": "b88cebd0-84ce-4915-9a41-f468e1053a9f"
      },
      "execution_count": 32,
      "outputs": [
        {
          "output_type": "execute_result",
          "data": {
            "text/plain": [
              "['year',\n",
              " 'dem_nasa_dem30',\n",
              " 'dem_gmted',\n",
              " 'dem_srtm90_v4',\n",
              " 'dem_nasa_srtm30',\n",
              " 'terrain_mtpi_alos_AVE',\n",
              " 'terrain_chili_alos_constant',\n",
              " 'soil_olm_bd_b0',\n",
              " 'soil_olm_bd_b10',\n",
              " 'soil_olm_bd_b30',\n",
              " 'soil_olm_bd_b60',\n",
              " 'soil_olm_bd_b100',\n",
              " 'soil_olm_clay_b0',\n",
              " 'soil_olm_clay_b10',\n",
              " 'soil_olm_clay_b30',\n",
              " 'soil_olm_clay_b60',\n",
              " 'soil_olm_clay_b100',\n",
              " 'soil_olm_soc_b0',\n",
              " 'soil_olm_soc_b10',\n",
              " 'soil_olm_soc_b30',\n",
              " 'soil_olm_soc_b60',\n",
              " 'soil_olm_soc_b100',\n",
              " 'soil_olm_ph_b0',\n",
              " 'soil_olm_ph_b10',\n",
              " 'soil_olm_ph_b30',\n",
              " 'soil_olm_ph_b60',\n",
              " 'soil_olm_ph_b100',\n",
              " 'soil_olm_sand_b0',\n",
              " 'soil_olm_sand_b10',\n",
              " 'soil_olm_sand_b30',\n",
              " 'soil_olm_sand_b60',\n",
              " 'soil_olm_sand_b100',\n",
              " 'soil_olm_water_content_b0',\n",
              " 'soil_olm_water_content_b10',\n",
              " 'soil_olm_water_content_b30',\n",
              " 'soil_olm_water_content_b60',\n",
              " 'soil_olm_water_content_b100',\n",
              " 'soil_grids_bdod_0_5',\n",
              " 'soil_grids_bdod_5_15',\n",
              " 'soil_grids_bdod_15_30',\n",
              " 'soil_grids_bdod_30_60',\n",
              " 'soil_grids_bdod_60_100',\n",
              " 'soil_grids_cec_0_5',\n",
              " 'soil_grids_cec_5_15',\n",
              " 'soil_grids_cec_15_30',\n",
              " 'soil_grids_cec_30_60',\n",
              " 'soil_grids_cec_60_100',\n",
              " 'soil_grids_clay_0_5',\n",
              " 'soil_grids_clay_5_15',\n",
              " 'soil_grids_clay_15_30',\n",
              " 'soil_grids_clay_30_60',\n",
              " 'soil_grids_clay_60_100',\n",
              " 'soil_grids_phh2o_0_5',\n",
              " 'soil_grids_phh2o_5_15',\n",
              " 'soil_grids_phh2o_15_30',\n",
              " 'soil_grids_phh2o_30_60',\n",
              " 'soil_grids_phh2o_60_100',\n",
              " 'soil_grids_cfvo_0_5',\n",
              " 'soil_grids_cfvo_5_15',\n",
              " 'soil_grids_cfvo_15_30',\n",
              " 'soil_grids_cfvo_30_60',\n",
              " 'soil_grids_cfvo_60_100',\n",
              " 'soil_grids_sand_0_5',\n",
              " 'soil_grids_sand_5_15',\n",
              " 'soil_grids_sand_15_30',\n",
              " 'soil_grids_sand_30_60',\n",
              " 'soil_grids_sand_60_100',\n",
              " 'soil_grids_silt_0_5',\n",
              " 'soil_grids_silt_5_15',\n",
              " 'soil_grids_silt_15_30',\n",
              " 'soil_grids_silt_30_60',\n",
              " 'soil_grids_silt_60_100',\n",
              " 'soil_grids_soc_0_5',\n",
              " 'soil_grids_soc_5_15',\n",
              " 'soil_grids_soc_15_30',\n",
              " 'soil_grids_soc_30_60',\n",
              " 'soil_grids_soc_60_100',\n",
              " 'soil_grids_ocd_0_5',\n",
              " 'soil_grids_ocd_5_15',\n",
              " 'soil_grids_ocd_15_30',\n",
              " 'soil_grids_ocd_30_60',\n",
              " 'soil_grids_ocd_60_100',\n",
              " 'soil_grids_ocs_0_30',\n",
              " 'soil_grids_nitrogen_0_5',\n",
              " 'soil_grids_nitrogen_5_15',\n",
              " 'soil_grids_nitrogen_15_30',\n",
              " 'soil_grids_nitrogen_30_60',\n",
              " 'soil_grids_nitrogen_60_100',\n",
              " 'pForest_sampling_year',\n",
              " 'pAgriculture_sampling_year',\n",
              " 'pRangeland_or_Pasture_sampling_year',\n",
              " 'pDeveloped_sampling_year',\n",
              " 'pNon_Forest_Wetland_sampling_year',\n",
              " 'pOther_sampling_year']"
            ]
          },
          "metadata": {},
          "execution_count": 32
        }
      ]
    },
    {
      "cell_type": "code",
      "source": [
        "df.columns"
      ],
      "metadata": {
        "colab": {
          "base_uri": "https://localhost:8080/"
        },
        "id": "rEpRHgxh_X65",
        "outputId": "9e6dd0b9-3ec8-49b0-cb0b-31e30e4b3f38"
      },
      "execution_count": 33,
      "outputs": [
        {
          "output_type": "execute_result",
          "data": {
            "text/plain": [
              "Index(['year', 'dem_nasa_dem30', 'dem_merit', 'dem_gmted', 'dem_srtm90_v4',\n",
              "       'dem_nasa_srtm30', 'dem_usgs_ned', 'terrain_topo_div_alos_constant',\n",
              "       'terrain_mtpi_alos_AVE', 'terrain_chili_alos_constant',\n",
              "       ...\n",
              "       'sur_refl_b02_mean_sampling_year', 'sur_refl_b03_mean_sampling_year',\n",
              "       'sur_refl_b07_mean_sampling_year', 'evi_std_sampling_year',\n",
              "       'ndvi_std_sampling_year', 'sur_refl_b01_std_sampling_year',\n",
              "       'sur_refl_b02_std_sampling_year', 'sur_refl_b03_std_sampling_year',\n",
              "       'sur_refl_b07_std_sampling_year', 'soc_stock_t_ha'],\n",
              "      dtype='object', length=306)"
            ]
          },
          "metadata": {},
          "execution_count": 33
        }
      ]
    },
    {
      "cell_type": "markdown",
      "source": [
        "# Data Splitting"
      ],
      "metadata": {
        "id": "M1YkKQMQ4DGa"
      }
    },
    {
      "cell_type": "code",
      "source": [
        "df_train, df_test = train_test_split(df, test_size=0.2, random_state=42)\n",
        "\n",
        "print('shape of df_train', df_train.shape)\n",
        "print('shape of df_test', df_test.shape)"
      ],
      "metadata": {
        "colab": {
          "base_uri": "https://localhost:8080/"
        },
        "id": "s8RKis367ywF",
        "outputId": "aba82a9c-7b77-4310-df1b-dabda60ed3af"
      },
      "execution_count": 6,
      "outputs": [
        {
          "output_type": "stream",
          "name": "stdout",
          "text": [
            "shape of df_train (4072, 306)\n",
            "shape of df_test (1019, 306)\n"
          ]
        }
      ]
    },
    {
      "cell_type": "markdown",
      "source": [
        "To prevent the problem of data leakage, we divided the data at the very beginning of the task. When the information that we use to train a machine learning algorithm is present in the training data, this is referred to as data leakage in machine learning. As a result, we divide the testing data from the training data (used to train the model) (To predict the data outcome)."
      ],
      "metadata": {
        "id": "lWXRSd2Z9a_O"
      }
    },
    {
      "cell_type": "code",
      "source": [
        "X_train =  df_train.drop(['soc_stock_t_ha'],axis=1)\n",
        "y_train = df_train['soc_stock_t_ha']\n",
        "\n",
        "X_test =  df_test.drop(['soc_stock_t_ha'],axis=1)\n",
        "y_test = df_test['soc_stock_t_ha']\n",
        "\n",
        "\n",
        "print('Shape of X_train: ',X_train.shape)\n",
        "print('Shape of y_train: ',y_train.shape)\n",
        "print('Shape of X_test: ',X_test.shape)\n",
        "print('Shape of y_test: ',y_test.shape)"
      ],
      "metadata": {
        "colab": {
          "base_uri": "https://localhost:8080/"
        },
        "id": "0QD2SFVO70g5",
        "outputId": "11c48cdf-3011-4dc7-b20b-d3f126422177"
      },
      "execution_count": 7,
      "outputs": [
        {
          "output_type": "stream",
          "name": "stdout",
          "text": [
            "Shape of X_train:  (4072, 305)\n",
            "Shape of y_train:  (4072,)\n",
            "Shape of X_test:  (1019, 305)\n",
            "Shape of y_test:  (1019,)\n"
          ]
        }
      ]
    },
    {
      "cell_type": "markdown",
      "source": [
        "# Feature Engineering"
      ],
      "metadata": {
        "id": "Ju4wJjKJ4Ims"
      }
    },
    {
      "cell_type": "markdown",
      "source": [
        "## Standardization / Normalization"
      ],
      "metadata": {
        "id": "_mVaTrSTAgrF"
      }
    },
    {
      "cell_type": "code",
      "source": [
        "scaler = StandardScaler(with_mean=False)\n",
        "scaler.fit(X_train)\n",
        "\n",
        "X_train = scaler.transform(X_train)\n",
        "X_test = scaler.transform(X_test)\n",
        "\n",
        "print('Shape of X_train: ',X_train.shape)\n",
        "print('Shape of X_test: ',X_test.shape)"
      ],
      "metadata": {
        "colab": {
          "base_uri": "https://localhost:8080/"
        },
        "id": "uAa8p0QmAeVy",
        "outputId": "d7842ce2-ad6d-4437-d2f6-db85c53d811e"
      },
      "execution_count": 8,
      "outputs": [
        {
          "output_type": "stream",
          "name": "stdout",
          "text": [
            "Shape of X_train:  (4072, 305)\n",
            "Shape of X_test:  (1019, 305)\n"
          ]
        }
      ]
    },
    {
      "cell_type": "markdown",
      "source": [
        "Standardization (Z_score normalization) >> It is a Transformed version of your features. It is normal distribution with \"mean = 0\" & \"standard deviation = 1\".\n",
        "Standardization = (each feature - mean of feature) / (standard deviations)\n",
        "\n",
        "standardization is a better default option to use. Also, I checked the accuracy with Normalization but it was not impressive. Hence I choose standardization."
      ],
      "metadata": {
        "id": "BOsn_vXg-UC4"
      }
    },
    {
      "cell_type": "code",
      "source": [
        "X_stand= pd.DataFrame(X_train, columns=scaler.get_feature_names_out())\n",
        "X_stand"
      ],
      "metadata": {
        "colab": {
          "base_uri": "https://localhost:8080/",
          "height": 488
        },
        "id": "YwDvxoVaAeZX",
        "outputId": "95aa5cc0-cfe0-43cb-ca96-fc450267637a"
      },
      "execution_count": 9,
      "outputs": [
        {
          "output_type": "execute_result",
          "data": {
            "text/plain": [
              "             year  dem_nasa_dem30  dem_merit  dem_gmted  dem_srtm90_v4  \\\n",
              "0     8618.215115        0.029204   0.033610   0.037983       0.043788   \n",
              "1     8618.215115        0.321246   0.324029   0.318470       0.319653   \n",
              "2     8618.215115        0.091993   0.092342   0.096418       0.091955   \n",
              "3     8618.215115        0.858604   0.859807   0.853149       0.861166   \n",
              "4     8618.215115        0.166464   0.166078   0.168000       0.175152   \n",
              "...           ...             ...        ...        ...            ...   \n",
              "4067  8618.215115        1.848626   1.846818   1.852386       1.846399   \n",
              "4068  8618.215115        0.379655   0.384047   0.404662       0.380957   \n",
              "4069  8618.215115        0.397177   0.397125   0.392975       0.395553   \n",
              "4070  8618.215115        2.010709   2.011875   2.016003       2.014253   \n",
              "4071  8618.215115        0.297883   0.292163   0.299479       0.299219   \n",
              "\n",
              "      dem_nasa_srtm30  dem_usgs_ned  terrain_topo_div_alos_constant  \\\n",
              "0            0.035037      0.031148                        0.482900   \n",
              "1            0.319716      0.323267                        0.111313   \n",
              "2            0.091973      0.093509                        0.131412   \n",
              "3            0.852576      0.859220                        0.620420   \n",
              "4            0.172267      0.161632                        0.495301   \n",
              "...               ...           ...                             ...   \n",
              "4067         1.848222      1.847150                        0.108572   \n",
              "4068         0.379572      0.372243                        0.659676   \n",
              "4069         0.394171      0.396734                        0.488402   \n",
              "4070         2.014649      2.010559                        0.624724   \n",
              "4071         0.299278      0.291139                        0.279268   \n",
              "\n",
              "      terrain_mtpi_alos_AVE  terrain_chili_alos_constant  ...  \\\n",
              "0                 -0.253187                     9.471914  ...   \n",
              "1                  0.000000                    11.007900  ...   \n",
              "2                  0.000000                    10.751902  ...   \n",
              "3                 -0.379781                     8.499123  ...   \n",
              "4                  0.316484                    11.059099  ...   \n",
              "...                     ...                          ...  ...   \n",
              "4067               0.000000                     9.574313  ...   \n",
              "4068              -0.379781                    10.495904  ...   \n",
              "4069               0.063297                    10.035109  ...   \n",
              "4070              -0.063297                     9.830310  ...   \n",
              "4071               0.189891                     9.267116  ...   \n",
              "\n",
              "      sur_refl_b01_mean_sampling_year  sur_refl_b02_mean_sampling_year  \\\n",
              "0                            0.993475                         5.325402   \n",
              "1                            1.462511                         6.500071   \n",
              "2                            1.448291                         5.007077   \n",
              "3                            3.415498                         7.051043   \n",
              "4                            0.766395                         4.427772   \n",
              "...                               ...                              ...   \n",
              "4067                         1.882216                         5.455929   \n",
              "4068                         0.896233                         5.772513   \n",
              "4069                         1.897967                         5.833193   \n",
              "4070                         1.864824                         4.218080   \n",
              "4071                         1.265019                         4.733523   \n",
              "\n",
              "      sur_refl_b03_mean_sampling_year  sur_refl_b07_mean_sampling_year  \\\n",
              "0                            0.451301                         1.745556   \n",
              "1                            0.920910                         2.779175   \n",
              "2                            0.783456                         2.760517   \n",
              "3                            3.254072                         2.470158   \n",
              "4                            0.435566                         1.850968   \n",
              "...                               ...                              ...   \n",
              "4067                         1.254778                         2.523477   \n",
              "4068                         0.488405                         1.918246   \n",
              "4069                         1.269962                         2.300805   \n",
              "4070                         1.571136                         2.026585   \n",
              "4071                         1.633587                         1.312129   \n",
              "\n",
              "      evi_std_sampling_year  ndvi_std_sampling_year  \\\n",
              "0                  2.630581                2.108425   \n",
              "1                  3.011922                2.334963   \n",
              "2                  3.152196                2.599836   \n",
              "3                  3.015534                3.483676   \n",
              "4                  0.986264                0.818765   \n",
              "...                     ...                     ...   \n",
              "4067               3.329145                2.776160   \n",
              "4068               1.575155                1.348567   \n",
              "4069               3.321435                3.008114   \n",
              "4070               1.433068                1.703661   \n",
              "4071               2.671821                3.410343   \n",
              "\n",
              "      sur_refl_b01_std_sampling_year  sur_refl_b02_std_sampling_year  \\\n",
              "0                           0.305514                        1.415581   \n",
              "1                           0.571525                        1.506528   \n",
              "2                           0.494036                        1.868481   \n",
              "3                           3.226003                        3.693238   \n",
              "4                           0.131520                        0.717390   \n",
              "...                              ...                             ...   \n",
              "4067                        0.996328                        1.938827   \n",
              "4068                        0.180650                        0.929421   \n",
              "4069                        1.666019                        2.365321   \n",
              "4070                        1.352026                        1.834768   \n",
              "4071                        1.117135                        1.500928   \n",
              "\n",
              "      sur_refl_b03_std_sampling_year  sur_refl_b07_std_sampling_year  \n",
              "0                           0.098543                        1.884701  \n",
              "1                           0.237635                        3.647155  \n",
              "2                           0.209467                        4.659081  \n",
              "3                           3.027899                        3.707922  \n",
              "4                           0.044915                        1.043187  \n",
              "...                              ...                             ...  \n",
              "4067                        1.002899                        3.330368  \n",
              "4068                        0.087757                        1.522765  \n",
              "4069                        1.368605                        2.841489  \n",
              "4070                        1.346741                        1.844400  \n",
              "4071                        1.456470                        1.390138  \n",
              "\n",
              "[4072 rows x 305 columns]"
            ],
            "text/html": [
              "\n",
              "  <div id=\"df-4f117939-3709-460a-8a44-eb15d0f83682\">\n",
              "    <div class=\"colab-df-container\">\n",
              "      <div>\n",
              "<style scoped>\n",
              "    .dataframe tbody tr th:only-of-type {\n",
              "        vertical-align: middle;\n",
              "    }\n",
              "\n",
              "    .dataframe tbody tr th {\n",
              "        vertical-align: top;\n",
              "    }\n",
              "\n",
              "    .dataframe thead th {\n",
              "        text-align: right;\n",
              "    }\n",
              "</style>\n",
              "<table border=\"1\" class=\"dataframe\">\n",
              "  <thead>\n",
              "    <tr style=\"text-align: right;\">\n",
              "      <th></th>\n",
              "      <th>year</th>\n",
              "      <th>dem_nasa_dem30</th>\n",
              "      <th>dem_merit</th>\n",
              "      <th>dem_gmted</th>\n",
              "      <th>dem_srtm90_v4</th>\n",
              "      <th>dem_nasa_srtm30</th>\n",
              "      <th>dem_usgs_ned</th>\n",
              "      <th>terrain_topo_div_alos_constant</th>\n",
              "      <th>terrain_mtpi_alos_AVE</th>\n",
              "      <th>terrain_chili_alos_constant</th>\n",
              "      <th>...</th>\n",
              "      <th>sur_refl_b01_mean_sampling_year</th>\n",
              "      <th>sur_refl_b02_mean_sampling_year</th>\n",
              "      <th>sur_refl_b03_mean_sampling_year</th>\n",
              "      <th>sur_refl_b07_mean_sampling_year</th>\n",
              "      <th>evi_std_sampling_year</th>\n",
              "      <th>ndvi_std_sampling_year</th>\n",
              "      <th>sur_refl_b01_std_sampling_year</th>\n",
              "      <th>sur_refl_b02_std_sampling_year</th>\n",
              "      <th>sur_refl_b03_std_sampling_year</th>\n",
              "      <th>sur_refl_b07_std_sampling_year</th>\n",
              "    </tr>\n",
              "  </thead>\n",
              "  <tbody>\n",
              "    <tr>\n",
              "      <th>0</th>\n",
              "      <td>8618.215115</td>\n",
              "      <td>0.029204</td>\n",
              "      <td>0.033610</td>\n",
              "      <td>0.037983</td>\n",
              "      <td>0.043788</td>\n",
              "      <td>0.035037</td>\n",
              "      <td>0.031148</td>\n",
              "      <td>0.482900</td>\n",
              "      <td>-0.253187</td>\n",
              "      <td>9.471914</td>\n",
              "      <td>...</td>\n",
              "      <td>0.993475</td>\n",
              "      <td>5.325402</td>\n",
              "      <td>0.451301</td>\n",
              "      <td>1.745556</td>\n",
              "      <td>2.630581</td>\n",
              "      <td>2.108425</td>\n",
              "      <td>0.305514</td>\n",
              "      <td>1.415581</td>\n",
              "      <td>0.098543</td>\n",
              "      <td>1.884701</td>\n",
              "    </tr>\n",
              "    <tr>\n",
              "      <th>1</th>\n",
              "      <td>8618.215115</td>\n",
              "      <td>0.321246</td>\n",
              "      <td>0.324029</td>\n",
              "      <td>0.318470</td>\n",
              "      <td>0.319653</td>\n",
              "      <td>0.319716</td>\n",
              "      <td>0.323267</td>\n",
              "      <td>0.111313</td>\n",
              "      <td>0.000000</td>\n",
              "      <td>11.007900</td>\n",
              "      <td>...</td>\n",
              "      <td>1.462511</td>\n",
              "      <td>6.500071</td>\n",
              "      <td>0.920910</td>\n",
              "      <td>2.779175</td>\n",
              "      <td>3.011922</td>\n",
              "      <td>2.334963</td>\n",
              "      <td>0.571525</td>\n",
              "      <td>1.506528</td>\n",
              "      <td>0.237635</td>\n",
              "      <td>3.647155</td>\n",
              "    </tr>\n",
              "    <tr>\n",
              "      <th>2</th>\n",
              "      <td>8618.215115</td>\n",
              "      <td>0.091993</td>\n",
              "      <td>0.092342</td>\n",
              "      <td>0.096418</td>\n",
              "      <td>0.091955</td>\n",
              "      <td>0.091973</td>\n",
              "      <td>0.093509</td>\n",
              "      <td>0.131412</td>\n",
              "      <td>0.000000</td>\n",
              "      <td>10.751902</td>\n",
              "      <td>...</td>\n",
              "      <td>1.448291</td>\n",
              "      <td>5.007077</td>\n",
              "      <td>0.783456</td>\n",
              "      <td>2.760517</td>\n",
              "      <td>3.152196</td>\n",
              "      <td>2.599836</td>\n",
              "      <td>0.494036</td>\n",
              "      <td>1.868481</td>\n",
              "      <td>0.209467</td>\n",
              "      <td>4.659081</td>\n",
              "    </tr>\n",
              "    <tr>\n",
              "      <th>3</th>\n",
              "      <td>8618.215115</td>\n",
              "      <td>0.858604</td>\n",
              "      <td>0.859807</td>\n",
              "      <td>0.853149</td>\n",
              "      <td>0.861166</td>\n",
              "      <td>0.852576</td>\n",
              "      <td>0.859220</td>\n",
              "      <td>0.620420</td>\n",
              "      <td>-0.379781</td>\n",
              "      <td>8.499123</td>\n",
              "      <td>...</td>\n",
              "      <td>3.415498</td>\n",
              "      <td>7.051043</td>\n",
              "      <td>3.254072</td>\n",
              "      <td>2.470158</td>\n",
              "      <td>3.015534</td>\n",
              "      <td>3.483676</td>\n",
              "      <td>3.226003</td>\n",
              "      <td>3.693238</td>\n",
              "      <td>3.027899</td>\n",
              "      <td>3.707922</td>\n",
              "    </tr>\n",
              "    <tr>\n",
              "      <th>4</th>\n",
              "      <td>8618.215115</td>\n",
              "      <td>0.166464</td>\n",
              "      <td>0.166078</td>\n",
              "      <td>0.168000</td>\n",
              "      <td>0.175152</td>\n",
              "      <td>0.172267</td>\n",
              "      <td>0.161632</td>\n",
              "      <td>0.495301</td>\n",
              "      <td>0.316484</td>\n",
              "      <td>11.059099</td>\n",
              "      <td>...</td>\n",
              "      <td>0.766395</td>\n",
              "      <td>4.427772</td>\n",
              "      <td>0.435566</td>\n",
              "      <td>1.850968</td>\n",
              "      <td>0.986264</td>\n",
              "      <td>0.818765</td>\n",
              "      <td>0.131520</td>\n",
              "      <td>0.717390</td>\n",
              "      <td>0.044915</td>\n",
              "      <td>1.043187</td>\n",
              "    </tr>\n",
              "    <tr>\n",
              "      <th>...</th>\n",
              "      <td>...</td>\n",
              "      <td>...</td>\n",
              "      <td>...</td>\n",
              "      <td>...</td>\n",
              "      <td>...</td>\n",
              "      <td>...</td>\n",
              "      <td>...</td>\n",
              "      <td>...</td>\n",
              "      <td>...</td>\n",
              "      <td>...</td>\n",
              "      <td>...</td>\n",
              "      <td>...</td>\n",
              "      <td>...</td>\n",
              "      <td>...</td>\n",
              "      <td>...</td>\n",
              "      <td>...</td>\n",
              "      <td>...</td>\n",
              "      <td>...</td>\n",
              "      <td>...</td>\n",
              "      <td>...</td>\n",
              "      <td>...</td>\n",
              "    </tr>\n",
              "    <tr>\n",
              "      <th>4067</th>\n",
              "      <td>8618.215115</td>\n",
              "      <td>1.848626</td>\n",
              "      <td>1.846818</td>\n",
              "      <td>1.852386</td>\n",
              "      <td>1.846399</td>\n",
              "      <td>1.848222</td>\n",
              "      <td>1.847150</td>\n",
              "      <td>0.108572</td>\n",
              "      <td>0.000000</td>\n",
              "      <td>9.574313</td>\n",
              "      <td>...</td>\n",
              "      <td>1.882216</td>\n",
              "      <td>5.455929</td>\n",
              "      <td>1.254778</td>\n",
              "      <td>2.523477</td>\n",
              "      <td>3.329145</td>\n",
              "      <td>2.776160</td>\n",
              "      <td>0.996328</td>\n",
              "      <td>1.938827</td>\n",
              "      <td>1.002899</td>\n",
              "      <td>3.330368</td>\n",
              "    </tr>\n",
              "    <tr>\n",
              "      <th>4068</th>\n",
              "      <td>8618.215115</td>\n",
              "      <td>0.379655</td>\n",
              "      <td>0.384047</td>\n",
              "      <td>0.404662</td>\n",
              "      <td>0.380957</td>\n",
              "      <td>0.379572</td>\n",
              "      <td>0.372243</td>\n",
              "      <td>0.659676</td>\n",
              "      <td>-0.379781</td>\n",
              "      <td>10.495904</td>\n",
              "      <td>...</td>\n",
              "      <td>0.896233</td>\n",
              "      <td>5.772513</td>\n",
              "      <td>0.488405</td>\n",
              "      <td>1.918246</td>\n",
              "      <td>1.575155</td>\n",
              "      <td>1.348567</td>\n",
              "      <td>0.180650</td>\n",
              "      <td>0.929421</td>\n",
              "      <td>0.087757</td>\n",
              "      <td>1.522765</td>\n",
              "    </tr>\n",
              "    <tr>\n",
              "      <th>4069</th>\n",
              "      <td>8618.215115</td>\n",
              "      <td>0.397177</td>\n",
              "      <td>0.397125</td>\n",
              "      <td>0.392975</td>\n",
              "      <td>0.395553</td>\n",
              "      <td>0.394171</td>\n",
              "      <td>0.396734</td>\n",
              "      <td>0.488402</td>\n",
              "      <td>0.063297</td>\n",
              "      <td>10.035109</td>\n",
              "      <td>...</td>\n",
              "      <td>1.897967</td>\n",
              "      <td>5.833193</td>\n",
              "      <td>1.269962</td>\n",
              "      <td>2.300805</td>\n",
              "      <td>3.321435</td>\n",
              "      <td>3.008114</td>\n",
              "      <td>1.666019</td>\n",
              "      <td>2.365321</td>\n",
              "      <td>1.368605</td>\n",
              "      <td>2.841489</td>\n",
              "    </tr>\n",
              "    <tr>\n",
              "      <th>4070</th>\n",
              "      <td>8618.215115</td>\n",
              "      <td>2.010709</td>\n",
              "      <td>2.011875</td>\n",
              "      <td>2.016003</td>\n",
              "      <td>2.014253</td>\n",
              "      <td>2.014649</td>\n",
              "      <td>2.010559</td>\n",
              "      <td>0.624724</td>\n",
              "      <td>-0.063297</td>\n",
              "      <td>9.830310</td>\n",
              "      <td>...</td>\n",
              "      <td>1.864824</td>\n",
              "      <td>4.218080</td>\n",
              "      <td>1.571136</td>\n",
              "      <td>2.026585</td>\n",
              "      <td>1.433068</td>\n",
              "      <td>1.703661</td>\n",
              "      <td>1.352026</td>\n",
              "      <td>1.834768</td>\n",
              "      <td>1.346741</td>\n",
              "      <td>1.844400</td>\n",
              "    </tr>\n",
              "    <tr>\n",
              "      <th>4071</th>\n",
              "      <td>8618.215115</td>\n",
              "      <td>0.297883</td>\n",
              "      <td>0.292163</td>\n",
              "      <td>0.299479</td>\n",
              "      <td>0.299219</td>\n",
              "      <td>0.299278</td>\n",
              "      <td>0.291139</td>\n",
              "      <td>0.279268</td>\n",
              "      <td>0.189891</td>\n",
              "      <td>9.267116</td>\n",
              "      <td>...</td>\n",
              "      <td>1.265019</td>\n",
              "      <td>4.733523</td>\n",
              "      <td>1.633587</td>\n",
              "      <td>1.312129</td>\n",
              "      <td>2.671821</td>\n",
              "      <td>3.410343</td>\n",
              "      <td>1.117135</td>\n",
              "      <td>1.500928</td>\n",
              "      <td>1.456470</td>\n",
              "      <td>1.390138</td>\n",
              "    </tr>\n",
              "  </tbody>\n",
              "</table>\n",
              "<p>4072 rows × 305 columns</p>\n",
              "</div>\n",
              "      <button class=\"colab-df-convert\" onclick=\"convertToInteractive('df-4f117939-3709-460a-8a44-eb15d0f83682')\"\n",
              "              title=\"Convert this dataframe to an interactive table.\"\n",
              "              style=\"display:none;\">\n",
              "        \n",
              "  <svg xmlns=\"http://www.w3.org/2000/svg\" height=\"24px\"viewBox=\"0 0 24 24\"\n",
              "       width=\"24px\">\n",
              "    <path d=\"M0 0h24v24H0V0z\" fill=\"none\"/>\n",
              "    <path d=\"M18.56 5.44l.94 2.06.94-2.06 2.06-.94-2.06-.94-.94-2.06-.94 2.06-2.06.94zm-11 1L8.5 8.5l.94-2.06 2.06-.94-2.06-.94L8.5 2.5l-.94 2.06-2.06.94zm10 10l.94 2.06.94-2.06 2.06-.94-2.06-.94-.94-2.06-.94 2.06-2.06.94z\"/><path d=\"M17.41 7.96l-1.37-1.37c-.4-.4-.92-.59-1.43-.59-.52 0-1.04.2-1.43.59L10.3 9.45l-7.72 7.72c-.78.78-.78 2.05 0 2.83L4 21.41c.39.39.9.59 1.41.59.51 0 1.02-.2 1.41-.59l7.78-7.78 2.81-2.81c.8-.78.8-2.07 0-2.86zM5.41 20L4 18.59l7.72-7.72 1.47 1.35L5.41 20z\"/>\n",
              "  </svg>\n",
              "      </button>\n",
              "      \n",
              "  <style>\n",
              "    .colab-df-container {\n",
              "      display:flex;\n",
              "      flex-wrap:wrap;\n",
              "      gap: 12px;\n",
              "    }\n",
              "\n",
              "    .colab-df-convert {\n",
              "      background-color: #E8F0FE;\n",
              "      border: none;\n",
              "      border-radius: 50%;\n",
              "      cursor: pointer;\n",
              "      display: none;\n",
              "      fill: #1967D2;\n",
              "      height: 32px;\n",
              "      padding: 0 0 0 0;\n",
              "      width: 32px;\n",
              "    }\n",
              "\n",
              "    .colab-df-convert:hover {\n",
              "      background-color: #E2EBFA;\n",
              "      box-shadow: 0px 1px 2px rgba(60, 64, 67, 0.3), 0px 1px 3px 1px rgba(60, 64, 67, 0.15);\n",
              "      fill: #174EA6;\n",
              "    }\n",
              "\n",
              "    [theme=dark] .colab-df-convert {\n",
              "      background-color: #3B4455;\n",
              "      fill: #D2E3FC;\n",
              "    }\n",
              "\n",
              "    [theme=dark] .colab-df-convert:hover {\n",
              "      background-color: #434B5C;\n",
              "      box-shadow: 0px 1px 3px 1px rgba(0, 0, 0, 0.15);\n",
              "      filter: drop-shadow(0px 1px 2px rgba(0, 0, 0, 0.3));\n",
              "      fill: #FFFFFF;\n",
              "    }\n",
              "  </style>\n",
              "\n",
              "      <script>\n",
              "        const buttonEl =\n",
              "          document.querySelector('#df-4f117939-3709-460a-8a44-eb15d0f83682 button.colab-df-convert');\n",
              "        buttonEl.style.display =\n",
              "          google.colab.kernel.accessAllowed ? 'block' : 'none';\n",
              "\n",
              "        async function convertToInteractive(key) {\n",
              "          const element = document.querySelector('#df-4f117939-3709-460a-8a44-eb15d0f83682');\n",
              "          const dataTable =\n",
              "            await google.colab.kernel.invokeFunction('convertToInteractive',\n",
              "                                                     [key], {});\n",
              "          if (!dataTable) return;\n",
              "\n",
              "          const docLinkHtml = 'Like what you see? Visit the ' +\n",
              "            '<a target=\"_blank\" href=https://colab.research.google.com/notebooks/data_table.ipynb>data table notebook</a>'\n",
              "            + ' to learn more about interactive tables.';\n",
              "          element.innerHTML = '';\n",
              "          dataTable['output_type'] = 'display_data';\n",
              "          await google.colab.output.renderOutput(dataTable, element);\n",
              "          const docLink = document.createElement('div');\n",
              "          docLink.innerHTML = docLinkHtml;\n",
              "          element.appendChild(docLink);\n",
              "        }\n",
              "      </script>\n",
              "    </div>\n",
              "  </div>\n",
              "  "
            ]
          },
          "metadata": {},
          "execution_count": 9
        }
      ]
    },
    {
      "cell_type": "markdown",
      "source": [
        "## Dimensionality Reduction"
      ],
      "metadata": {
        "id": "yHV482jEB7G0"
      }
    },
    {
      "cell_type": "code",
      "source": [
        "pca = PCA(n_components=50)\n",
        "pca.fit(X_train)\n",
        "\n",
        "X_train = pca.transform(X_train)\n",
        "X_test = pca.transform(X_test)\n",
        "\n",
        "print('Shape of X_train: ',X_train.shape)\n",
        "print('Shape of X_test: ',X_test.shape)"
      ],
      "metadata": {
        "colab": {
          "base_uri": "https://localhost:8080/"
        },
        "id": "L2raa7D3Aed9",
        "outputId": "382644a5-6846-4d14-8438-e68f82ac57ff"
      },
      "execution_count": 10,
      "outputs": [
        {
          "output_type": "stream",
          "name": "stdout",
          "text": [
            "Shape of X_train:  (4072, 50)\n",
            "Shape of X_test:  (1019, 50)\n"
          ]
        }
      ]
    },
    {
      "cell_type": "markdown",
      "source": [
        "PCA (Principle Component Analysis) algorithm  will projecting data points from one \"Dth Dimensional Space\" to another \"Dth Dimensional Space\" in order to reduce the dimensionality of the data.\n",
        "\n",
        "The PCA algorithm will attempt to determine the principal components that have orthogonal dimensions and produce the \"Highest Variance\" of the data after projection from a higher dimensional."
      ],
      "metadata": {
        "id": "ANjIvEVQ5Dtj"
      }
    },
    {
      "cell_type": "markdown",
      "source": [
        "# Model Training"
      ],
      "metadata": {
        "id": "N7xpMbHVCFTz"
      }
    },
    {
      "cell_type": "markdown",
      "source": [
        "### Linear Regression"
      ],
      "metadata": {
        "id": "zIixRZCPNvyN"
      }
    },
    {
      "cell_type": "code",
      "source": [
        "model_1 = LinearRegression()\n",
        "model_1.fit(X_train,y_train)"
      ],
      "metadata": {
        "colab": {
          "base_uri": "https://localhost:8080/"
        },
        "id": "LG9tHrP0AegH",
        "outputId": "18fddd33-85ba-4ccf-c05d-cb080163cc47"
      },
      "execution_count": 15,
      "outputs": [
        {
          "output_type": "execute_result",
          "data": {
            "text/plain": [
              "LinearRegression()"
            ]
          },
          "metadata": {},
          "execution_count": 15
        }
      ]
    },
    {
      "cell_type": "markdown",
      "source": [
        "### KNN"
      ],
      "metadata": {
        "id": "p7gbBQUONqUC"
      }
    },
    {
      "cell_type": "code",
      "source": [
        "parameter_grids = {'n_neighbors' : np.arange(5,20,5),\n",
        "                   'weights': ['uniform', 'distance'],\n",
        "                  'leaf_size' : np.arange(2,20,2),\n",
        "                   'p' : [1,2]}\n",
        "\n",
        "model_2 = GridSearchCV(KNeighborsRegressor(n_jobs=-1),\n",
        "                      param_grid=parameter_grids,\n",
        "                      scoring='r2',\n",
        "                      cv=5,\n",
        "                      error_score='raise',\n",
        "                      n_jobs=-1)\n",
        "\n",
        "model_2.fit(X_train,y_train)\n",
        "\n",
        "print('r2 Score of KNeighborsRegressor = {:.2f}'.format(model_2.best_score_))\n",
        "print('Best found Hyperparameter of KNeighborsRegressor = {}'.format(model_2.best_params_))"
      ],
      "metadata": {
        "colab": {
          "base_uri": "https://localhost:8080/"
        },
        "id": "h58-DynMBC6C",
        "outputId": "01ab835b-f841-4419-a8e8-5dadc9a9d137"
      },
      "execution_count": 27,
      "outputs": [
        {
          "output_type": "stream",
          "name": "stdout",
          "text": [
            "r2 Score of KNeighborsRegressor = 0.38\n",
            "Best found Hyperparameter of KNeighborsRegressor = {'leaf_size': 2, 'n_neighbors': 10, 'p': 1, 'weights': 'distance'}\n"
          ]
        }
      ]
    },
    {
      "cell_type": "markdown",
      "source": [
        "### Decision Tree Regressor"
      ],
      "metadata": {
        "id": "8SlWg8EwNnlH"
      }
    },
    {
      "cell_type": "code",
      "source": [
        "parameter_grids = {'criterion': ['squared_error', 'friedman_mse', 'absolute_error','poisson'],\n",
        "                  'max_depth' : range(1,30,3), #[1,4,7...]\n",
        "                  'max_features':[0.25,0.5,0.75,1.0],\n",
        "                  'min_samples_split' : range(2,20,3)}\n",
        "\n",
        "model_3 = GridSearchCV(DecisionTreeRegressor(random_state=42),\n",
        "                      param_grid=parameter_grids,\n",
        "                      scoring='r2',\n",
        "                      cv=6,\n",
        "                      n_jobs=-1)\n",
        "\n",
        "model_3.fit(X_train,y_train)\n",
        "\n",
        "print('r2 Score of DecisionTreeRegressor = {:.2f}'.format(model_3.best_score_))\n",
        "print('Best found Hyperparameter of DecisionTreeRegressor = {}'.format(model_3.best_params_))"
      ],
      "metadata": {
        "colab": {
          "base_uri": "https://localhost:8080/"
        },
        "id": "jmuwEdDUCop8",
        "outputId": "fd4a8cf1-581f-4149-e3ce-27c26981f308"
      },
      "execution_count": 41,
      "outputs": [
        {
          "output_type": "stream",
          "name": "stdout",
          "text": [
            "r2 Score of DecisionTreeRegressor = 0.24\n",
            "Best found Hyperparameter of DecisionTreeRegressor = {'criterion': 'squared_error', 'max_depth': 4, 'max_features': 0.5, 'min_samples_split': 17}\n"
          ]
        }
      ]
    },
    {
      "cell_type": "markdown",
      "source": [
        "### Random Forest Regressor"
      ],
      "metadata": {
        "id": "2Yz3S8ezNhC0"
      }
    },
    {
      "cell_type": "code",
      "source": [
        "parameter_grids = {'n_estimators' : range(100,200,50),\n",
        "                   'criterion': ['squared_error', 'friedman_mse', 'absolute_error','poisson'],\n",
        "                  'max_depth' : range(2,20,3), \n",
        "                  'max_features':[0.25,0.5,0.75,1.0],\n",
        "                  'min_samples_split' : range(2,15,3)}\n",
        "\n",
        "model_4 = RandomizedSearchCV(RandomForestRegressor(random_state=42, n_jobs=-1),\n",
        "                      param_distributions= parameter_grids,\n",
        "                      n_iter= 10,\n",
        "                      scoring='r2',\n",
        "                      error_score='raise',\n",
        "                      cv=5,\n",
        "                      n_jobs=-1)\n",
        "\n",
        "model_4.fit(X_train,y_train)\n",
        "\n",
        "print('r2 Score of RandomForestRegressor = {:.2f}'.format(model_4.best_score_))\n",
        "print('Best found Hyperparameter of RandomForestRegressor = {}'.format(model_4.best_params_))"
      ],
      "metadata": {
        "colab": {
          "base_uri": "https://localhost:8080/"
        },
        "id": "efa2uLhoCzxq",
        "outputId": "19c4e974-dfce-4c18-ff1a-16e794bc30e3"
      },
      "execution_count": 22,
      "outputs": [
        {
          "output_type": "stream",
          "name": "stdout",
          "text": [
            "r2 Score of RandomForestRegressor = 0.38\n",
            "Best found Hyperparameter of RandomForestRegressor = {'n_estimators': 100, 'min_samples_split': 2, 'max_features': 0.75, 'max_depth': 14, 'criterion': 'friedman_mse'}\n"
          ]
        }
      ]
    },
    {
      "cell_type": "markdown",
      "source": [
        "### AdaBoost Regressor"
      ],
      "metadata": {
        "id": "vUmTMX5qQPtF"
      }
    },
    {
      "cell_type": "code",
      "source": [
        "parameter_grids = {'n_estimators' : range(100,250,50),\n",
        "                   'loss': ['linear', 'square', 'exponential']\n",
        "                   }\n",
        "\n",
        "model_5 = GridSearchCV(AdaBoostRegressor(random_state=42),\n",
        "                      param_grid=parameter_grids,\n",
        "                      scoring='r2',\n",
        "                      error_score='raise',\n",
        "                      cv=6,\n",
        "                      n_jobs=-1)\n",
        "\n",
        "model_5.fit(X_train,y_train)\n",
        "\n",
        "print('r2 Score of AdaBoostRegressor = {:.2f}'.format(model_5.best_score_))\n",
        "print('Best found Hyperparameter of AdaBoostRegressor = {}'.format(model_5.best_params_))"
      ],
      "metadata": {
        "colab": {
          "base_uri": "https://localhost:8080/"
        },
        "id": "pQD_9PjoDAs9",
        "outputId": "b3c3565a-71b7-4004-c97d-7ce217319620"
      },
      "execution_count": 20,
      "outputs": [
        {
          "output_type": "stream",
          "name": "stdout",
          "text": [
            "r2 Score of AdaBoostRegressor = -0.37\n",
            "Best found Hyperparameter of AdaBoostRegressor = {'loss': 'square', 'n_estimators': 100}\n"
          ]
        }
      ]
    },
    {
      "cell_type": "markdown",
      "source": [
        "## SVM"
      ],
      "metadata": {
        "id": "HW6ScMieQ6c_"
      }
    },
    {
      "cell_type": "code",
      "source": [
        "parameter_grids = {'kernel' : ['linear', 'poly', 'rbf', 'sigmoid'],\n",
        "                   'C' : [0.01, 0.1, 10, 20, 30]\n",
        "                   }\n",
        "\n",
        "model_6 = GridSearchCV(SVR(),\n",
        "                      param_grid=parameter_grids,\n",
        "                      scoring='r2',\n",
        "                      error_score='raise',\n",
        "                      cv=6,\n",
        "                      n_jobs=-1)\n",
        "\n",
        "model_6.fit(X_train,y_train)\n",
        "\n",
        "print('r2 Score of SVM = {:.2f}'.format(model_6.best_score_))\n",
        "print('Best found Hyperparameter of SVM = {}'.format(model_6.best_params_))"
      ],
      "metadata": {
        "colab": {
          "base_uri": "https://localhost:8080/"
        },
        "id": "Y9MrhCujDFDm",
        "outputId": "23129696-d2e5-4d5a-b784-8e3943e56ddb"
      },
      "execution_count": 49,
      "outputs": [
        {
          "output_type": "stream",
          "name": "stdout",
          "text": [
            "r2 Score of SVM = 0.35\n",
            "Best found Hyperparameter of SVM = {'C': 30, 'kernel': 'rbf'}\n"
          ]
        }
      ]
    },
    {
      "cell_type": "code",
      "source": [],
      "metadata": {
        "id": "LHz9iP8FDaMR"
      },
      "execution_count": null,
      "outputs": []
    },
    {
      "cell_type": "markdown",
      "source": [
        "# Model Evolution"
      ],
      "metadata": {
        "id": "3ec-Lo7ZR-ud"
      }
    },
    {
      "cell_type": "markdown",
      "source": [
        "### Linear Regression Evaluation"
      ],
      "metadata": {
        "id": "XpkDafgc0AYf"
      }
    },
    {
      "cell_type": "code",
      "source": [
        "y_predict_1 = model_1.predict(X_test)\n",
        "\n",
        "#coefficient of determination: 1 >> perfect prediction\n",
        "r2_score_linear = r2_score(y_test, y_predict_1)\n",
        "print('r2_score for Linear Regression: ', round(r2_score_linear,3)*100, '%')\n",
        "\n",
        "mse =  mean_absolute_error(y_test, y_predict_1)\n",
        "print('MSE for Linear Regression: ', round(mse,3))\n",
        "\n",
        "rmse= np.sqrt(mse)\n",
        "print('RMSE for Linear Regression: ', round(rmse,3))\n",
        "\n",
        "mae = mean_squared_error(y_test, y_predict_1)\n",
        "print('MAE for Linear Regression: ', round(mae,3))\n",
        "\n",
        "# variance score: 1 >> perfect prediction\n",
        "print('Variance score: {}'.format(model_1.score(X_test, y_test)))\n",
        "\n",
        "print('regression coefficients: ', model_1.coef_)  "
      ],
      "metadata": {
        "colab": {
          "base_uri": "https://localhost:8080/"
        },
        "id": "MWFEHfe9QyTa",
        "outputId": "0a88ad15-900d-4e41-8c80-4c01205be84b"
      },
      "execution_count": 52,
      "outputs": [
        {
          "output_type": "stream",
          "name": "stdout",
          "text": [
            "r2_score for Linear Regression:  38.4 %\n",
            "MSE for Linear Regression:  30.807\n",
            "RMSE for Linear Regression:  5.55\n",
            "MAE for Linear Regression:  2550.218\n",
            "Variance score: 0.3835295050056068\n",
            "regression coefficients:  [-1.34619025 -3.93276268  2.16809812  1.56149711  2.34883695  3.82326638\n",
            "  1.73247043  2.67766307  1.77115933 -0.55764558 -1.73013856  0.79469288\n",
            " -4.25792096  0.78624236 -2.34424967  0.21324895 -0.22367645 -5.14971027\n",
            "  0.9419732   1.1384906  -0.5525514  -0.37882051 -0.98103261  2.42446199\n",
            " -1.92942949 -3.25547578  1.48335753  0.86392854  0.27781309  3.99810284\n",
            " -2.81860806 -3.18987273 -3.78217982  3.8002607   2.59968483 -2.02102956\n",
            "  1.73202636  4.14034949  2.62016293 -2.35095597 -1.59072161  4.27492624\n",
            " -2.94891319  1.00731938  0.09513651  5.36875837  2.54943854  3.29462375\n",
            " -0.17746188 -2.94540543]\n"
          ]
        }
      ]
    },
    {
      "cell_type": "markdown",
      "source": [
        "### KNN Evaluation"
      ],
      "metadata": {
        "id": "owRiPFhIz7QQ"
      }
    },
    {
      "cell_type": "code",
      "source": [
        "y_predict_2 = model_2.predict(X_test)\n",
        "\n",
        "#coefficient of determination: 1 >> perfect prediction\n",
        "r2_score_knn = r2_score(y_test, y_predict_2)\n",
        "print('r2_score for KNN Regression: ', round(r2_score_knn,3)*100, '%')\n",
        "\n",
        "mse =  mean_absolute_error(y_test, y_predict_2)\n",
        "print('MSE for KNN Regression: ', round(mse,3))\n",
        "\n",
        "rmse= np.sqrt(mse)\n",
        "print('RMSE for KNN Regression: ', round(rmse,3))\n",
        "\n",
        "mae = mean_squared_error(y_test, y_predict_2)\n",
        "print('MAE for KNN Regression: ', round(mae,3))"
      ],
      "metadata": {
        "colab": {
          "base_uri": "https://localhost:8080/"
        },
        "id": "AklH-gwwrePu",
        "outputId": "ad4eaa75-aa91-440c-d726-2cf3d984aa40"
      },
      "execution_count": 43,
      "outputs": [
        {
          "output_type": "stream",
          "name": "stdout",
          "text": [
            "r2_score for KNN Regression:  43.0 %\n",
            "MSE for KNN Regression:  28.263\n",
            "RMSE for KNN Regression:  5.316\n",
            "MAE for KNN Regression:  2358.009\n"
          ]
        }
      ]
    },
    {
      "cell_type": "markdown",
      "source": [
        "### RandomForest Evaluation"
      ],
      "metadata": {
        "id": "-yyUltqJ0Nng"
      }
    },
    {
      "cell_type": "code",
      "source": [
        "y_predict_4 = model_4.predict(X_test)\n",
        "\n",
        "#coefficient of determination: 1 >> perfect prediction\n",
        "r2_score_RandomForest = r2_score(y_test, y_predict_4)\n",
        "print('r2_score for RandomForest: ', round(r2_score_RandomForest,3)*100, '%')\n",
        "\n",
        "mse =  mean_absolute_error(y_test, y_predict_4)\n",
        "print('MSE for RandomForest: ', round(mse,3))\n",
        "\n",
        "rmse= np.sqrt(mse)\n",
        "print('RMSE for RandomForest: ', round(rmse,3))\n",
        "\n",
        "mae = mean_squared_error(y_test, y_predict_4)\n",
        "print('MAE for RandomForest: ', round(mae,3))"
      ],
      "metadata": {
        "colab": {
          "base_uri": "https://localhost:8080/"
        },
        "id": "8A56m1c4rebp",
        "outputId": "4f6573cb-eff5-455e-ce10-16e5139aae93"
      },
      "execution_count": 46,
      "outputs": [
        {
          "output_type": "stream",
          "name": "stdout",
          "text": [
            "r2_score for RandomForest:  42.0 %\n",
            "MSE for RandomForest:  29.941\n",
            "RMSE for RandomForest:  5.472\n",
            "MAE for RandomForest:  2401.411\n"
          ]
        }
      ]
    },
    {
      "cell_type": "markdown",
      "source": [
        "### SVM Evaluation "
      ],
      "metadata": {
        "id": "jrsMY3kU0aKp"
      }
    },
    {
      "cell_type": "code",
      "source": [
        "y_predict_6 = model_6.predict(X_test)\n",
        "\n",
        "#coefficient of determination: 1 >> perfect prediction\n",
        "r2_score_SVM = r2_score(y_test, y_predict_6)\n",
        "print('r2_score for SVM: ', round(r2_score_SVM,3)*100, '%')\n",
        "\n",
        "mse =  mean_absolute_error(y_test, y_predict_6)\n",
        "print('MSE for SVM: ', round(mse,3))\n",
        "\n",
        "rmse= np.sqrt(mse)\n",
        "print('RMSE for SVM: ', round(rmse,3))\n",
        "\n",
        "mae = mean_squared_error(y_test, y_predict_6)\n",
        "print('MAE for SVM: ', round(mae,3))"
      ],
      "metadata": {
        "colab": {
          "base_uri": "https://localhost:8080/"
        },
        "id": "U6ZBj-tmsm5X",
        "outputId": "e2be68e1-183d-4241-d7ca-abd514b2d83b"
      },
      "execution_count": 50,
      "outputs": [
        {
          "output_type": "stream",
          "name": "stdout",
          "text": [
            "r2_score for SVM:  37.8 %\n",
            "MSE for SVM:  26.665\n",
            "RMSE for SVM:  5.164\n",
            "MAE for SVM:  2571.679\n"
          ]
        }
      ]
    },
    {
      "cell_type": "markdown",
      "source": [
        "## Visualization "
      ],
      "metadata": {
        "id": "-R--vEN30csA"
      }
    },
    {
      "cell_type": "code",
      "source": [
        "# Plot outputs\n",
        "plt.plot(X_test, y_test, color=\"blue\", ls=\"none\", marker='.', ms=12)\n",
        "plt.plot(X_test, y_predict_1, color=\"blue\", linewidth=3)\n",
        "\n",
        "\n",
        "plt.xticks(())\n",
        "plt.yticks(())\n",
        "\n",
        "plt.show()"
      ],
      "metadata": {
        "colab": {
          "base_uri": "https://localhost:8080/",
          "height": 252
        },
        "id": "jMNYWBA4WZfk",
        "outputId": "cdd35e49-88b3-49dd-a197-c3950c757c99"
      },
      "execution_count": 56,
      "outputs": [
        {
          "output_type": "display_data",
          "data": {
            "text/plain": [
              "<Figure size 432x288 with 1 Axes>"
            ],
            "image/png": "[encoded data removed]"
          },
          "metadata": {}
        }
      ]
    },
    {
      "cell_type": "markdown",
      "source": [
        "# Report"
      ],
      "metadata": {
        "id": "CbHt2s8sybMl"
      }
    },
    {
      "cell_type": "markdown",
      "source": [
        "***SVM***\n",
        "\n",
        "MSE for SVM:  26.665\n",
        "\n",
        "RMSE for SVM:  5.164\n",
        "\n",
        "\n",
        "***KNN***\n",
        "\n",
        "MSE for KNN Regression:  28.263\n",
        "\n",
        "RMSE for KNN Regression:  5.316\n",
        "\n",
        "\n",
        "***RandomForest***\n",
        "\n",
        "MSE for RandomForest:  29.941\n",
        "\n",
        "RMSE for RandomForest:  5.472\n",
        "\n",
        "***Linear Regression***\n",
        "\n",
        "MSE for Linear Regression:  30.807\n",
        "\n",
        "RMSE for Linear Regression:  5.55"
      ],
      "metadata": {
        "id": "pVdYN0voyt5k"
      }
    },
    {
      "cell_type": "markdown",
      "source": [
        "As, Support Vector Machine gives us least MSE."
      ],
      "metadata": {
        "id": "eQQrw7-_zTmA"
      }
    },
    {
      "cell_type": "markdown",
      "source": [
        "# ***Conclusion***: \n",
        "\n",
        "Here I have carefully analyzed all this thing and I did experiment on all those points, and able achieve the best R2_score for that.\n",
        "\n",
        "Strength Weaknesses of Our Pipeline:- \n",
        "\n",
        "   **Strength** >>\n",
        "        Here we have used all the techniques which generalize our model for all the data points.\n",
        "        We permform operations like \n",
        "        \"Standardization on the data so that they are in same range\"\n",
        "            \n",
        "            \"Dimensionality reduction Using PCA (Principle Component Analysis) so that we can have the features with Highest Variance\"\n",
        "            \n",
        "            \"We trained our model with different algorithms like (Linear Regression, KNN Regression, DecisionTreeRegressor, SVM, Adaboost)\"\n",
        "            \n",
        "            \"We performed the Hyper-Parameter tunning to optimize the model\"\n",
        "            \n",
        "            \"We evaluate our model using Test dataset for all the algorithm\"\n",
        "            \n",
        "            \"We got R2_score for each model\"\n",
        "            \n",
        "\n",
        "\n",
        "   **Weakness** >>\n",
        "           Here It has been obeserved data, we got the error of \"Irreducible Error\". Our model is perfectly designed, pipeline is perfectly fitted, but Our data has some issues. I tried to optimized the issues and successed in the some. But              below are the some observations that i would like to highlight here,\n",
        "           \n",
        "            \"Features are not Informative\"\n",
        "                  \n",
        "            \"Less data samples\"\n",
        "            \n",
        "            \"Less correlation between Independent and Dependant Variables\"\n",
        "          \n",
        "            \n",
        "Recommendation >> If our Domain Experty & Data Analyst team get the more data sampels then we could get the better performance for this pipeline."
      ],
      "metadata": {
        "id": "48TUWKpYCOMk"
      }
    }
  ]
}